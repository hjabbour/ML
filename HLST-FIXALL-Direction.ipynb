{
 "cells": [
  {
   "cell_type": "code",
   "execution_count": 1,
   "id": "d3661386",
   "metadata": {},
   "outputs": [],
   "source": [
    "import numpy as np \n",
    "import pandas as pd \n",
    "from datetime import date\n",
    "#Data Source (Pandas Data Reader)\n",
    "from pandas_datareader import data\n",
    "import requests \n",
    "import json\n",
    "from dateutil.relativedelta import relativedelta\n",
    "\n",
    "\n",
    "#Data Source(Pandas Data Reader)\n"
   ]
  },
  {
   "cell_type": "code",
   "execution_count": 2,
   "id": "21077b94",
   "metadata": {},
   "outputs": [],
   "source": [
    "## choose either white list or read from fix entries \n",
    "\n",
    "#fixentries= pd.read_csv('fixoneasy.csv')\n",
    "#fixentries= pd.read_csv('fixentries.csv')\n",
    "\n",
    "#fixentries\n",
    "#whitelist = []\n",
    "#whitelist = fixentries['Indicator'].array\n",
    "#whitelist[0]\n",
    "#final = pd.DataFrame(fixentries['Indicator']) \n",
    "#final.set_index('Indicator')\n",
    "\n"
   ]
  },
  {
   "cell_type": "code",
   "execution_count": 3,
   "id": "b4798a21",
   "metadata": {},
   "outputs": [],
   "source": [
    "alllist = 'GALA/USDT, ANT/USDT,IMX/USDT, MATIC/USDT, ZRX/USDT,  ALGO/USDT, BTC/USDT, ETH/USDT, AXS/USDT, SOL/USDT, MATIC/USDT, ADA/USDT, BNB/USDT, FIL/USDT, XRP/USDT, CVC/USDT, FTM/USDT, ICP/USDT, DOGE/USDT, XEC/USDT, IOTA/USDT, AVAX/USDT, DOT/USDT, LTC/USDT, EOS/USDT, IOST/USDT, STMX/USDT, FTT/USDT, TWT/USDT, ALICE/USDT, ATA/USDT, ETC/USDT, VET/USDT, SAND/USDT, LINK/USDT, THETA/USDT, SHIB/USDT, CHZ/USDT, LUNA/USDT, IOTX/USDT, TRX/USDT, TLM/USDT, BCH/USDT, REEF/USDT, CAKE/USDT, NEO/USDT, SLP/USDT, RVN/USDT, ATOM/USDT, SUSHI/USDT, ARDR/USDT, OMG/USDT, GRT/USDT, 1INCH/USDT, AAVE/USDT, C98/USDT, UNI/USDT, HBAR/USDT, CRV/USDT, DENT/USDT, MBOX/USDT, BTT/USDT, SRM/USDT, YFI/USDT, HOT/USDT, XLM/USDT, FIS/USDT, REQ/USDT, SXP/USDT, KSM/USDT, QNT/USDT, NEAR/USDT, COMP/USDT, QTUM/USDT, CHR/USDT, SC/USDT, XVS/USDT, ONT/USDT, COTI/USDT, NKN/USDT, RUNE/USDT, ANKR/USDT, MANA/USDT, CTXC/USDT, AR/USDT, RAY/USDT, BAKE/USDT, ARPA/USDT, XTZ/USDT, ZIL/USDT, ONG/USDT, ROSE/USDT, PNT/USDT, ALGO/USDT, MINA/USDT, WIN/USDT, AUDIO/USDT, STORJ/USDT, EPS/USDT, MDX/USDT, ZEC/USDT, ENJ/USDT, HIVE/USDT, TFUEL/USDT, WRX/USDT, SNX/USDT, SKL/USDT, LINA/USDT, DODO/USDT, UNFI/USDT, XEM/USDT, EGLD/USDT, ICX/USDT, WAVES/USDT, ONE/USDT, DASH/USDT, KAVA/USDT, SUPER/USDT, TKO/USDT, OGN/USDT, XMR/USDT, OCEAN/USDT, CELO/USDT, BAT/USDT, FUN/USDT, LRC/USDT, ALPHA/USDT, MASK/USDT, TRU/USDT, DNT/USDT, LIT/USDT, FET/USDT, GTC/USDT, CELR/USDT, DEXE/USDT, ZEN/USDT, WAXP/USDT, CTSI/USDT, HNT/USDT, YFII/USDT, BEL/USDT, ZRX/USDT, DEGO/USDT, RSR/USDT, COS/USDT, FLM/USDT, BAL/USDT, MFT/USDT, RLC/USDT, KNC/USDT, REN/USDT, INJ/USDT, FLOW/USDT, SFP/USDT, BAND/USDT, CTK/USDT, SUN/USDT, AKRO/USDT, XVG/USDT, NANO/USDT, STRAX/USDT, PUNDIX/USDT, TVK/USDT, MKR/USDT, CLV/USDT, TRB/USDT, ETHUP/USDT, KEEP/USDT, TCT/USDT, POND/USDT, LTO/USDT, ANT/USDT, TOMO/USDT, ACM/USDT, FIO/USDT, VITE/USDT, MBL/USDT, JST/USDT, MTL/USDT, UTK/USDT, BLZ/USDT, ORN/USDT, STPT/USDT, CFX/USDT, OM/USDT, PERP/USDT, MIR/USDT, STX/USDT, ERN/USDT, TUSD/USDT, PSG/USDT, NULS/USDT, OXT/USDT, REP/USDT, BNBUP/USDT, DATA/USDT, WAN/USDT, BURGER/USDT, RAMP/USDT, ATM/USDT, DGB/USDT, DIA/USDT, BEAM/USDT, UMA/USDT, ETHDOWN/USDT, CKB/USDT, TRIBE/USDT, FARM/USDT, BTCUP/USDT, BZRX/USDT, ALPACA/USDT, DOTUP/USDT, BTS/USDT, FOR/USDT, ADAUP/USDT, HARD/USDT, LSK/USDT, POLS/USDT, FORTH/USDT, TORN/USDT, VTHO/USDT, BTG/USDT, QUICK/USDT, FILUP/USDT, PAX/USDT, MITH/USDT, SUSHIUP/USDT, BTCDOWN/USDT, XRPDOWN/USDT, BNBDOWN/USDT, DUSK/USDT, XRPUP/USDT, WTC/USDT, DOCK/USDT, AUTO/USDT, BTCST/USDT, KLAY/USDT, WNXM/USDT, KEY/USDT, FILDOWN/USDT, NU/USDT, IRIS/USDT, KMD/USDT, TROY/USDT, WING/USDT, AION/USDT, PHA/USDT, SUSHIDOWN/USDT, EOSUP/USDT, LTCUP/USDT, GHST/USDT, PAXG/USDT, BNT/USDT, AVA/USDT, BADGER/USDT, PERL/USDT, COCOS/USDT, GXS/USDT, MDT/USDT, 1INCHUP/USDT, GTO/USDT, LINKUP/USDT, AAVEUP/USDT, FIRO/USDT, JUV/USDT, MLN/USDT, UNIUP/USDT, LPT/USDT, NMR/USDT, AAVEDOWN/USDT, 1INCHDOWN/USDT, ASR/USDT, OG/USDT, BAR/USDT, DREP/USDT, ADADOWN/USDT, BOND/USDT, DCR/USDT, DOTDOWN/USDT, GNO/USDT, NBS/USDT, SXPUP/USDT, EOSDOWN/USDT, YFIUP/USDT, RIF/USDT, LTCDOWN/USDT, XLMUP/USDT, YFIDOWN/USDT, LINKDOWN/USDT, TRXUP/USDT, BCHUP/USDT, XTZUP/USDT, SXPDOWN/USDT, UNIDOWN/USDT, XTZDOWN/USDT, BCHDOWN/USDT, TRXDOWN/USDT, XLMDOWN/USDT, SUSD/USDT'\n",
    "#whitelist = 'LINK/USDT, DOT/USDT'\n",
    "#whitelist =str(fixentries['Indicator'])\n",
    "\n",
    "startdate = '2020-01-01'\n",
    "enddate = pd.to_datetime('today')\n",
    "intervals = ['2h','4h','8h','12h','1d','3d']\n",
    "#intervals = ['8h']"
   ]
  },
  {
   "cell_type": "code",
   "execution_count": 4,
   "id": "591d4f61",
   "metadata": {},
   "outputs": [],
   "source": [
    "def FRSI(series, period=14):\n",
    "    delta = series.diff().dropna()\n",
    "    ups = delta * 0\n",
    "    downs = ups.copy()\n",
    "    ups[delta > 0] = delta[delta > 0]\n",
    "    downs[delta < 0] = -delta[delta < 0]\n",
    "    ups[ups.index[period-1]] = np.mean( ups[:period] ) #first value is sum of avg gains\n",
    "    ups = ups.drop(ups.index[:(period-1)])\n",
    "    downs[downs.index[period-1]] = np.mean( downs[:period] ) #first value is sum of avg losses\n",
    "    downs = downs.drop(downs.index[:(period-1)])\n",
    "    rs = ups.ewm(com=period-1,min_periods=0,adjust=False,ignore_na=False).mean() / \\\n",
    "         downs.ewm(com=period-1,min_periods=0,adjust=False,ignore_na=False).mean() \n",
    "    return 100 - (100 / (1 + rs))\n",
    "\n",
    "\n",
    "# calculating Stoch RSI (gives the same values as TradingView)\n",
    "# https://www.tradingview.com/wiki/Stochastic_RSI_(STOCH_RSI) \n",
    "def STRSIA(series, period=14, smoothK=3, smoothD=3):\n",
    "    # Calculate RSI \n",
    "    delta = series.diff().dropna()\n",
    "    ups = delta * 0\n",
    "    downs = ups.copy()\n",
    "    ups[delta > 0] = delta[delta > 0]\n",
    "    downs[delta < 0] = -delta[delta < 0]\n",
    "    ups[ups.index[period-1]] = np.mean( ups[:period] ) #first value is sum of avg gains\n",
    "    ups = ups.drop(ups.index[:(period-1)])\n",
    "    downs[downs.index[period-1]] = np.mean( downs[:period] ) #first value is sum of avg losses\n",
    "    downs = downs.drop(downs.index[:(period-1)])\n",
    "    rs = ups.ewm(com=period-1,min_periods=0,adjust=False,ignore_na=False).mean() / \\\n",
    "         downs.ewm(com=period-1,min_periods=0,adjust=False,ignore_na=False).mean() \n",
    "    rsi = 100 - 100 / (1 + rs)\n",
    "\n",
    "    # Calculate StochRSI \n",
    "    stochrsi  = (rsi - rsi.rolling(period).min()) / (rsi.rolling(period).max() - rsi.rolling(period).min())\n",
    "    stochrsi_K = stochrsi.rolling(smoothK).mean()\n",
    "    stochrsi_D = stochrsi_K.rolling(smoothD).mean()\n",
    "    return stochrsi, stochrsi_K, stochrsi_D"
   ]
  },
  {
   "cell_type": "code",
   "execution_count": 5,
   "id": "5e1e6ea2",
   "metadata": {
    "scrolled": false
   },
   "outputs": [
    {
     "ename": "NameError",
     "evalue": "name 'whitelist' is not defined",
     "output_type": "error",
     "traceback": [
      "\u001b[0;31m---------------------------------------------------------------------------\u001b[0m",
      "\u001b[0;31mNameError\u001b[0m                                 Traceback (most recent call last)",
      "\u001b[0;32m/var/folders/t3/7kfp7_l943j4z41f1p54xwdm0000gn/T/ipykernel_4017/3633695344.py\u001b[0m in \u001b[0;36m<module>\u001b[0;34m\u001b[0m\n\u001b[1;32m      2\u001b[0m \u001b[0marray\u001b[0m \u001b[0;34m=\u001b[0m \u001b[0malllist\u001b[0m\u001b[0;34m.\u001b[0m\u001b[0msplit\u001b[0m\u001b[0;34m(\u001b[0m\u001b[0;34m\",\"\u001b[0m\u001b[0;34m)\u001b[0m\u001b[0;34m\u001b[0m\u001b[0;34m\u001b[0m\u001b[0m\n\u001b[1;32m      3\u001b[0m \u001b[0;31m#array = whitelist\u001b[0m\u001b[0;34m\u001b[0m\u001b[0;34m\u001b[0m\u001b[0;34m\u001b[0m\u001b[0m\n\u001b[0;32m----> 4\u001b[0;31m \u001b[0marray\u001b[0m \u001b[0;34m=\u001b[0m \u001b[0mwhitelist\u001b[0m\u001b[0;34m\u001b[0m\u001b[0;34m\u001b[0m\u001b[0m\n\u001b[0m\u001b[1;32m      5\u001b[0m \u001b[0marray\u001b[0m\u001b[0;34m\u001b[0m\u001b[0;34m\u001b[0m\u001b[0m\n\u001b[1;32m      6\u001b[0m \u001b[0;34m\u001b[0m\u001b[0m\n",
      "\u001b[0;31mNameError\u001b[0m: name 'whitelist' is not defined"
     ]
    }
   ],
   "source": [
    "alllist=alllist.lstrip()\n",
    "array = alllist.split(\",\")\n",
    "#array = whitelist\n",
    "array = whitelist\n",
    "array\n",
    "\n",
    "wl = []\n",
    "bl = []\n",
    "blacklist = \"\"\n",
    "whitelist = \"\"\n",
    "symbols =[]\n",
    "\n",
    "for i in range(0 ,len(array)):\n",
    "    if (array[i].find('DOWN') != -1):\n",
    "        bl.append(str(array[i]).lstrip())\n",
    "        #print (\"Contains given substring \")\n",
    "        blacklist += str(array[i])\n",
    "    elif (array[i].find('UP') != -1):\n",
    "        bl.append(str(array[i]).lstrip())\n",
    "        #print (\"Contains given substring \")\n",
    "        blacklist += str(array[i])\n",
    "\n",
    "    else:\n",
    "        wl.append(str(array[i]).lstrip().replace(\"/\",\"\"))\n",
    "        whitelist +=str(array[i]).lstrip()\n",
    "        #print (\"Doesn't contains given substring\")\n",
    "    \n",
    "\n",
    "    \n",
    "#symbols to be used to get the prices from binance url\n",
    "symbols = np.array(wl)\n",
    "\n",
    "#print(intervals)\n",
    "## get the data \n",
    "import os\n",
    "\n",
    "live = pd.to_datetime('today')\n",
    "start = pd.to_datetime(startdate)\n",
    "end = pd.to_datetime(enddate)\n",
    "\n",
    "root_url = 'https://api.binance.com/api/v1/klines'\n",
    "#symbol = 'STEEMETH'\n",
    "#interval = '1d'\n",
    "#url = root_url + '?symbol=' + symbol + '&interval=' + interval\n",
    "#print(url)\n",
    "\n",
    "\n",
    "directory = 'BN-main'\n",
    "table = []\n",
    "interval = ''\n",
    "final = pd.DataFrame(symbols,columns =['Indicator'])\n",
    "#final.set_index('Indicator')\n",
    "\n",
    "for interval in intervals:\n",
    "    \n",
    "\n",
    "    for symbol in symbols:\n",
    "            url = root_url + '?symbol=' + symbol + '&interval=' + interval\n",
    "            data = json.loads(requests.get(url).text)\n",
    "            dflive = pd.DataFrame(data ,columns =['open_time',\n",
    "                  'o', 'h', 'l', 'c', 'v',\n",
    "                  'close_time', 'qav', 'num_trades',\n",
    "                  'taker_base_vol', 'taker_quote_vol', 'ignore'])\n",
    "            dflive.open_time = pd.to_datetime(dflive['open_time'],unit='ms')\n",
    "            dflive=dflive.loc[(dflive.open_time>start)]\n",
    "            \n",
    "            if dflive.size > 300 :\n",
    "                \n",
    "                \n",
    "                \n",
    "\n",
    "                dflive = dflive.astype ({'o': float ,'h':float,'l':float ,'c':float ,'v':float})\n",
    "                dflive['RSI'] = FRSI(dflive['c'])\n",
    "                dflive['STRSI'] = STRSIA(dflive['c'])[0]\n",
    "                dflive['STRSIK'] = STRSIA(dflive['c'])[1]\n",
    "                dflive['STRSID'] = STRSIA(dflive['c'])[2]\n",
    "\n",
    "\n",
    "\n",
    "                #print(dflive)\n",
    "\n",
    "\n",
    "                lastrow = dflive.iloc[-1]\n",
    "                beforelast = dflive.iloc[-2]\n",
    "                now = float(lastrow.c)\n",
    "                RSI = float(lastrow.RSI)\n",
    "                RSIM = float(beforelast.RSI)\n",
    "                STRSI = float(lastrow.STRSI)\n",
    "                STRSIK = float(lastrow.STRSIK)\n",
    "                STRSIKM = float(beforelast.STRSIK)\n",
    "                STRSID = float(lastrow.STRSID)\n",
    "                STRSIDM = float(beforelast.STRSID)\n",
    "\n",
    "\n",
    "                tuple =(symbol,RSI,RSIM,STRSI,STRSIK,STRSIKM,STRSID,STRSIDM)\n",
    "                table.append(tuple)\n",
    "                #print(table)\n",
    "                del dflive\n",
    "            else:\n",
    "                pass\n",
    "            #print(\"name is: \",array[0] ,alth,altl)\n",
    "\n",
    "\n",
    "    table[0]\n",
    "    AllTime = pd.DataFrame(table,columns=['Indicator','RSI','RSIM','STRSI','STRSIK','STRSIKM','STRSID','STRSIDM'])\n",
    "\n",
    "\n",
    "    #AllTime.Current=AllTime.Current.astype(float)\n",
    "\n",
    "    AllTime.dtypes\n",
    "\n",
    "\n",
    "    #AllTime.sort_values(by='ATH',ascending=False)\n",
    "    #AllTime.to_csv(\"alltimeHL.csv\", mode=\"w\")\n",
    "    #data.sort_values(\"Name\", axis = 0, ascending = True,inplace = True, na_position ='last')\n",
    "\n",
    "    ## Display the Data \n",
    "\n",
    "    test=AllTime.rename(columns={'RSI':('RSI'+interval),'RSIM':('RSIM'+interval),'STRSI':('STRSI'+interval),'STRSIK':('STRSIK'+interval),'STRSIKM':('STRSIKM'+interval),'STRSID':('STRSID'+interval),'STRSIDM':('STRSIDM'+interval)})\n",
    "    test.set_index(['Indicator'])\n",
    "    final=final.merge(test,how='left',on=['Indicator'])\n",
    "            \n",
    "\n",
    "final"
   ]
  },
  {
   "cell_type": "code",
   "execution_count": null,
   "id": "85c76981",
   "metadata": {},
   "outputs": [],
   "source": [
    "#final.Indicator"
   ]
  },
  {
   "cell_type": "code",
   "execution_count": null,
   "id": "e804ee9c",
   "metadata": {
    "scrolled": true
   },
   "outputs": [],
   "source": [
    "final=final.drop_duplicates(subset='Indicator',keep='last')\n",
    "#final= final.drop(columns=['Current_x','Current_y'])\n"
   ]
  },
  {
   "cell_type": "code",
   "execution_count": null,
   "id": "12de7e70",
   "metadata": {
    "scrolled": true
   },
   "outputs": [],
   "source": [
    "#Rules\n",
    "\n",
    "rule12under = (final['STRSIK12h'] < final['STRSID12h'])\n",
    "rule12over = (final['STRSIK12h'] > final['STRSID12h'])\n",
    "rule12kdown = (final['STRSIK12h'] < final['STRSIKM12h'])\n",
    "rule12kup = (final['STRSIK12h'] > final['STRSIKM12h'])\n",
    "rule12RSIup = (final['RSI12h'] > final['RSIM12h'])\n",
    "rule12RSIdown = (final['RSI12h'] < final['RSIM12h'])\n",
    "\n",
    "bottom12h = (final['STRSIK12h']< 0.2)\n",
    "top12h = (final['STRSIK12h'] > 0.8)\n",
    "shift12h = (rule12under & (rule12kup | rule12RSIup))\n",
    "dshift12h = (rule12over & (rule12kdown | rule12RSIdown))\n",
    "uptrend12h = (rule12over & (rule12kup & rule12RSIup))\n",
    "downtrend12h = (rule12under & (rule12kdown & rule12RSIdown))\n",
    "\n",
    "\n",
    "\n",
    "\n",
    "\n",
    "rule8under = (final['STRSIK8h']< final['STRSID8h'])\n",
    "rule8over = (final['STRSIK8h'] > final['STRSID8h'])\n",
    "rule8kdown = (final['STRSIK8h']< final['STRSIKM8h'])\n",
    "rule8kup = (final['STRSIK8h'] > final['STRSIKM8h'])\n",
    "rule8RSIup = (final['RSI8h'] > final['RSIM8h'])\n",
    "rule8RSIdown = (final['RSI8h'] < final['RSIM8h'])\n",
    "\n",
    "bottom8h = (final['STRSIK8h']< 0.2)\n",
    "top8h = (final['STRSIK8h'] > 0.8)\n",
    "shift8h = (rule8under & (rule8kup | rule8RSIup))\n",
    "dshift8h = (rule8over & (rule8kdown | rule8RSIdown))\n",
    "uptrend8h = (rule8over & (rule8kup & rule8RSIup))\n",
    "downtrend8h = (rule8under & (rule8kdown & rule8RSIdown))\n",
    "\n",
    "\n",
    "rule4under = (final['STRSIK4h']< final['STRSID4h'])\n",
    "rule4over = (final['STRSIK4h'] > final['STRSID4h'])\n",
    "rule4kdown = (final['STRSIK4h']< final['STRSIKM4h'])\n",
    "rule4kup = (final['STRSIK4h'] > final['STRSIKM4h'])\n",
    "rule4RSIup = (final['RSI4h'] > final['RSIM4h'])\n",
    "rule4RSIdown = (final['RSI4h'] < final['RSIM4h'])\n",
    "\n",
    "bottom4h = (final['STRSIK4h']< 0.2)\n",
    "top4h = (final['STRSIK4h'] > 0.8)\n",
    "shift4h = (rule4under & (rule4kup | rule4RSIup))\n",
    "dshift4h = (rule4over & (rule4kdown | rule4RSIdown))\n",
    "uptrend4h = (rule4over & (rule4kup & rule4RSIup))\n",
    "downtrend4h = (rule4under & (rule4kdown & rule4RSIdown))\n",
    "\n",
    "\n",
    "\n",
    "\n",
    "rule2under = (final['STRSIK2h']< final['STRSID2h'])\n",
    "rule2over = (final['STRSIK2h'] > final['STRSID2h'])\n",
    "rule2kdown = (final['STRSIK2h']< final['STRSIKM2h'])\n",
    "rule2kup = (final['STRSIK2h'] > final['STRSIKM2h'])\n",
    "rule2RSIup = (final['RSI2h'] > final['RSIM2h'])\n",
    "rule2RSIdown = (final['RSI2h'] < final['RSIM2h'])\n",
    "\n",
    "bottom2h = (final['STRSIK2h']< 0.2)\n",
    "top2h = (final['STRSIK2h'] > 0.8)\n",
    "shift2h = (rule2under & (rule2kup | rule2RSIup))\n",
    "dshift2h = (rule2over & (rule2kdown | rule2RSIdown))\n",
    "uptrend2h = (rule2over & (rule2kup & rule2RSIup))\n",
    "downtrend2h = (rule2under & (rule2kdown & rule2RSIdown))\n",
    "\n",
    "\n",
    "\n",
    "rule1dunder = (final['STRSIK1d']< final['STRSID1d'])\n",
    "rule1dover = (final['STRSIK1d'] > final['STRSID1d'])\n",
    "rule1dkdown = (final['STRSIK1d']< final['STRSIKM1d'])\n",
    "rule1dkup = (final['STRSIK1d'] > final['STRSIKM1d'])\n",
    "rule1dRSIup = (final['RSI1d'] > final['RSIM1d'])\n",
    "rule1dRSIdown = (final['RSI1d'] < final['RSIM1d'])\n",
    "\n",
    "bottom1d = (final['STRSIK1d'] < 0.2)\n",
    "top1d = (final['STRSIK1d'] > 0.8)\n",
    "shift1d = (rule1dunder & (rule1dkup | rule1dRSIup))\n",
    "dshift1d = (rule1dover & (rule1dkdown | rule1dRSIdown))\n",
    "uptrend1d = (rule1dover & (rule1dkup & rule1dRSIup))\n",
    "downtrend1d = (rule1dunder & (rule1dkdown & rule1dRSIdown))\n",
    "\n",
    "\n",
    "rule3dunder = (final['STRSIK3d']< final['STRSID3d'])\n",
    "rule3dover = (final['STRSIK3d'] > final['STRSID3d'])\n",
    "rule3dkdown = (final['STRSIK3d']< final['STRSIKM3d'])\n",
    "rule3dkup = (final['STRSIK3d'] > final['STRSIKM3d'])\n",
    "rule3dRSIup = (final['RSI3d'] > final['RSIM3d'])\n",
    "rule3dRSIdown = (final['RSI3d'] < final['RSIM3d'])\n",
    "\n",
    "bottom3d = (final['STRSIK3d'] < 0.2)\n",
    "top3d = (final['STRSIK3d'] > 0.8)\n",
    "shift3d = (rule3dunder & (rule3dkup | rule3dRSIup))\n",
    "dshift3d = (rule3dover & (rule3dkdown | rule3dRSIdown))\n",
    "uptrend3d = (rule3dover & (rule3dkup & rule3dRSIup))\n",
    "downtrend3d = (rule3dunder & (rule3dkdown & rule3dRSIdown))\n",
    "\n",
    "\n",
    "\n",
    "\n",
    "rule13over = (final['STRSIK3d'] > final['STRSID3d']) & (final['STRSIK1d'] > final['STRSID1d'])\n",
    "rule13under =(final['STRSIK3d'] < final['STRSID3d']) & (final['STRSIK1d'] < final['STRSID1d'])\n",
    "\n",
    "\n",
    "\n",
    "\n",
    "final.dropna()\n"
   ]
  },
  {
   "cell_type": "markdown",
   "id": "b303c455",
   "metadata": {},
   "source": [
    "# Summary rules\n"
   ]
  },
  {
   "cell_type": "code",
   "execution_count": null,
   "id": "5c43e0b6",
   "metadata": {},
   "outputs": [],
   "source": [
    "## UP\n",
    "drop = final.loc[((rule3dkup | rule3dRSIup) & (rule1dkup | rule1dRSIup) & (rule12kup & rule12RSIup) & (rule8kup & rule8RSIup) & (rule4kup | rule4RSIup) & (final['STRSIK1d'] < 0.2) ) ]\n",
    "drop\n",
    "\n"
   ]
  },
  {
   "cell_type": "code",
   "execution_count": null,
   "id": "94cf808c",
   "metadata": {},
   "outputs": [],
   "source": [
    "drop = final.loc[bottom4h & (shift4h | rule4over)]\n",
    "drop = final.loc[(bottom4h | (uptrend4h | shift4h)) & (uptrend8h | shift8h) ]\n",
    "drop = final.loc[((uptrend4h | shift4h)) & (uptrend8h | shift8h) ]\n",
    "#drop = final.loc[(uptrend8h | shift8h) & (uptrend12h | shift12h) & (uptrend1d | shift1d)]\n",
    "#drop = final.loc[(uptrend2h | shift2h) & (uptrend4h | shift4h) ]\n",
    "#drop = final.loc[(uptrend4h | shift4h)]\n",
    "\n",
    "#drop = final.loc[bottom8h | (shift8h | rule8over)]\n",
    "#drop = final.loc[bottom12h | (shift12h | rule12over)]\n",
    "#drop = final.loc[(uptrend8h)]\n",
    "#drop = final.loc[bottom12h | (shift12h | uptrend12h)]\n",
    "#drop = final.loc[bottom1d | (shift1d | uptrend1d)]\n",
    "#drop = final.loc[top4h]\n",
    "#drop = final.loc[(uptrend3d)]\n",
    "#drop = final.loc[dshift4h]\n",
    "#drop = final.loc[shift2h]\n",
    "\n",
    "#drop = final.loc[(bottom4h & bottom12h & bottom3d)]\n",
    "#drop = final.loc[(uptrend8h)]\n",
    "#drop = final.loc[(downtrend8h & downtrend4h & downtrend12h)]\n",
    "#drop = final.loc[(bottom4h & bottom2h & bottom3d)]\n",
    "#drop = final.loc[shift3d & bottom4h]\n",
    "\n",
    "#drop = final.loc[(bottom12h)]\n",
    "#drop = final.loc[ ((rule4kup |rule4RSIup))]\n",
    "\n",
    "#drop = final.loc[((uptrend3d | shift3d)) & (uptrend8h | shift8h) & (uptrend1d | shift1d) & (uptrend4h | shift4h) ]\n",
    "#drop = final.loc[((uptrend3d | shift3d)) & (uptrend8h | shift8h) & (uptrend1d | shift1d) & (uptrend12h | shift12h) ]\n",
    "\n",
    "# 4 hours will go down or slow down\n",
    "drop = final.loc[( (bottom3d) & (uptrend8h | shift8h) & (uptrend1d | shift1d) & (uptrend12h | shift12h) & dshift4h) ]\n",
    "#drop = final.loc[( (bottom3d) & (uptrend3d | shift3d)) & (uptrend8h | shift8h) & (uptrend1d | shift1d) & (uptrend12h | shift12h) &  (uptrend4h | shift4h) ]\n",
    "#drop = final.loc[( (uptrend3d | shift3d)) & (uptrend8h | shift8h) & (uptrend1d | shift1d) & (uptrend12h | shift12h) &  (uptrend4h | shift4h) ]\n",
    "\n",
    "#drop = final.loc[( (bottom4h) & (uptrend8h | shift8h) & (uptrend1d | shift1d) & (uptrend12h | shift12h)) ]\n",
    "#drop = final.loc[((bottom1d) & (bottom3d))]\n",
    "#drop = drop.loc[( (uptrend8h | shift8h) & (uptrend1d | shift1d) & (uptrend12h | shift12h))]\n",
    "drop = final.loc[dshift4h]\n",
    "\n",
    "drop = final.loc[( (uptrend3d | shift3d)) & (uptrend8h | shift8h) & (uptrend1d | shift1d) & (uptrend12h | shift12h) &  (uptrend4h | shift4h) & (downtrend2h |dshift2h) ]\n",
    "#drop = final.loc[( (bottom3d) & (uptrend3d | shift3d)) & (uptrend8h | shift8h) & (uptrend1d | shift1d) & (uptrend12h | shift12h) &  (uptrend4h | shift4h) ]\n",
    "#drop = final.loc[dshift2h]\n",
    "drop = final.loc[( (bottom8h) & (bottom12h) & (bottom4h) & (bottom2h))]\n",
    "#drop = final.loc[( (bottom8h) & (bottom12h) & (bottom4h))]\n",
    "\n",
    "#drop= final.loc[(shift4h) & (shift12h)]\n",
    "#drop = final.loc[(dshift4h | downtrend4h)]\n",
    "#drop = final.loc[( (bottom4h)&(bottom8h) & (bottom12h) & (bottom1d) & (dshift4h | downtrend4h))]\n",
    "#drop = final.loc[( (bottom4h)&(bottom8h) & (bottom12h) & (bottom1d) & (shift2h))]\n",
    "\n",
    "#drop = final.loc[downtrend1d & downtrend12h & downtrend8h & downtrend4h]\n",
    "drop = final.loc[top12h]\n",
    "\n",
    "drop"
   ]
  },
  {
   "cell_type": "markdown",
   "id": "e1d59f72",
   "metadata": {},
   "source": [
    "# Down options"
   ]
  },
  {
   "cell_type": "code",
   "execution_count": null,
   "id": "d604cef9",
   "metadata": {},
   "outputs": [],
   "source": [
    "## 3 Days going down\n",
    "#drop = final.loc[((rule3dkdown & rule3dRSIdown))]\n",
    "#drop"
   ]
  },
  {
   "cell_type": "code",
   "execution_count": null,
   "id": "4d296240",
   "metadata": {},
   "outputs": [],
   "source": [
    "## one Day down\n",
    "\n",
    "#drop = final.loc[((rule1dkdown & rule1dRSIdown))]\n",
    "#drop"
   ]
  },
  {
   "cell_type": "code",
   "execution_count": null,
   "id": "bef0003e",
   "metadata": {},
   "outputs": [],
   "source": [
    "## FULL down options from 1 day till 2 hours \n",
    "\n",
    "drop = final.loc[((rule1dkdown | rule1dRSIdown) & (rule12kdown | rule12RSIdown) & (rule8kdown | rule8RSIdown) & (rule4kdown | rule4RSIdown))]\n",
    "drop\n"
   ]
  },
  {
   "cell_type": "code",
   "execution_count": null,
   "id": "2f5862c5",
   "metadata": {},
   "outputs": [],
   "source": [
    "##  FULL down options from 1 day till 2 hours  down option and & \n",
    "drop = final.loc[((rule1dkdown & rule1dRSIdown) & (rule12kdown & rule12RSIdown) & (rule8kdown & rule8RSIdown) & (rule4kdown & rule4RSIdown))]\n",
    "drop\n"
   ]
  },
  {
   "cell_type": "markdown",
   "id": "aab4567c",
   "metadata": {},
   "source": [
    "# UP options"
   ]
  },
  {
   "cell_type": "code",
   "execution_count": null,
   "id": "34e160a4",
   "metadata": {},
   "outputs": [],
   "source": [
    "###FULL  up option and | till 8\n",
    "\n",
    "#drop = final.loc[((rule3dkup | rule3dRSIup) & (rule1dkup | rule1dRSIup) & (rule12kup | rule12RSIup) & (rule8kup | rule8RSIup) & (rule4kup | rule4RSIup) & (rule2kup | rule2RSIup))]\n",
    "#drop = final.loc[((rule1dkup & rule1dRSIup) & (rule12kup & rule12RSIup) & (rule8kup & rule8RSIup) & (rule4kup & rule4RSIup))]\n",
    "#drop = final.loc[((rule1dkup & rule1dRSIup) | (rule12kup & rule12RSIup) | (rule8kup & rule8RSIup) )]\n",
    "drop = final.loc[((rule3dkup | rule3dRSIup) & (rule1dkup | rule1dRSIup) & (rule12kup | rule12RSIup) & (rule8kup | rule8RSIup)) ]\n",
    "\n",
    "#drop = final.loc[((rule3dkup | rule3dRSIup) & (rule1dkup | rule1dRSIup) & (rule12kup | rule12RSIup) & (rule8kup | rule8RSIup) & (rule4kup | rule4RSIup) & (final['STRSIK1d'] < 0.2) ) ]\n",
    "\n",
    "drop\n"
   ]
  },
  {
   "cell_type": "code",
   "execution_count": null,
   "id": "8b0489ce",
   "metadata": {},
   "outputs": [],
   "source": [
    "### 3 days up option and |\n",
    "\n",
    "#drop = final.loc[((rule3dkup | rule3dRSIup))]\n",
    "#drop = final.loc[((rule3dkup | rule3dRSIup) & (final['STRSIK1d'] < 0.2) )]\n",
    "\n",
    "#drop = final.loc[((rule3dkup & rule3dRSIup) & (rule3dover))]\n",
    "#drop = final.loc[((rule3dkup & rule3dRSIup) & (rule1dkup))]\n",
    "\n",
    "\n",
    "#drop"
   ]
  },
  {
   "cell_type": "code",
   "execution_count": null,
   "id": "a35990ce",
   "metadata": {},
   "outputs": [],
   "source": [
    "## 3days under 0.2 // about to go up \n",
    "#drop = final.loc[( (final['STRSIK3d'] < 0.2) )]\n",
    "#drop "
   ]
  },
  {
   "cell_type": "code",
   "execution_count": null,
   "id": "1b63502f",
   "metadata": {},
   "outputs": [],
   "source": [
    "# 1 day under 0.2 about to go up \n",
    "#drop = final.loc[(  (final['STRSIK1d'] < 0.2) )]\n",
    "#drop"
   ]
  },
  {
   "cell_type": "code",
   "execution_count": null,
   "id": "fda3cb9a",
   "metadata": {},
   "outputs": [],
   "source": [
    "# 1 and 3 day under 0.2\n",
    "drop = final.loc[(  (final['STRSIK1d'] < 0.2) & (final['STRSIK3d'] < 0.2) )]\n",
    "drop"
   ]
  },
  {
   "cell_type": "code",
   "execution_count": null,
   "id": "98e0c314",
   "metadata": {},
   "outputs": [],
   "source": [
    "# 1 and 3 days pointing up and still have room on 3 days < 0.7 \n",
    "\n",
    "#drop = final.loc[( (final['STRSIK3d'] > final['STRSID3d']) & (final['STRSIK1d'] > final['STRSID1d'])  & (final['STRSIK3d'] < 0.7)  )]\n",
    "drop = final.loc[( (rule3dkup) & (rule1dkup)  & (final['STRSIK3d'] < 0.8)  )]\n",
    "\n",
    "drop"
   ]
  },
  {
   "cell_type": "code",
   "execution_count": null,
   "id": "1f569e31",
   "metadata": {
    "scrolled": true
   },
   "outputs": [],
   "source": [
    "## 1 day small room up\n",
    "drop = final.loc[( (rule3dover) & (rule1dover)  & (final['STRSIK1d'] > 0.8)  & (rule1dRSIup) & (rule3dkup) & (rule1dkup) )]\n",
    "drop"
   ]
  },
  {
   "cell_type": "code",
   "execution_count": null,
   "id": "2450b133",
   "metadata": {},
   "outputs": [],
   "source": [
    "## 1 day will start go down \n",
    "drop = final.loc[( (rule3dover) & (rule1dover)  & (final['STRSIK1d'] > 0.8) & (rule1dRSIdown) )]\n",
    "drop"
   ]
  },
  {
   "cell_type": "code",
   "execution_count": null,
   "id": "adb4306b",
   "metadata": {},
   "outputs": [],
   "source": [
    "# 1 day started to  go down \n",
    "drop = final.loc[( (rule1dkdown) & (rule1dover)  & (final['STRSIK1d'] > 0.8) & (rule1dRSIdown) )]\n",
    "\n",
    "drop"
   ]
  },
  {
   "cell_type": "code",
   "execution_count": null,
   "id": "b996547c",
   "metadata": {},
   "outputs": [],
   "source": [
    "# 12 H over and  RSI up\n",
    "drop = final.loc[(rule12over & rule12RSIup)]\n",
    "\n",
    "drop\n"
   ]
  },
  {
   "cell_type": "code",
   "execution_count": null,
   "id": "1482fec0",
   "metadata": {},
   "outputs": [],
   "source": [
    "# 12 H down  RSI down\n",
    "drop = final.loc[(rule12kdown & rule12RSIdown)]\n",
    "\n",
    "drop"
   ]
  },
  {
   "cell_type": "code",
   "execution_count": null,
   "id": "a5749726",
   "metadata": {},
   "outputs": [],
   "source": [
    "# 12 down  RSI up\n",
    "drop = final.loc[(rule12kdown & rule12RSIup)]\n",
    "#drop = final.loc[(rule12kdown & rule12RSIup)]\n",
    "\n",
    "drop"
   ]
  },
  {
   "cell_type": "code",
   "execution_count": null,
   "id": "8f67c210",
   "metadata": {},
   "outputs": [],
   "source": [
    "# 12 down  RSI up under 0.2\n",
    "drop = final.loc[(rule12kdown & rule12RSIup & (final['STRSIK12h'] < 0.2) )]\n",
    "\n",
    "#drop = final.loc[(rule12kdown & rule12RSIup)]\n",
    "\n",
    "drop"
   ]
  },
  {
   "cell_type": "code",
   "execution_count": null,
   "id": "76fa7ddd",
   "metadata": {},
   "outputs": [],
   "source": [
    "# 12 up  RSI up under 0.2\n",
    "drop = final.loc[(rule12kup & rule12RSIup & (final['STRSIK12h'] < 0.2) )]\n",
    "drop = final.loc[((final['STRSIK12h'] < 0.2) )]\n",
    "\n",
    "#drop = final.loc[(rule12kdown & rule12RSIup)]\n",
    "\n",
    "drop"
   ]
  },
  {
   "cell_type": "code",
   "execution_count": null,
   "id": "99241628",
   "metadata": {
    "scrolled": true
   },
   "outputs": [],
   "source": [
    "# 8 H down\n",
    "drop = final.loc[(rule8kdown & rule8RSIdown)]\n",
    "\n",
    "drop"
   ]
  },
  {
   "cell_type": "code",
   "execution_count": null,
   "id": "9604f6f6",
   "metadata": {},
   "outputs": [],
   "source": [
    "# 8 H over RSI up\n",
    "drop = final.loc[(rule8over & rule8RSIup)]\n",
    "\n",
    "drop"
   ]
  },
  {
   "cell_type": "code",
   "execution_count": null,
   "id": "e0eb4bca",
   "metadata": {},
   "outputs": [],
   "source": [
    "# 8 H down RSI up\n",
    "drop = final.loc[(rule8kdown & rule8RSIup)]\n",
    "\n",
    "drop"
   ]
  },
  {
   "cell_type": "code",
   "execution_count": null,
   "id": "af11d40b",
   "metadata": {},
   "outputs": [],
   "source": [
    "# 8h under 0.2\n",
    "\n",
    "drop = final.loc[((final['STRSIK8h']< 0.2) )]\n",
    "drop"
   ]
  },
  {
   "cell_type": "code",
   "execution_count": null,
   "id": "305ff95f",
   "metadata": {
    "scrolled": true
   },
   "outputs": [],
   "source": [
    "# 4 H down\n",
    "drop = final.loc[(rule4kdown & rule4RSIdown)]\n",
    "\n",
    "drop"
   ]
  },
  {
   "cell_type": "code",
   "execution_count": null,
   "id": "750b51c4",
   "metadata": {},
   "outputs": [],
   "source": [
    "# 4 H reversal start\n",
    "drop = final.loc[(rule4kdown & rule4RSIup &  (final['STRSIK4h']< 0.2))]\n",
    "\n",
    "drop"
   ]
  },
  {
   "cell_type": "code",
   "execution_count": null,
   "id": "aabab225",
   "metadata": {},
   "outputs": [],
   "source": [
    "# 4 hour K rising \n",
    "drop = final.loc[((rule4under & rule4kup) & (final['STRSIK4h']< 0.2) )]\n",
    "#drop = final.loc[((rule4under & rule4kup)  )]\n",
    "\n",
    "#drop = final.loc[(rule12kdown & rule12RSIup)]\n",
    "\n",
    "drop"
   ]
  },
  {
   "cell_type": "code",
   "execution_count": null,
   "id": "6c275952",
   "metadata": {},
   "outputs": [],
   "source": [
    "drop = final.loc[((rule4kup & rule4RSIup) )]\n",
    "drop"
   ]
  },
  {
   "cell_type": "code",
   "execution_count": null,
   "id": "ca06d815",
   "metadata": {},
   "outputs": [],
   "source": [
    "# 4 H down RSI up\n",
    "drop = final.loc[(rule4kdown & rule4RSIup)]\n",
    "\n",
    "drop"
   ]
  },
  {
   "cell_type": "code",
   "execution_count": null,
   "id": "ce37767d",
   "metadata": {},
   "outputs": [],
   "source": [
    "# 4H RSI DOWN \n",
    "drop = final.loc[(rule4RSIdown)]\n",
    "drop"
   ]
  },
  {
   "cell_type": "code",
   "execution_count": null,
   "id": "33fd4fa4",
   "metadata": {},
   "outputs": [],
   "source": [
    "# 4h under 0.2\n",
    "#drop = final.loc[((rule4under & rule4kup) & (final['STRSIK4h']< 0.2) )]\n",
    "\n",
    "drop = final.loc[((final['STRSIK4h']< 0.2) )]\n",
    "drop"
   ]
  },
  {
   "cell_type": "code",
   "execution_count": null,
   "id": "9251d833",
   "metadata": {},
   "outputs": [],
   "source": [
    "# 2h under 0.2\n",
    "#drop = final.loc[((rule4under & rule4kup) & (final['STRSIK4h']< 0.2) )]\n",
    "\n",
    "drop = final.loc[((final['STRSIK2h']< 0.2) )]\n",
    "drop"
   ]
  },
  {
   "cell_type": "code",
   "execution_count": null,
   "id": "b83a341f",
   "metadata": {},
   "outputs": [],
   "source": [
    "# 2 H down RSI up\n",
    "drop = final.loc[(rule2kdown & rule2RSIup)]\n",
    "\n",
    "drop"
   ]
  },
  {
   "cell_type": "code",
   "execution_count": null,
   "id": "00f89b41",
   "metadata": {},
   "outputs": [],
   "source": [
    "# 2 H down RSI down\n",
    "drop = final.loc[(rule2kdown & rule2RSIdown) ]\n",
    "\n",
    "drop"
   ]
  },
  {
   "cell_type": "code",
   "execution_count": null,
   "id": "0da44848",
   "metadata": {},
   "outputs": [],
   "source": [
    "# 2 H up  RSI up\n",
    "drop = final.loc[(rule2kup & rule2RSIup)]\n",
    "\n",
    "drop"
   ]
  },
  {
   "cell_type": "markdown",
   "id": "cacd2dd9",
   "metadata": {},
   "source": [
    "# Second part to be cleaned"
   ]
  },
  {
   "cell_type": "code",
   "execution_count": null,
   "id": "ab04a5d7",
   "metadata": {},
   "outputs": [],
   "source": [
    "## 1d 8 and 4 hours up\n",
    "drop = final.loc[(rule1dkup & rule12kup & rule8kup & rule4kup) ]\n",
    "\n",
    "drop\n"
   ]
  },
  {
   "cell_type": "code",
   "execution_count": null,
   "id": "fb18dff2",
   "metadata": {},
   "outputs": [],
   "source": [
    "## 8 4 2 hours level down \n",
    "\n",
    "drop = final.loc[(rule8under & rule8kdown & rule4under & rule4kdown & rule2under) ]\n",
    "drop"
   ]
  },
  {
   "cell_type": "code",
   "execution_count": null,
   "id": "5b3a8574",
   "metadata": {},
   "outputs": [],
   "source": [
    "## 8 hours and 4 up\n",
    "drop = final.loc[(rule8kup & rule4kup) ]\n",
    "drop"
   ]
  },
  {
   "cell_type": "code",
   "execution_count": null,
   "id": "f8510ae0",
   "metadata": {},
   "outputs": [],
   "source": [
    "# 8 4 2 over and up\n",
    "\n",
    "#drop = final.loc[(rule8over & rule8kup & rule4over & rule4kup & rule2over) ]\n",
    "drop = final.loc[(rule4over & rule4kup & rule2over) ]\n",
    "\n",
    "drop "
   ]
  },
  {
   "cell_type": "code",
   "execution_count": null,
   "id": "3a1e4c5a",
   "metadata": {},
   "outputs": [],
   "source": [
    "# Split RSI and STCH  tables \n",
    "#finalRSI = final.loc[:,['Indicator','RSI2h','RSIM2h','RSI4h','RSIM4h','RSI8h','RSIM8h','RSI12h','RSIM12h','RSI1d','RSIM1d','RSI3d','RSIM3d']]\n",
    "#finalSTRSIK = final.loc[:,['Indicator','STRSIK2h','STRSIKM2h','STRSIK4h','STRSIKM4h','STRSIK8h','STRSIKM8h','STRSIK12h','STRSIKM12h','STRSIK1d','STRSIKM1d','STRSIK3d','STRSIKM3d','STRSID2h','STRSIDM2h','STRSID4h','STRSIDM4h','STRSID8h','STRSIDM8h','STRSID12h','STRSIDM12h','STRSID1d','STRSIDM1d','STRSID3d','STRSIDM3d']]\n",
    "finalRSI = final.loc[:,['Indicator','RSI2h','RSIM2h','RSI4h','RSIM4h','RSI8h','RSIM8h','RSI12h','RSIM12h','RSI1d','RSIM1d','RSI3d','RSIM3d']]\n",
    "finalSTRSIK = final.loc[:,['Indicator','STRSIK2h','STRSIKM2h','STRSIK4h','STRSIKM4h','STRSIK8h','STRSIKM8h','STRSIK12h','STRSIKM12h','STRSIK1d','STRSIKM1d','STRSIK3d','STRSIKM3d','STRSID2h','STRSIDM2h','STRSID4h','STRSIDM4h','STRSID8h','STRSIDM8h','STRSID12h','STRSIDM12h','STRSID1d','STRSIDM1d','STRSID3d','STRSIDM3d']]\n",
    "#finalST = \n",
    "finalSTRSIK"
   ]
  },
  {
   "cell_type": "code",
   "execution_count": null,
   "id": "ce084b3f",
   "metadata": {},
   "outputs": [],
   "source": [
    "drop = final.loc[( rule1dover & rule1dkup & rule12under &rule12kdown & rule8under & rule4kdown)]\n",
    "drop"
   ]
  },
  {
   "cell_type": "code",
   "execution_count": null,
   "id": "63658c89",
   "metadata": {},
   "outputs": [],
   "source": [
    "## Will go up below 0.2 k 4 and 8 still going up\n",
    "\n",
    "drop = final.loc[((final['STRSIK8h'] > final['STRSIKM8h']) & (final['STRSIK4h'] > final['STRSIKM4h']) & (final['STRSIK8h'] < 0.2) &  (final['STRSIK8h'] > final['STRSID8h']))]\n",
    "drop"
   ]
  },
  {
   "cell_type": "code",
   "execution_count": null,
   "id": "da870e9f",
   "metadata": {},
   "outputs": [],
   "source": [
    "## under 0.2 and will go down\n",
    "## WILL GO DOWN still K > D , K are dropping on 4 hour and 8 hours still above D and under 0.2\n",
    "drop = final.loc[((final['STRSIK8h'] < final['STRSIKM8h']) & (final['STRSIK4h'] < final['STRSIKM4h']) & (final['STRSIK4h'] < 0.2) &  (final['STRSIK8h'] > final['STRSID8h']))]\n",
    "drop"
   ]
  },
  {
   "cell_type": "code",
   "execution_count": null,
   "id": "6af62ad3",
   "metadata": {},
   "outputs": [],
   "source": [
    "#save = drop[['Indicator','RSI','STRSI']]\n",
    "#save = save.rename(columns={'STRSI': 'STRSI1','RSI':'RSI1'})\n",
    "#save\n",
    "#save.to_csv(\"strsi1KD.csv\")\n",
    "RSITABLE = drop[['Indicator', 'RSI2h', 'RSIM2h','RSI4h', 'RSIM4h','RSI8h', 'RSIM8h']]\n",
    "sort1 = RSITABLE.sort_values(by=['RSI2h'],ascending=True,inplace = True)\n",
    "\n",
    "\n",
    "RSITABLE"
   ]
  },
  {
   "cell_type": "code",
   "execution_count": null,
   "id": "e54c639f",
   "metadata": {},
   "outputs": [],
   "source": [
    "STCHTABLE = drop[['Indicator','STRSIK2h', 'STRSID2h','STRSIK4h', 'STRSID4h','STRSIK8h', 'STRSID8h']]\n",
    "STCHTABLE"
   ]
  },
  {
   "cell_type": "code",
   "execution_count": null,
   "id": "93cae177",
   "metadata": {},
   "outputs": [],
   "source": [
    "# High 8 hours going down\n",
    "STCHTABLEH = STCHTABLE.loc[STCHTABLE['STRSID8h']> 0.8]\n",
    "STCHTABLEH\n",
    "#save"
   ]
  },
  {
   "cell_type": "code",
   "execution_count": null,
   "id": "b0a36cad",
   "metadata": {},
   "outputs": [],
   "source": [
    "#del final, whitelist ,dflive"
   ]
  }
 ],
 "metadata": {
  "kernelspec": {
   "display_name": "Python 3 (ipykernel)",
   "language": "python",
   "name": "python3"
  },
  "language_info": {
   "codemirror_mode": {
    "name": "ipython",
    "version": 3
   },
   "file_extension": ".py",
   "mimetype": "text/x-python",
   "name": "python",
   "nbconvert_exporter": "python",
   "pygments_lexer": "ipython3",
   "version": "3.8.12"
  }
 },
 "nbformat": 4,
 "nbformat_minor": 5
}
