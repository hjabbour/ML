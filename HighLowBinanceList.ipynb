{
 "cells": [
  {
   "cell_type": "code",
   "execution_count": 1,
   "id": "d3661386",
   "metadata": {},
   "outputs": [],
   "source": [
    "import numpy as np \n",
    "import pandas as pd \n",
    "from datetime import date\n",
    "#Data Source (Pandas Data Reader)\n",
    "from pandas_datareader import data\n",
    "import requests \n",
    "import json\n",
    "\n",
    "#Data Source(Pandas Data Reader)\n"
   ]
  },
  {
   "cell_type": "code",
   "execution_count": 2,
   "id": "c198dbb1",
   "metadata": {},
   "outputs": [],
   "source": [
    "#oldlist = \"ETH/USDT, BTC/USDT, SOL/USDT, FTM/USDT, ADA/USDT, BNB/USDT, DOT/USDT, CELO/USDT, XRP/USDT, LUNA/USDT, AVAX/USDT, ICP/USDT, SAND/USDT, AR/USDT, DOGE/USDT, ALICE/USDT, MATIC/USDT, TLM/USDT, ATOM/USDT, C98/USDT, SRM/USDT, RAY/USDT, ONE/USDT, LINK/USDT, AXS/USDT, XTZ/USDT, EGLD/USDT, KSM/USDT, FIL/USDT, VET/USDT, KAVA/USDT, OGN/USDT, FTT/USDT, MBOX/USDT, ETC/USDT, MINA/USDT, CAKE/USDT, CHZ/USDT, PERP/USDT, LRC/USDT, ATA/USDT, CLV/USDT, WAVES/USDT, LTC/USDT, ENJ/USDT, EOS/USDT, UNI/USDT, THETA/USDT, CHR/USDT, EPS/USDT, RUNE/USDT, NEAR/USDT, SXP/USDT, SUSHI/USDT, SLP/USDT, TRX/USDT, CRV/USDT, FLOW/USDT, MANA/USDT, BCH/USDT, YFII/USDT, SHIB/USDT, COMP/USDT, ALPHA/USDT, AUDIO/USDT, ROSE/USDT, ALGO/USDT, AAVE/USDT, BAKE/USDT, COTI/USDT, CTK/USDT, DENT/USDT, XLM/USDT, GRT/USDT, OMG/USDT, ARPA/USDT, MASK/USDT, LTO/USDT, WIN/USDT, SKL/USDT, NEO/USDT, DGB/USDT, BTT/USDT, XMR/USDT, TVK/USDT, TFUEL/USDT, DASH/USDT, RVN/USDT, HOT/USDT, DEGO/USDT, FARM/USDT, GNO/USDT, ORN/USDT, FET/USDT, FUN/USDT, TKO/USDT, IOST/USDT, ZIL/USDT, CELR/USDT, ONT/USDT, LINA/USDT, INJ/USDT, SNX/USDT, REEF/USDT, 1INCH/USDT, SUPER/USDT, RSR/USDT, HBAR/USDT, DEXE/USDT, IOTX/USDT, IOTA/USDT, SC/USDT, BADGER/USDT, RLC/USDT, NU/USDT, WAXP/USDT, ZEC/USDT, HNT/USDT, UNFI/USDT, DODO/USDT, PAX/USDT, GTC/USDT, QTUM/USDT, WRX/USDT, ONG/USDT, ZEN/USDT, XVS/USDT, YFI/USDT, ANKR/USDT, PSG/USDT, CTSI/USDT, TROY/USDT, STMX/USDT, ICX/USDT, SFP/USDT, TRU/USDT, MIR/USDT, NANO/USDT, POND/USDT, FLM/USDT, TUSD/USDT, DNT/USDT, ETHUP/USDT, BAND/USDT, HARD/USDT, TWT/USDT, MKR/USDT, TRB/USDT, KEEP/USDT, OCEAN/USDT, FIS/USDT, BAT/USDT, TRIBE/USDT, REN/USDT, DIA/USDT, BNT/USDT, KEY/USDT, NKN/USDT, BURGER/USDT, XEM/USDT, ZRX/USDT, LIT/USDT, STORJ/USDT, WTC/USDT, DOTUP/USDT, MDX/USDT, ETHDOWN/USDT, BAL/USDT, AVA/USDT, PHA/USDT, DATA/USDT, QNT/USDT, CVC/USDT, TOMO/USDT, UTK/USDT, ALPACA/USDT, XVG/USDT, BTCDOWN/USDT, ERN/USDT, MTL/USDT, BTCUP/USDT, DOTDOWN/USDT, SUN/USDT, COS/USDT, LPT/USDT, OXT/USDT, FOR/USDT, AKRO/USDT, BNBUP/USDT, KMD/USDT, CFX/USDT, BLZ/USDT, DOCK/USDT, STX/USDT, POLS/USDT, FIO/USDT, XRPUP/USDT, REQ/USDT, KNC/USDT, KLAY/USDT, GXS/USDT, BTS/USDT, VTHO/USDT, BEL/USDT, LSK/USDT, FORTH/USDT, ADAUP/USDT, SUSHIUP/USDT, MLN/USDT, BZRX/USDT, VITE/USDT, XRPDOWN/USDT, REP/USDT, CKB/USDT, BTCST/USDT, MDT/USDT, OM/USDT, GHST/USDT, NMR/USDT, PERL/USDT, SUSHIDOWN/USDT, BTG/USDT, AUTO/USDT, NULS/USDT, UMA/USDT, MITH/USDT, PNT/USDT, WING/USDT, MFT/USDT, TORN/USDT, PAXG/USDT, JST/USDT, GTO/USDT, XTZDOWN/USDT, AION/USDT, COCOS/USDT, FIRO/USDT, RAMP/USDT, LINKUP/USDT, ATM/USDT, ADADOWN/USDT, STRAX/USDT, DCR/USDT, BNBDOWN/USDT, DUSK/USDT, PUNDIX/USDT, CTXC/USDT, DREP/USDT, QUICK/USDT, BEAM/USDT, HIVE/USDT, XTZUP/USDT, IRIS/USDT, WNXM/USDT, AAVEUP/USDT, JUV/USDT, ANT/USDT, BOND/USDT, UNIUP/USDT, WAN/USDT, EOSUP/USDT, BAR/USDT, 1INCHUP/USDT, MBL/USDT, AAVEDOWN/USDT, ARDR/USDT, SXPUP/USDT, UNIDOWN/USDT, LTCUP/USDT, NBS/USDT, STPT/USDT, TCT/USDT, ASR/USDT, OG/USDT, 1INCHDOWN/USDT, SXPDOWN/USDT, XLMUP/USDT, ACM/USDT, RIF/USDT, FILUP/USDT, EOSDOWN/USDT, LINKDOWN/USDT, TRXUP/USDT, YFIUP/USDT, BCHUP/USDT, LTCDOWN/USDT, TRXDOWN/USDT, XLMDOWN/USDT, FILDOWN/USDT, BCHDOWN/USDT, SUSD/USDT, YFIDOWN/USDT\""
   ]
  },
  {
   "cell_type": "code",
   "execution_count": 3,
   "id": "2e7054d4",
   "metadata": {},
   "outputs": [],
   "source": [
    "#oldlist = \"BTC/USDT, ETH/USDT, AXS/USDT, SOL/USDT, MATIC/USDT, ADA/USDT, BNB/USDT, FIL/USDT, XRP/USDT, CVC/USDT, FTM/USDT, ICP/USDT, DOGE/USDT, XEC/USDT, IOTA/USDT, AVAX/USDT, DOT/USDT, LTC/USDT, EOS/USDT, IOST/USDT, STMX/USDT, FTT/USDT, TWT/USDT, ALICE/USDT, ATA/USDT, ETC/USDT, VET/USDT, SAND/USDT, LINK/USDT, THETA/USDT, SHIB/USDT, CHZ/USDT, LUNA/USDT, IOTX/USDT, TRX/USDT, TLM/USDT, BCH/USDT, REEF/USDT, CAKE/USDT, NEO/USDT, SLP/USDT, RVN/USDT, ATOM/USDT, SUSHI/USDT, ARDR/USDT, OMG/USDT, GRT/USDT, 1INCH/USDT, AAVE/USDT, C98/USDT, UNI/USDT, HBAR/USDT, CRV/USDT, DENT/USDT, MBOX/USDT, BTT/USDT, SRM/USDT, YFI/USDT, HOT/USDT, XLM/USDT, FIS/USDT, REQ/USDT, SXP/USDT, KSM/USDT, QNT/USDT, NEAR/USDT, COMP/USDT, QTUM/USDT, CHR/USDT, SC/USDT, XVS/USDT, ONT/USDT, COTI/USDT, NKN/USDT, RUNE/USDT, ANKR/USDT, MANA/USDT, CTXC/USDT, AR/USDT, RAY/USDT, BAKE/USDT, ARPA/USDT, XTZ/USDT, ZIL/USDT, ONG/USDT, ROSE/USDT, PNT/USDT, ALGO/USDT, MINA/USDT, WIN/USDT, AUDIO/USDT, STORJ/USDT, EPS/USDT, MDX/USDT, ZEC/USDT, ENJ/USDT, HIVE/USDT, TFUEL/USDT, WRX/USDT, SNX/USDT, SKL/USDT, LINA/USDT, DODO/USDT, UNFI/USDT, XEM/USDT, EGLD/USDT, ICX/USDT, WAVES/USDT, ONE/USDT, DASH/USDT, KAVA/USDT, SUPER/USDT, TKO/USDT, OGN/USDT, XMR/USDT, OCEAN/USDT, CELO/USDT, BAT/USDT, FUN/USDT, LRC/USDT, ALPHA/USDT, MASK/USDT, TRU/USDT, DNT/USDT, LIT/USDT, FET/USDT, GTC/USDT, CELR/USDT, DEXE/USDT, ZEN/USDT, WAXP/USDT, CTSI/USDT, HNT/USDT, YFII/USDT, BEL/USDT, ZRX/USDT, DEGO/USDT, RSR/USDT, COS/USDT, FLM/USDT, BAL/USDT, MFT/USDT, RLC/USDT, KNC/USDT, REN/USDT, INJ/USDT, FLOW/USDT, SFP/USDT, BAND/USDT, CTK/USDT, SUN/USDT, AKRO/USDT, XVG/USDT, NANO/USDT, STRAX/USDT, PUNDIX/USDT, TVK/USDT, MKR/USDT, CLV/USDT, TRB/USDT, ETHUP/USDT, KEEP/USDT, TCT/USDT, POND/USDT, LTO/USDT, ANT/USDT, TOMO/USDT, ACM/USDT, FIO/USDT, VITE/USDT, MBL/USDT, JST/USDT, MTL/USDT, UTK/USDT, BLZ/USDT, ORN/USDT, STPT/USDT, CFX/USDT, OM/USDT, PERP/USDT, MIR/USDT, STX/USDT, ERN/USDT, TUSD/USDT, PSG/USDT, NULS/USDT, OXT/USDT, REP/USDT, BNBUP/USDT, DATA/USDT, WAN/USDT, BURGER/USDT, RAMP/USDT, ATM/USDT, DGB/USDT, DIA/USDT, BEAM/USDT, UMA/USDT, ETHDOWN/USDT, CKB/USDT, TRIBE/USDT, FARM/USDT, BTCUP/USDT, BZRX/USDT, ALPACA/USDT, DOTUP/USDT, BTS/USDT, FOR/USDT, ADAUP/USDT, HARD/USDT, LSK/USDT, POLS/USDT, FORTH/USDT, TORN/USDT, VTHO/USDT, BTG/USDT, QUICK/USDT, FILUP/USDT, PAX/USDT, MITH/USDT, SUSHIUP/USDT, BTCDOWN/USDT, XRPDOWN/USDT, BNBDOWN/USDT, DUSK/USDT, XRPUP/USDT, WTC/USDT, DOCK/USDT, AUTO/USDT, BTCST/USDT, KLAY/USDT, WNXM/USDT, KEY/USDT, FILDOWN/USDT, NU/USDT, IRIS/USDT, KMD/USDT, TROY/USDT, WING/USDT, AION/USDT, PHA/USDT, SUSHIDOWN/USDT, EOSUP/USDT, LTCUP/USDT, GHST/USDT, PAXG/USDT, BNT/USDT, AVA/USDT, BADGER/USDT, PERL/USDT, COCOS/USDT, GXS/USDT, MDT/USDT, 1INCHUP/USDT, GTO/USDT, LINKUP/USDT, AAVEUP/USDT, FIRO/USDT, JUV/USDT, MLN/USDT, UNIUP/USDT, LPT/USDT, NMR/USDT, AAVEDOWN/USDT, 1INCHDOWN/USDT, ASR/USDT, OG/USDT, BAR/USDT, DREP/USDT, ADADOWN/USDT, BOND/USDT, DCR/USDT, DOTDOWN/USDT, GNO/USDT, NBS/USDT, SXPUP/USDT, EOSDOWN/USDT, YFIUP/USDT, RIF/USDT, LTCDOWN/USDT, XLMUP/USDT, YFIDOWN/USDT, LINKDOWN/USDT, TRXUP/USDT, BCHUP/USDT, XTZUP/USDT, SXPDOWN/USDT, UNIDOWN/USDT, XTZDOWN/USDT, BCHDOWN/USDT, TRXDOWN/USDT, XLMDOWN/USDT, SUSD/USDT\""
   ]
  },
  {
   "cell_type": "code",
   "execution_count": 4,
   "id": "3ffd6cfd",
   "metadata": {},
   "outputs": [],
   "source": [
    "#whitelist1 = 'RSR/USDT,ETH/USDT,BTC/USDT,SOL/USDT,FTM/USDT,ADA/USDT,BNB/USDT,DOT/USDT,CELO/USDT,XRP/USDT,LUNA/USDT,AVAX/USDT,ICP/USDT,SAND/USDT,AR/USDT,DOGE/USDT,ALICE/USDT,MATIC/USDT,TLM/USDT,ATOM/USDT,C98/USDT,SRM/USDT,RAY/USDT,ONE/USDT,LINK/USDT,AXS/USDT,XTZ/USDT,EGLD/USDT,KSM/USDT,FIL/USDT,VET/USDT,KAVA/USDT,OGN/USDT,FTT/USDT,MBOX/USDT,ETC/USDT,MINA/USDT,CAKE/USDT,CHZ/USDT,PERP/USDT,LRC/USDT,ATA/USDT,CLV/USDT,WAVES/USDT,LTC/USDT,ENJ/USDT,EOS/USDT,UNI/USDT,THETA/USDT,CHR/USDT,EPS/USDT,RUNE/USDT,NEAR/USDT,SXP/USDT,SUSHI/USDT,SLP/USDT,TRX/USDT,CRV/USDT,FLOW/USDT,MANA/USDT,BCH/USDT,YFII/USDT,SHIB/USDT,COMP/USDT,ALPHA/USDT,AUDIO/USDT,ROSE/USDT,ALGO/USDT,AAVE/USDT,BAKE/USDT,COTI/USDT,CTK/USDT,DENT/USDT,XLM/USDT,GRT/USDT,OMG/USDT,ARPA/USDT,MASK/USDT,LTO/USDT,WIN/USDT,SKL/USDT,NEO/USDT,DGB/USDT,BTT/USDT,XMR/USDT,TVK/USDT,TFUEL/USDT,DASH/USDT,RVN/USDT,HOT/USDT,DEGO/USDT,FARM/USDT,GNO/USDT,ORN/USDT,FET/USDT,FUN/USDT,TKO/USDT,IOST/USDT,ZIL/USDT,CELR/USDT,ONT/USDT,LINA/USDT,INJ/USDT,SNX/USDT,REEF/USDT,1INCH/USDT,RSR/USDT,HBAR/USDT,DEXE/USDT,IOTX/USDT,IOTA/USDT,SC/USDT,BADGER/USDT,RLC/USDT,NU/USDT,WAXP/USDT,ZEC/USDT,HNT/USDT,UNFI/USDT,DODO/USDT,PAX/USDT,GTC/USDT,QTUM/USDT,WRX/USDT,ONG/USDT,ZEN/USDT,XVS/USDT,YFI/USDT,ANKR/USDT,PSG/USDT,CTSI/USDT,TROY/USDT,STMX/USDT,ICX/USDT,SFP/USDT,TRU/USDT,MIR/USDT,NANO/USDT,POND/USDT,FLM/USDT,TUSD/USDT,DNT/USDT,BAND/USDT,HARD/USDT,TWT/USDT,MKR/USDT,TRB/USDT,KEEP/USDT,OCEAN/USDT,FIS/USDT,BAT/USDT,TRIBE/USDT,REN/USDT,DIA/USDT,BNT/USDT,KEY/USDT,NKN/USDT,BURGER/USDT,XEM/USDT,ZRX/USDT,LIT/USDT,STORJ/USDT,WTC/USDT,MDX/USDT,BAL/USDT,AVA/USDT,PHA/USDT,DATA/USDT,QNT/USDT,CVC/USDT,TOMO/USDT,UTK/USDT,ALPACA/USDT,XVG/USDT,ERN/USDT,MTL/USDT,SUN/USDT,COS/USDT,LPT/USDT,OXT/USDT,FOR/USDT,AKRO/USDT,KMD/USDT,CFX/USDT,BLZ/USDT,DOCK/USDT,STX/USDT,POLS/USDT,FIO/USDT,REQ/USDT,KNC/USDT,KLAY/USDT,GXS/USDT,BTS/USDT,VTHO/USDT,BEL/USDT,LSK/USDT,FORTH/USDT,MLN/USDT,BZRX/USDT,VITE/USDT,REP/USDT,CKB/USDT,BTCST/USDT,MDT/USDT,OM/USDT,GHST/USDT,NMR/USDT,PERL/USDT,BTG/USDT,AUTO/USDT,NULS/USDT,UMA/USDT,MITH/USDT,PNT/USDT,WING/USDT,MFT/USDT,TORN/USDT,PAXG/USDT,JST/USDT,GTO/USDT,AION/USDT,COCOS/USDT,FIRO/USDT,RAMP/USDT,ATM/USDT,STRAX/USDT,DCR/USDT,DUSK/USDT,PUNDIX/USDT,CTXC/USDT,DREP/USDT,QUICK/USDT,BEAM/USDT,HIVE/USDT,IRIS/USDT,WNXM/USDT,JUV/USDT,ANT/USDT,BOND/USDT,WAN/USDT,BAR/USDT,MBL/USDT,ARDR/USDT,NBS/USDT,STPT/USDT,TCT/USDT,ASR/USDT,OG/USDT,ACM/USDT,RIF/USDT,SUSD/USDT'"
   ]
  },
  {
   "cell_type": "code",
   "execution_count": 5,
   "id": "b4798a21",
   "metadata": {},
   "outputs": [],
   "source": [
    "whitelist = 'GALA/USDT, WAXP/USDT, HIVE/USDT, ONE/USDT, BTC/USDT, ETH/USDT, AXS/USDT, SOL/USDT, MATIC/USDT, ADA/USDT, BNB/USDT, FIL/USDT, XRP/USDT, CVC/USDT, FTM/USDT, ICP/USDT, DOGE/USDT, XEC/USDT, IOTA/USDT, AVAX/USDT, DOT/USDT, LTC/USDT, EOS/USDT, IOST/USDT, STMX/USDT, FTT/USDT, TWT/USDT, ALICE/USDT, ATA/USDT, ETC/USDT, VET/USDT, SAND/USDT, LINK/USDT, THETA/USDT, SHIB/USDT, CHZ/USDT, LUNA/USDT, IOTX/USDT, TRX/USDT, TLM/USDT, BCH/USDT, REEF/USDT, CAKE/USDT, NEO/USDT, SLP/USDT, RVN/USDT, ATOM/USDT, SUSHI/USDT, ARDR/USDT, OMG/USDT, GRT/USDT, 1INCH/USDT, AAVE/USDT, C98/USDT, UNI/USDT, HBAR/USDT, CRV/USDT, DENT/USDT, MBOX/USDT, BTT/USDT, SRM/USDT, YFI/USDT, HOT/USDT, XLM/USDT, FIS/USDT, REQ/USDT, SXP/USDT, KSM/USDT, QNT/USDT, NEAR/USDT, COMP/USDT, QTUM/USDT, CHR/USDT, SC/USDT, XVS/USDT, ONT/USDT, COTI/USDT, NKN/USDT, RUNE/USDT, ANKR/USDT, MANA/USDT, CTXC/USDT, AR/USDT, RAY/USDT, BAKE/USDT, ARPA/USDT, XTZ/USDT, ZIL/USDT, ONG/USDT, ROSE/USDT, PNT/USDT, ALGO/USDT, MINA/USDT, WIN/USDT, AUDIO/USDT, STORJ/USDT, EPS/USDT, MDX/USDT, ZEC/USDT, ENJ/USDT, HIVE/USDT, TFUEL/USDT, WRX/USDT, SNX/USDT, SKL/USDT, LINA/USDT, DODO/USDT, UNFI/USDT, XEM/USDT, EGLD/USDT, ICX/USDT, WAVES/USDT, ONE/USDT, DASH/USDT, KAVA/USDT, SUPER/USDT, TKO/USDT, OGN/USDT, XMR/USDT, OCEAN/USDT, CELO/USDT, BAT/USDT, FUN/USDT, LRC/USDT, ALPHA/USDT, MASK/USDT, TRU/USDT, DNT/USDT, LIT/USDT, FET/USDT, GTC/USDT, CELR/USDT, DEXE/USDT, ZEN/USDT, WAXP/USDT, CTSI/USDT, HNT/USDT, YFII/USDT, BEL/USDT, ZRX/USDT, DEGO/USDT, RSR/USDT, COS/USDT, FLM/USDT, BAL/USDT, MFT/USDT, RLC/USDT, KNC/USDT, REN/USDT, INJ/USDT, FLOW/USDT, SFP/USDT, BAND/USDT, CTK/USDT, SUN/USDT, AKRO/USDT, XVG/USDT, NANO/USDT, STRAX/USDT, PUNDIX/USDT, TVK/USDT, MKR/USDT, CLV/USDT, TRB/USDT, ETHUP/USDT, KEEP/USDT, TCT/USDT, POND/USDT, LTO/USDT, ANT/USDT, TOMO/USDT, ACM/USDT, FIO/USDT, VITE/USDT, MBL/USDT, JST/USDT, MTL/USDT, UTK/USDT, BLZ/USDT, ORN/USDT, STPT/USDT, CFX/USDT, OM/USDT, PERP/USDT, MIR/USDT, STX/USDT, ERN/USDT, TUSD/USDT, PSG/USDT, NULS/USDT, OXT/USDT, REP/USDT, BNBUP/USDT, DATA/USDT, WAN/USDT, BURGER/USDT, RAMP/USDT, ATM/USDT, DGB/USDT, DIA/USDT, BEAM/USDT, UMA/USDT, ETHDOWN/USDT, CKB/USDT, TRIBE/USDT, FARM/USDT, BTCUP/USDT, BZRX/USDT, ALPACA/USDT, DOTUP/USDT, BTS/USDT, FOR/USDT, ADAUP/USDT, HARD/USDT, LSK/USDT, POLS/USDT, FORTH/USDT, TORN/USDT, VTHO/USDT, BTG/USDT, QUICK/USDT, FILUP/USDT, PAX/USDT, MITH/USDT, SUSHIUP/USDT, BTCDOWN/USDT, XRPDOWN/USDT, BNBDOWN/USDT, DUSK/USDT, XRPUP/USDT, WTC/USDT, DOCK/USDT, AUTO/USDT, BTCST/USDT, KLAY/USDT, WNXM/USDT, KEY/USDT, FILDOWN/USDT, NU/USDT, IRIS/USDT, KMD/USDT, TROY/USDT, WING/USDT, AION/USDT, PHA/USDT, SUSHIDOWN/USDT, EOSUP/USDT, LTCUP/USDT, GHST/USDT, PAXG/USDT, BNT/USDT, AVA/USDT, BADGER/USDT, PERL/USDT, COCOS/USDT, GXS/USDT, MDT/USDT, 1INCHUP/USDT, GTO/USDT, LINKUP/USDT, AAVEUP/USDT, FIRO/USDT, JUV/USDT, MLN/USDT, UNIUP/USDT, LPT/USDT, NMR/USDT, AAVEDOWN/USDT, 1INCHDOWN/USDT, ASR/USDT, OG/USDT, BAR/USDT, DREP/USDT, ADADOWN/USDT, BOND/USDT, DCR/USDT, DOTDOWN/USDT, GNO/USDT, NBS/USDT, SXPUP/USDT, EOSDOWN/USDT, YFIUP/USDT, RIF/USDT, LTCDOWN/USDT, XLMUP/USDT, YFIDOWN/USDT, LINKDOWN/USDT, TRXUP/USDT, BCHUP/USDT, XTZUP/USDT, SXPDOWN/USDT, UNIDOWN/USDT, XTZDOWN/USDT, BCHDOWN/USDT, TRXDOWN/USDT, XLMDOWN/USDT, SUSD/USDT'"
   ]
  },
  {
   "cell_type": "code",
   "execution_count": 6,
   "id": "5e1e6ea2",
   "metadata": {},
   "outputs": [
    {
     "data": {
      "text/plain": [
       "array(['GALAUSDT', 'WAXPUSDT', 'HIVEUSDT', 'ONEUSDT', 'BTCUSDT',\n",
       "       'ETHUSDT', 'AXSUSDT', 'SOLUSDT', 'MATICUSDT', 'ADAUSDT', 'BNBUSDT',\n",
       "       'FILUSDT', 'XRPUSDT', 'CVCUSDT', 'FTMUSDT', 'ICPUSDT', 'DOGEUSDT',\n",
       "       'XECUSDT', 'IOTAUSDT', 'AVAXUSDT', 'DOTUSDT', 'LTCUSDT', 'EOSUSDT',\n",
       "       'IOSTUSDT', 'STMXUSDT', 'FTTUSDT', 'TWTUSDT', 'ALICEUSDT',\n",
       "       'ATAUSDT', 'ETCUSDT', 'VETUSDT', 'SANDUSDT', 'LINKUSDT',\n",
       "       'THETAUSDT', 'SHIBUSDT', 'CHZUSDT', 'LUNAUSDT', 'IOTXUSDT',\n",
       "       'TRXUSDT', 'TLMUSDT', 'BCHUSDT', 'REEFUSDT', 'CAKEUSDT', 'NEOUSDT',\n",
       "       'SLPUSDT', 'RVNUSDT', 'ATOMUSDT', 'SUSHIUSDT', 'ARDRUSDT',\n",
       "       'OMGUSDT', 'GRTUSDT', '1INCHUSDT', 'AAVEUSDT', 'C98USDT',\n",
       "       'UNIUSDT', 'HBARUSDT', 'CRVUSDT', 'DENTUSDT', 'MBOXUSDT',\n",
       "       'BTTUSDT', 'SRMUSDT', 'YFIUSDT', 'HOTUSDT', 'XLMUSDT', 'FISUSDT',\n",
       "       'REQUSDT', 'SXPUSDT', 'KSMUSDT', 'QNTUSDT', 'NEARUSDT', 'COMPUSDT',\n",
       "       'QTUMUSDT', 'CHRUSDT', 'SCUSDT', 'XVSUSDT', 'ONTUSDT', 'COTIUSDT',\n",
       "       'NKNUSDT', 'RUNEUSDT', 'ANKRUSDT', 'MANAUSDT', 'CTXCUSDT',\n",
       "       'ARUSDT', 'RAYUSDT', 'BAKEUSDT', 'ARPAUSDT', 'XTZUSDT', 'ZILUSDT',\n",
       "       'ONGUSDT', 'ROSEUSDT', 'PNTUSDT', 'ALGOUSDT', 'MINAUSDT',\n",
       "       'WINUSDT', 'AUDIOUSDT', 'STORJUSDT', 'EPSUSDT', 'MDXUSDT',\n",
       "       'ZECUSDT', 'ENJUSDT', 'HIVEUSDT', 'TFUELUSDT', 'WRXUSDT',\n",
       "       'SNXUSDT', 'SKLUSDT', 'LINAUSDT', 'DODOUSDT', 'UNFIUSDT',\n",
       "       'XEMUSDT', 'EGLDUSDT', 'ICXUSDT', 'WAVESUSDT', 'ONEUSDT',\n",
       "       'DASHUSDT', 'KAVAUSDT', 'TKOUSDT', 'OGNUSDT', 'XMRUSDT',\n",
       "       'OCEANUSDT', 'CELOUSDT', 'BATUSDT', 'FUNUSDT', 'LRCUSDT',\n",
       "       'ALPHAUSDT', 'MASKUSDT', 'TRUUSDT', 'DNTUSDT', 'LITUSDT',\n",
       "       'FETUSDT', 'GTCUSDT', 'CELRUSDT', 'DEXEUSDT', 'ZENUSDT',\n",
       "       'WAXPUSDT', 'CTSIUSDT', 'HNTUSDT', 'YFIIUSDT', 'BELUSDT',\n",
       "       'ZRXUSDT', 'DEGOUSDT', 'RSRUSDT', 'COSUSDT', 'FLMUSDT', 'BALUSDT',\n",
       "       'MFTUSDT', 'RLCUSDT', 'KNCUSDT', 'RENUSDT', 'INJUSDT', 'FLOWUSDT',\n",
       "       'SFPUSDT', 'BANDUSDT', 'CTKUSDT', 'SUNUSDT', 'AKROUSDT', 'XVGUSDT',\n",
       "       'NANOUSDT', 'STRAXUSDT', 'PUNDIXUSDT', 'TVKUSDT', 'MKRUSDT',\n",
       "       'CLVUSDT', 'TRBUSDT', 'KEEPUSDT', 'TCTUSDT', 'PONDUSDT', 'LTOUSDT',\n",
       "       'ANTUSDT', 'TOMOUSDT', 'ACMUSDT', 'FIOUSDT', 'VITEUSDT', 'MBLUSDT',\n",
       "       'JSTUSDT', 'MTLUSDT', 'UTKUSDT', 'BLZUSDT', 'ORNUSDT', 'STPTUSDT',\n",
       "       'CFXUSDT', 'OMUSDT', 'PERPUSDT', 'MIRUSDT', 'STXUSDT', 'ERNUSDT',\n",
       "       'TUSDUSDT', 'PSGUSDT', 'NULSUSDT', 'OXTUSDT', 'REPUSDT',\n",
       "       'DATAUSDT', 'WANUSDT', 'BURGERUSDT', 'RAMPUSDT', 'ATMUSDT',\n",
       "       'DGBUSDT', 'DIAUSDT', 'BEAMUSDT', 'UMAUSDT', 'CKBUSDT',\n",
       "       'TRIBEUSDT', 'FARMUSDT', 'BZRXUSDT', 'ALPACAUSDT', 'BTSUSDT',\n",
       "       'FORUSDT', 'HARDUSDT', 'LSKUSDT', 'POLSUSDT', 'FORTHUSDT',\n",
       "       'TORNUSDT', 'VTHOUSDT', 'BTGUSDT', 'QUICKUSDT', 'PAXUSDT',\n",
       "       'MITHUSDT', 'DUSKUSDT', 'WTCUSDT', 'DOCKUSDT', 'AUTOUSDT',\n",
       "       'BTCSTUSDT', 'KLAYUSDT', 'WNXMUSDT', 'KEYUSDT', 'NUUSDT',\n",
       "       'IRISUSDT', 'KMDUSDT', 'TROYUSDT', 'WINGUSDT', 'AIONUSDT',\n",
       "       'PHAUSDT', 'GHSTUSDT', 'PAXGUSDT', 'BNTUSDT', 'AVAUSDT',\n",
       "       'BADGERUSDT', 'PERLUSDT', 'COCOSUSDT', 'GXSUSDT', 'MDTUSDT',\n",
       "       'GTOUSDT', 'FIROUSDT', 'JUVUSDT', 'MLNUSDT', 'LPTUSDT', 'NMRUSDT',\n",
       "       'ASRUSDT', 'OGUSDT', 'BARUSDT', 'DREPUSDT', 'BONDUSDT', 'DCRUSDT',\n",
       "       'GNOUSDT', 'NBSUSDT', 'RIFUSDT', 'SUSDUSDT'], dtype='<U10')"
      ]
     },
     "execution_count": 6,
     "metadata": {},
     "output_type": "execute_result"
    }
   ],
   "source": [
    "whitelist=whitelist.lstrip()\n",
    "array = whitelist.split(\",\")\n",
    "array\n",
    "wl = []\n",
    "bl = []\n",
    "blacklist = \"\"\n",
    "whitelist = \"\"\n",
    "symbols =[]\n",
    "for i in range(0 ,len(array)):\n",
    "    if (array[i].find('DOWN') != -1):\n",
    "        bl.append(str(array[i]).lstrip())\n",
    "        #print (\"Contains given substring \")\n",
    "        blacklist += str(array[i])\n",
    "    elif (array[i].find('UP') != -1):\n",
    "        bl.append(str(array[i]).lstrip())\n",
    "        #print (\"Contains given substring \")\n",
    "        blacklist += str(array[i])\n",
    "\n",
    "    else:\n",
    "        wl.append(str(array[i]).lstrip().replace(\"/\",\"\"))\n",
    "        whitelist +=str(array[i]).lstrip()\n",
    "        #print (\"Doesn't contains given substring\")\n",
    "    \n",
    "#for i in range (0,len(wl)):\n",
    "    #print(f'\\\"{wl[i]}\\\"\\n,')\n",
    "    \n",
    "#for i in range (0,len(bl)):\n",
    "    #print(f'\\\"{bl[i]}\\\",')\n",
    "    \n",
    "#for b in range (0,len(wl)):\n",
    "    #symbols = array[b].split(\"/\")\n",
    "    #print(f'\\\"{symbols[b]}\\\",')\n",
    "    \n",
    "#for i in range (0,len(wl)):   \n",
    "        #symbols[i]=wl[i].replace(\"/\",\"\")\n",
    "    \n",
    "#symbols to be used to get the prices from binance url\n",
    "symbols = np.array(wl)\n",
    "\n",
    "#for b in range(0,len(symbols)):\n",
    "#     print(f'\\\"{symbols[b]}\\n\\\",')\n",
    "        \n",
    "# whitelist can be used for the bot whitelist\n",
    "whitelist\n",
    "symbols"
   ]
  },
  {
   "cell_type": "code",
   "execution_count": 7,
   "id": "e40e9fa5",
   "metadata": {
    "scrolled": true
   },
   "outputs": [
    {
     "name": "stdout",
     "output_type": "stream",
     "text": [
      "https://api.binance.com/api/v1/klines?symbol=STEEMETH&interval=4h\n"
     ]
    }
   ],
   "source": [
    "## get the data \n",
    "import os\n",
    "live = pd.to_datetime('today')\n",
    "start = pd.to_datetime('2021-03-01')\n",
    "end = pd.to_datetime('2021-10-18')\n",
    "\n",
    "root_url = 'https://api.binance.com/api/v1/klines'\n",
    "symbol = 'STEEMETH'\n",
    "interval = '4h'\n",
    "url = root_url + '?symbol=' + symbol + '&interval=' + interval\n",
    "print(url)\n",
    "\n",
    "\n",
    "directory = 'BN-main'\n",
    "table = []\n",
    "   \n",
    "        \n",
    "        \n",
    "        #now = df.close[df.close.idxmax()]\n",
    "#get the live price \n",
    "        #array = filename.split(\"/\")\n",
    "        #symbol =array[0]+'USDT'\n",
    "for symbol in symbols:\n",
    "        url = root_url + '?symbol=' + symbol + '&interval=' + interval\n",
    "        data = json.loads(requests.get(url).text)\n",
    "        dflive = pd.DataFrame(data ,columns =['open_time',\n",
    "              'o', 'h', 'l', 'c', 'v',\n",
    "              'close_time', 'qav', 'num_trades',\n",
    "              'taker_base_vol', 'taker_quote_vol', 'ignore'])\n",
    "        dflive.open_time = pd.to_datetime(dflive['open_time'],unit='ms')\n",
    "        dflive=dflive.loc[(dflive.open_time>start)]\n",
    "        lastrow = dflive.iloc[-1]\n",
    "        now= float(lastrow.c)\n",
    "        alth = dflive.h.max()\n",
    "        altl = dflive.l.min()\n",
    "        #dflive.index = [dt.datetime.fromtimestamp(x/1000.0) for x in df.close_time]\n",
    "        \n",
    "        \n",
    "        #indicator =  data.DataReader(array[0]+'-USD', 'stooq',end,live)\n",
    "        #price = indicator.loc[indicator.Close.idxmax()]\n",
    "        #now = price.Close\n",
    "        tuple =(symbol,alth,altl,now)\n",
    "        table.append(tuple)\n",
    "        #print(\"name is: \",array[0] ,alth,altl)\n",
    "        \n",
    "\n",
    "table[0]\n",
    "AllTime = pd.DataFrame(table,columns=['Indicator','ATH','ATL','Current'])\n",
    "AllTime.ATH=AllTime.ATH.astype(float)\n",
    "AllTime.ATL=AllTime.ATL.astype(float)\n",
    "AllTime.Current=AllTime.Current.astype(float)\n",
    "AllTime.dtypes\n",
    "\n",
    "AllTime['percent']=(AllTime['Current']/AllTime['ATH'])*100\n",
    "AllTime.sort_values(by=['percent'],ascending=True,inplace = True)\n",
    "#AllTime.sort_values(by='ATH',ascending=False)\n",
    "#AllTime.to_csv(\"alltimeHL.csv\", mode=\"w\")\n",
    "#data.sort_values(\"Name\", axis = 0, ascending = True,inplace = True, na_position ='last')\n"
   ]
  },
  {
   "cell_type": "code",
   "execution_count": 8,
   "id": "a88ea65c",
   "metadata": {},
   "outputs": [],
   "source": [
    "#AllTime.shape"
   ]
  },
  {
   "cell_type": "code",
   "execution_count": 9,
   "id": "3e3dd083",
   "metadata": {},
   "outputs": [
    {
     "name": "stdout",
     "output_type": "stream",
     "text": [
      "      Indicator         ATH         ATL     Current    percent\n",
      "214     PAXUSDT  999.000000    0.990100    0.999600   0.100060\n",
      "97      MDXUSDT    2.163000    0.634000    0.638000  29.496070\n",
      "221    KLAYUSDT    4.400000    0.991000    1.330000  30.227273\n",
      "227    TROYUSDT    0.040128    0.007226    0.013104  32.655502\n",
      "250    BONDUSDT   75.000000   21.270000   25.030000  33.373333\n",
      "224      NUUSDT    2.764600    0.250000    0.927600  33.552774\n",
      "220   BTCSTUSDT   90.860000   13.500000   30.640000  33.722210\n",
      "179     CFXUSDT    0.838900    0.226900    0.291800  34.783645\n",
      "235  BADGERUSDT   56.915000   14.590000   23.860000  41.922165\n",
      "44      SLPUSDT    0.136000    0.055100    0.057200  42.058824\n",
      "23     IOSTUSDT    0.086500    0.036060    0.036450  42.138728\n",
      "34     SHIBUSDT    0.000089    0.000005    0.000038  42.974927\n",
      "240     GTOUSDT    0.138400    0.029590    0.061090  44.140173\n",
      "248     BARUSDT   24.600000   10.750000   10.900000  44.308943\n",
      "234     AVAUSDT    5.400000    2.339000    2.448000  45.333333\n",
      "201    FARMUSDT  268.000000  113.200000  122.000000  45.522388\n",
      "17      XECUSDT    0.000316    0.000134    0.000145  45.867089\n",
      "51    1INCHUSDT    7.730000    2.214000    3.552000  45.950841\n",
      "210    TORNUSDT   98.430000   44.710000   45.370000  46.093671\n",
      "68      QNTUSDT  430.000000  196.200000  199.400000  46.372093\n",
      "96      EPSUSDT    0.955000    0.417500    0.444800  46.575916\n",
      "15      ICPUSDT   87.000000   37.460000   40.640000  46.712644\n",
      "149    FLOWUSDT   26.360000   11.000000   12.350000  46.851290\n",
      "215    MITHUSDT    0.187500    0.038340    0.091330  48.709333\n",
      "86      XTZUSDT    9.171000    3.884000    4.468000  48.718787\n",
      "52     AAVEUSDT  459.000000  224.300000  226.700000  49.389978\n",
      "180      OMUSDT    0.448400    0.188400    0.222600  49.643176\n",
      "249    DREPUSDT    2.200000    0.496600    1.094000  49.727273\n",
      "246     ASRUSDT    9.520000    4.700000    4.745000  49.842437\n",
      "Empty DataFrame\n",
      "Columns: [Indicator, ATH, ATL, Current, percent]\n",
      "Index: []\n",
      "Empty DataFrame\n",
      "Columns: [Indicator, ATH, ATL, Current, percent]\n",
      "Index: []\n"
     ]
    },
    {
     "name": "stderr",
     "output_type": "stream",
     "text": [
      "/Users/hjabbour/opt/anaconda3/envs/ML/lib/python3.7/site-packages/ipykernel_launcher.py:2: SettingWithCopyWarning: \n",
      "A value is trying to be set on a copy of a slice from a DataFrame\n",
      "\n",
      "See the caveats in the documentation: https://pandas.pydata.org/pandas-docs/stable/user_guide/indexing.html#returning-a-view-versus-a-copy\n",
      "  \n"
     ]
    }
   ],
   "source": [
    "drop = AllTime.loc[(AllTime['percent']<50)]\n",
    "sort = drop.sort_values(by=['percent'],ascending=True,inplace = True)\n",
    "print(drop.iloc[0:60,0:5])\n",
    "print(drop.iloc[60:110,0:5])\n",
    "print(drop.iloc[110:160,0:5])"
   ]
  },
  {
   "cell_type": "code",
   "execution_count": 10,
   "id": "16c84b3d",
   "metadata": {},
   "outputs": [],
   "source": [
    "AllTime.to_csv(\"alltimeHLJul-Spe.csv\", mode=\"w\")"
   ]
  },
  {
   "cell_type": "code",
   "execution_count": 11,
   "id": "e3711092",
   "metadata": {},
   "outputs": [],
   "source": [
    "drop.to_csv(\"dropJul-Sep.csv\",mode =\"w\")"
   ]
  },
  {
   "cell_type": "code",
   "execution_count": null,
   "id": "4d5120e8",
   "metadata": {},
   "outputs": [],
   "source": []
  },
  {
   "cell_type": "code",
   "execution_count": null,
   "id": "6957dace",
   "metadata": {},
   "outputs": [],
   "source": []
  }
 ],
 "metadata": {
  "kernelspec": {
   "display_name": "Python 3",
   "language": "python",
   "name": "python3"
  },
  "language_info": {
   "codemirror_mode": {
    "name": "ipython",
    "version": 3
   },
   "file_extension": ".py",
   "mimetype": "text/x-python",
   "name": "python",
   "nbconvert_exporter": "python",
   "pygments_lexer": "ipython3",
   "version": "3.7.10"
  }
 },
 "nbformat": 4,
 "nbformat_minor": 5
}
