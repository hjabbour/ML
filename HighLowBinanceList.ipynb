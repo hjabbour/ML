{
 "cells": [
  {
   "cell_type": "code",
   "execution_count": 136,
   "id": "d3661386",
   "metadata": {},
   "outputs": [],
   "source": [
    "import numpy as np \n",
    "import pandas as pd \n",
    "from datetime import date\n",
    "#Data Source (Pandas Data Reader)\n",
    "from pandas_datareader import data\n",
    "import requests \n",
    "import json\n",
    "\n",
    "#Data Source(Pandas Data Reader)\n"
   ]
  },
  {
   "cell_type": "code",
   "execution_count": 137,
   "id": "c198dbb1",
   "metadata": {},
   "outputs": [],
   "source": [
    "#oldlist = \"ETH/USDT, BTC/USDT, SOL/USDT, FTM/USDT, ADA/USDT, BNB/USDT, DOT/USDT, CELO/USDT, XRP/USDT, LUNA/USDT, AVAX/USDT, ICP/USDT, SAND/USDT, AR/USDT, DOGE/USDT, ALICE/USDT, MATIC/USDT, TLM/USDT, ATOM/USDT, C98/USDT, SRM/USDT, RAY/USDT, ONE/USDT, LINK/USDT, AXS/USDT, XTZ/USDT, EGLD/USDT, KSM/USDT, FIL/USDT, VET/USDT, KAVA/USDT, OGN/USDT, FTT/USDT, MBOX/USDT, ETC/USDT, MINA/USDT, CAKE/USDT, CHZ/USDT, PERP/USDT, LRC/USDT, ATA/USDT, CLV/USDT, WAVES/USDT, LTC/USDT, ENJ/USDT, EOS/USDT, UNI/USDT, THETA/USDT, CHR/USDT, EPS/USDT, RUNE/USDT, NEAR/USDT, SXP/USDT, SUSHI/USDT, SLP/USDT, TRX/USDT, CRV/USDT, FLOW/USDT, MANA/USDT, BCH/USDT, YFII/USDT, SHIB/USDT, COMP/USDT, ALPHA/USDT, AUDIO/USDT, ROSE/USDT, ALGO/USDT, AAVE/USDT, BAKE/USDT, COTI/USDT, CTK/USDT, DENT/USDT, XLM/USDT, GRT/USDT, OMG/USDT, ARPA/USDT, MASK/USDT, LTO/USDT, WIN/USDT, SKL/USDT, NEO/USDT, DGB/USDT, BTT/USDT, XMR/USDT, TVK/USDT, TFUEL/USDT, DASH/USDT, RVN/USDT, HOT/USDT, DEGO/USDT, FARM/USDT, GNO/USDT, ORN/USDT, FET/USDT, FUN/USDT, TKO/USDT, IOST/USDT, ZIL/USDT, CELR/USDT, ONT/USDT, LINA/USDT, INJ/USDT, SNX/USDT, REEF/USDT, 1INCH/USDT, SUPER/USDT, RSR/USDT, HBAR/USDT, DEXE/USDT, IOTX/USDT, IOTA/USDT, SC/USDT, BADGER/USDT, RLC/USDT, NU/USDT, WAXP/USDT, ZEC/USDT, HNT/USDT, UNFI/USDT, DODO/USDT, PAX/USDT, GTC/USDT, QTUM/USDT, WRX/USDT, ONG/USDT, ZEN/USDT, XVS/USDT, YFI/USDT, ANKR/USDT, PSG/USDT, CTSI/USDT, TROY/USDT, STMX/USDT, ICX/USDT, SFP/USDT, TRU/USDT, MIR/USDT, NANO/USDT, POND/USDT, FLM/USDT, TUSD/USDT, DNT/USDT, ETHUP/USDT, BAND/USDT, HARD/USDT, TWT/USDT, MKR/USDT, TRB/USDT, KEEP/USDT, OCEAN/USDT, FIS/USDT, BAT/USDT, TRIBE/USDT, REN/USDT, DIA/USDT, BNT/USDT, KEY/USDT, NKN/USDT, BURGER/USDT, XEM/USDT, ZRX/USDT, LIT/USDT, STORJ/USDT, WTC/USDT, DOTUP/USDT, MDX/USDT, ETHDOWN/USDT, BAL/USDT, AVA/USDT, PHA/USDT, DATA/USDT, QNT/USDT, CVC/USDT, TOMO/USDT, UTK/USDT, ALPACA/USDT, XVG/USDT, BTCDOWN/USDT, ERN/USDT, MTL/USDT, BTCUP/USDT, DOTDOWN/USDT, SUN/USDT, COS/USDT, LPT/USDT, OXT/USDT, FOR/USDT, AKRO/USDT, BNBUP/USDT, KMD/USDT, CFX/USDT, BLZ/USDT, DOCK/USDT, STX/USDT, POLS/USDT, FIO/USDT, XRPUP/USDT, REQ/USDT, KNC/USDT, KLAY/USDT, GXS/USDT, BTS/USDT, VTHO/USDT, BEL/USDT, LSK/USDT, FORTH/USDT, ADAUP/USDT, SUSHIUP/USDT, MLN/USDT, BZRX/USDT, VITE/USDT, XRPDOWN/USDT, REP/USDT, CKB/USDT, BTCST/USDT, MDT/USDT, OM/USDT, GHST/USDT, NMR/USDT, PERL/USDT, SUSHIDOWN/USDT, BTG/USDT, AUTO/USDT, NULS/USDT, UMA/USDT, MITH/USDT, PNT/USDT, WING/USDT, MFT/USDT, TORN/USDT, PAXG/USDT, JST/USDT, GTO/USDT, XTZDOWN/USDT, AION/USDT, COCOS/USDT, FIRO/USDT, RAMP/USDT, LINKUP/USDT, ATM/USDT, ADADOWN/USDT, STRAX/USDT, DCR/USDT, BNBDOWN/USDT, DUSK/USDT, PUNDIX/USDT, CTXC/USDT, DREP/USDT, QUICK/USDT, BEAM/USDT, HIVE/USDT, XTZUP/USDT, IRIS/USDT, WNXM/USDT, AAVEUP/USDT, JUV/USDT, ANT/USDT, BOND/USDT, UNIUP/USDT, WAN/USDT, EOSUP/USDT, BAR/USDT, 1INCHUP/USDT, MBL/USDT, AAVEDOWN/USDT, ARDR/USDT, SXPUP/USDT, UNIDOWN/USDT, LTCUP/USDT, NBS/USDT, STPT/USDT, TCT/USDT, ASR/USDT, OG/USDT, 1INCHDOWN/USDT, SXPDOWN/USDT, XLMUP/USDT, ACM/USDT, RIF/USDT, FILUP/USDT, EOSDOWN/USDT, LINKDOWN/USDT, TRXUP/USDT, YFIUP/USDT, BCHUP/USDT, LTCDOWN/USDT, TRXDOWN/USDT, XLMDOWN/USDT, FILDOWN/USDT, BCHDOWN/USDT, SUSD/USDT, YFIDOWN/USDT\""
   ]
  },
  {
   "cell_type": "code",
   "execution_count": 138,
   "id": "2e7054d4",
   "metadata": {},
   "outputs": [],
   "source": [
    "#oldlist = \"BTC/USDT, ETH/USDT, AXS/USDT, SOL/USDT, MATIC/USDT, ADA/USDT, BNB/USDT, FIL/USDT, XRP/USDT, CVC/USDT, FTM/USDT, ICP/USDT, DOGE/USDT, XEC/USDT, IOTA/USDT, AVAX/USDT, DOT/USDT, LTC/USDT, EOS/USDT, IOST/USDT, STMX/USDT, FTT/USDT, TWT/USDT, ALICE/USDT, ATA/USDT, ETC/USDT, VET/USDT, SAND/USDT, LINK/USDT, THETA/USDT, SHIB/USDT, CHZ/USDT, LUNA/USDT, IOTX/USDT, TRX/USDT, TLM/USDT, BCH/USDT, REEF/USDT, CAKE/USDT, NEO/USDT, SLP/USDT, RVN/USDT, ATOM/USDT, SUSHI/USDT, ARDR/USDT, OMG/USDT, GRT/USDT, 1INCH/USDT, AAVE/USDT, C98/USDT, UNI/USDT, HBAR/USDT, CRV/USDT, DENT/USDT, MBOX/USDT, BTT/USDT, SRM/USDT, YFI/USDT, HOT/USDT, XLM/USDT, FIS/USDT, REQ/USDT, SXP/USDT, KSM/USDT, QNT/USDT, NEAR/USDT, COMP/USDT, QTUM/USDT, CHR/USDT, SC/USDT, XVS/USDT, ONT/USDT, COTI/USDT, NKN/USDT, RUNE/USDT, ANKR/USDT, MANA/USDT, CTXC/USDT, AR/USDT, RAY/USDT, BAKE/USDT, ARPA/USDT, XTZ/USDT, ZIL/USDT, ONG/USDT, ROSE/USDT, PNT/USDT, ALGO/USDT, MINA/USDT, WIN/USDT, AUDIO/USDT, STORJ/USDT, EPS/USDT, MDX/USDT, ZEC/USDT, ENJ/USDT, HIVE/USDT, TFUEL/USDT, WRX/USDT, SNX/USDT, SKL/USDT, LINA/USDT, DODO/USDT, UNFI/USDT, XEM/USDT, EGLD/USDT, ICX/USDT, WAVES/USDT, ONE/USDT, DASH/USDT, KAVA/USDT, SUPER/USDT, TKO/USDT, OGN/USDT, XMR/USDT, OCEAN/USDT, CELO/USDT, BAT/USDT, FUN/USDT, LRC/USDT, ALPHA/USDT, MASK/USDT, TRU/USDT, DNT/USDT, LIT/USDT, FET/USDT, GTC/USDT, CELR/USDT, DEXE/USDT, ZEN/USDT, WAXP/USDT, CTSI/USDT, HNT/USDT, YFII/USDT, BEL/USDT, ZRX/USDT, DEGO/USDT, RSR/USDT, COS/USDT, FLM/USDT, BAL/USDT, MFT/USDT, RLC/USDT, KNC/USDT, REN/USDT, INJ/USDT, FLOW/USDT, SFP/USDT, BAND/USDT, CTK/USDT, SUN/USDT, AKRO/USDT, XVG/USDT, NANO/USDT, STRAX/USDT, PUNDIX/USDT, TVK/USDT, MKR/USDT, CLV/USDT, TRB/USDT, ETHUP/USDT, KEEP/USDT, TCT/USDT, POND/USDT, LTO/USDT, ANT/USDT, TOMO/USDT, ACM/USDT, FIO/USDT, VITE/USDT, MBL/USDT, JST/USDT, MTL/USDT, UTK/USDT, BLZ/USDT, ORN/USDT, STPT/USDT, CFX/USDT, OM/USDT, PERP/USDT, MIR/USDT, STX/USDT, ERN/USDT, TUSD/USDT, PSG/USDT, NULS/USDT, OXT/USDT, REP/USDT, BNBUP/USDT, DATA/USDT, WAN/USDT, BURGER/USDT, RAMP/USDT, ATM/USDT, DGB/USDT, DIA/USDT, BEAM/USDT, UMA/USDT, ETHDOWN/USDT, CKB/USDT, TRIBE/USDT, FARM/USDT, BTCUP/USDT, BZRX/USDT, ALPACA/USDT, DOTUP/USDT, BTS/USDT, FOR/USDT, ADAUP/USDT, HARD/USDT, LSK/USDT, POLS/USDT, FORTH/USDT, TORN/USDT, VTHO/USDT, BTG/USDT, QUICK/USDT, FILUP/USDT, PAX/USDT, MITH/USDT, SUSHIUP/USDT, BTCDOWN/USDT, XRPDOWN/USDT, BNBDOWN/USDT, DUSK/USDT, XRPUP/USDT, WTC/USDT, DOCK/USDT, AUTO/USDT, BTCST/USDT, KLAY/USDT, WNXM/USDT, KEY/USDT, FILDOWN/USDT, NU/USDT, IRIS/USDT, KMD/USDT, TROY/USDT, WING/USDT, AION/USDT, PHA/USDT, SUSHIDOWN/USDT, EOSUP/USDT, LTCUP/USDT, GHST/USDT, PAXG/USDT, BNT/USDT, AVA/USDT, BADGER/USDT, PERL/USDT, COCOS/USDT, GXS/USDT, MDT/USDT, 1INCHUP/USDT, GTO/USDT, LINKUP/USDT, AAVEUP/USDT, FIRO/USDT, JUV/USDT, MLN/USDT, UNIUP/USDT, LPT/USDT, NMR/USDT, AAVEDOWN/USDT, 1INCHDOWN/USDT, ASR/USDT, OG/USDT, BAR/USDT, DREP/USDT, ADADOWN/USDT, BOND/USDT, DCR/USDT, DOTDOWN/USDT, GNO/USDT, NBS/USDT, SXPUP/USDT, EOSDOWN/USDT, YFIUP/USDT, RIF/USDT, LTCDOWN/USDT, XLMUP/USDT, YFIDOWN/USDT, LINKDOWN/USDT, TRXUP/USDT, BCHUP/USDT, XTZUP/USDT, SXPDOWN/USDT, UNIDOWN/USDT, XTZDOWN/USDT, BCHDOWN/USDT, TRXDOWN/USDT, XLMDOWN/USDT, SUSD/USDT\""
   ]
  },
  {
   "cell_type": "code",
   "execution_count": 139,
   "id": "3ffd6cfd",
   "metadata": {},
   "outputs": [],
   "source": [
    "#whitelist1 = 'RSR/USDT,ETH/USDT,BTC/USDT,SOL/USDT,FTM/USDT,ADA/USDT,BNB/USDT,DOT/USDT,CELO/USDT,XRP/USDT,LUNA/USDT,AVAX/USDT,ICP/USDT,SAND/USDT,AR/USDT,DOGE/USDT,ALICE/USDT,MATIC/USDT,TLM/USDT,ATOM/USDT,C98/USDT,SRM/USDT,RAY/USDT,ONE/USDT,LINK/USDT,AXS/USDT,XTZ/USDT,EGLD/USDT,KSM/USDT,FIL/USDT,VET/USDT,KAVA/USDT,OGN/USDT,FTT/USDT,MBOX/USDT,ETC/USDT,MINA/USDT,CAKE/USDT,CHZ/USDT,PERP/USDT,LRC/USDT,ATA/USDT,CLV/USDT,WAVES/USDT,LTC/USDT,ENJ/USDT,EOS/USDT,UNI/USDT,THETA/USDT,CHR/USDT,EPS/USDT,RUNE/USDT,NEAR/USDT,SXP/USDT,SUSHI/USDT,SLP/USDT,TRX/USDT,CRV/USDT,FLOW/USDT,MANA/USDT,BCH/USDT,YFII/USDT,SHIB/USDT,COMP/USDT,ALPHA/USDT,AUDIO/USDT,ROSE/USDT,ALGO/USDT,AAVE/USDT,BAKE/USDT,COTI/USDT,CTK/USDT,DENT/USDT,XLM/USDT,GRT/USDT,OMG/USDT,ARPA/USDT,MASK/USDT,LTO/USDT,WIN/USDT,SKL/USDT,NEO/USDT,DGB/USDT,BTT/USDT,XMR/USDT,TVK/USDT,TFUEL/USDT,DASH/USDT,RVN/USDT,HOT/USDT,DEGO/USDT,FARM/USDT,GNO/USDT,ORN/USDT,FET/USDT,FUN/USDT,TKO/USDT,IOST/USDT,ZIL/USDT,CELR/USDT,ONT/USDT,LINA/USDT,INJ/USDT,SNX/USDT,REEF/USDT,1INCH/USDT,RSR/USDT,HBAR/USDT,DEXE/USDT,IOTX/USDT,IOTA/USDT,SC/USDT,BADGER/USDT,RLC/USDT,NU/USDT,WAXP/USDT,ZEC/USDT,HNT/USDT,UNFI/USDT,DODO/USDT,PAX/USDT,GTC/USDT,QTUM/USDT,WRX/USDT,ONG/USDT,ZEN/USDT,XVS/USDT,YFI/USDT,ANKR/USDT,PSG/USDT,CTSI/USDT,TROY/USDT,STMX/USDT,ICX/USDT,SFP/USDT,TRU/USDT,MIR/USDT,NANO/USDT,POND/USDT,FLM/USDT,TUSD/USDT,DNT/USDT,BAND/USDT,HARD/USDT,TWT/USDT,MKR/USDT,TRB/USDT,KEEP/USDT,OCEAN/USDT,FIS/USDT,BAT/USDT,TRIBE/USDT,REN/USDT,DIA/USDT,BNT/USDT,KEY/USDT,NKN/USDT,BURGER/USDT,XEM/USDT,ZRX/USDT,LIT/USDT,STORJ/USDT,WTC/USDT,MDX/USDT,BAL/USDT,AVA/USDT,PHA/USDT,DATA/USDT,QNT/USDT,CVC/USDT,TOMO/USDT,UTK/USDT,ALPACA/USDT,XVG/USDT,ERN/USDT,MTL/USDT,SUN/USDT,COS/USDT,LPT/USDT,OXT/USDT,FOR/USDT,AKRO/USDT,KMD/USDT,CFX/USDT,BLZ/USDT,DOCK/USDT,STX/USDT,POLS/USDT,FIO/USDT,REQ/USDT,KNC/USDT,KLAY/USDT,GXS/USDT,BTS/USDT,VTHO/USDT,BEL/USDT,LSK/USDT,FORTH/USDT,MLN/USDT,BZRX/USDT,VITE/USDT,REP/USDT,CKB/USDT,BTCST/USDT,MDT/USDT,OM/USDT,GHST/USDT,NMR/USDT,PERL/USDT,BTG/USDT,AUTO/USDT,NULS/USDT,UMA/USDT,MITH/USDT,PNT/USDT,WING/USDT,MFT/USDT,TORN/USDT,PAXG/USDT,JST/USDT,GTO/USDT,AION/USDT,COCOS/USDT,FIRO/USDT,RAMP/USDT,ATM/USDT,STRAX/USDT,DCR/USDT,DUSK/USDT,PUNDIX/USDT,CTXC/USDT,DREP/USDT,QUICK/USDT,BEAM/USDT,HIVE/USDT,IRIS/USDT,WNXM/USDT,JUV/USDT,ANT/USDT,BOND/USDT,WAN/USDT,BAR/USDT,MBL/USDT,ARDR/USDT,NBS/USDT,STPT/USDT,TCT/USDT,ASR/USDT,OG/USDT,ACM/USDT,RIF/USDT,SUSD/USDT'"
   ]
  },
  {
   "cell_type": "code",
   "execution_count": 140,
   "id": "b4798a21",
   "metadata": {},
   "outputs": [],
   "source": [
    "whitelist = 'BTC/USDT, ETH/USDT, AXS/USDT, SOL/USDT, MATIC/USDT, ADA/USDT, BNB/USDT, FIL/USDT, XRP/USDT, CVC/USDT, FTM/USDT, ICP/USDT, DOGE/USDT, XEC/USDT, IOTA/USDT, AVAX/USDT, DOT/USDT, LTC/USDT, EOS/USDT, IOST/USDT, STMX/USDT, FTT/USDT, TWT/USDT, ALICE/USDT, ATA/USDT, ETC/USDT, VET/USDT, SAND/USDT, LINK/USDT, THETA/USDT, SHIB/USDT, CHZ/USDT, LUNA/USDT, IOTX/USDT, TRX/USDT, TLM/USDT, BCH/USDT, REEF/USDT, CAKE/USDT, NEO/USDT, SLP/USDT, RVN/USDT, ATOM/USDT, SUSHI/USDT, ARDR/USDT, OMG/USDT, GRT/USDT, 1INCH/USDT, AAVE/USDT, C98/USDT, UNI/USDT, HBAR/USDT, CRV/USDT, DENT/USDT, MBOX/USDT, BTT/USDT, SRM/USDT, YFI/USDT, HOT/USDT, XLM/USDT, FIS/USDT, REQ/USDT, SXP/USDT, KSM/USDT, QNT/USDT, NEAR/USDT, COMP/USDT, QTUM/USDT, CHR/USDT, SC/USDT, XVS/USDT, ONT/USDT, COTI/USDT, NKN/USDT, RUNE/USDT, ANKR/USDT, MANA/USDT, CTXC/USDT, AR/USDT, RAY/USDT, BAKE/USDT, ARPA/USDT, XTZ/USDT, ZIL/USDT, ONG/USDT, ROSE/USDT, PNT/USDT, ALGO/USDT, MINA/USDT, WIN/USDT, AUDIO/USDT, STORJ/USDT, EPS/USDT, MDX/USDT, ZEC/USDT, ENJ/USDT, HIVE/USDT, TFUEL/USDT, WRX/USDT, SNX/USDT, SKL/USDT, LINA/USDT, DODO/USDT, UNFI/USDT, XEM/USDT, EGLD/USDT, ICX/USDT, WAVES/USDT, ONE/USDT, DASH/USDT, KAVA/USDT, SUPER/USDT, TKO/USDT, OGN/USDT, XMR/USDT, OCEAN/USDT, CELO/USDT, BAT/USDT, FUN/USDT, LRC/USDT, ALPHA/USDT, MASK/USDT, TRU/USDT, DNT/USDT, LIT/USDT, FET/USDT, GTC/USDT, CELR/USDT, DEXE/USDT, ZEN/USDT, WAXP/USDT, CTSI/USDT, HNT/USDT, YFII/USDT, BEL/USDT, ZRX/USDT, DEGO/USDT, RSR/USDT, COS/USDT, FLM/USDT, BAL/USDT, MFT/USDT, RLC/USDT, KNC/USDT, REN/USDT, INJ/USDT, FLOW/USDT, SFP/USDT, BAND/USDT, CTK/USDT, SUN/USDT, AKRO/USDT, XVG/USDT, NANO/USDT, STRAX/USDT, PUNDIX/USDT, TVK/USDT, MKR/USDT, CLV/USDT, TRB/USDT, ETHUP/USDT, KEEP/USDT, TCT/USDT, POND/USDT, LTO/USDT, ANT/USDT, TOMO/USDT, ACM/USDT, FIO/USDT, VITE/USDT, MBL/USDT, JST/USDT, MTL/USDT, UTK/USDT, BLZ/USDT, ORN/USDT, STPT/USDT, CFX/USDT, OM/USDT, PERP/USDT, MIR/USDT, STX/USDT, ERN/USDT, TUSD/USDT, PSG/USDT, NULS/USDT, OXT/USDT, REP/USDT, BNBUP/USDT, DATA/USDT, WAN/USDT, BURGER/USDT, RAMP/USDT, ATM/USDT, DGB/USDT, DIA/USDT, BEAM/USDT, UMA/USDT, ETHDOWN/USDT, CKB/USDT, TRIBE/USDT, FARM/USDT, BTCUP/USDT, BZRX/USDT, ALPACA/USDT, DOTUP/USDT, BTS/USDT, FOR/USDT, ADAUP/USDT, HARD/USDT, LSK/USDT, POLS/USDT, FORTH/USDT, TORN/USDT, VTHO/USDT, BTG/USDT, QUICK/USDT, FILUP/USDT, PAX/USDT, MITH/USDT, SUSHIUP/USDT, BTCDOWN/USDT, XRPDOWN/USDT, BNBDOWN/USDT, DUSK/USDT, XRPUP/USDT, WTC/USDT, DOCK/USDT, AUTO/USDT, BTCST/USDT, KLAY/USDT, WNXM/USDT, KEY/USDT, FILDOWN/USDT, NU/USDT, IRIS/USDT, KMD/USDT, TROY/USDT, WING/USDT, AION/USDT, PHA/USDT, SUSHIDOWN/USDT, EOSUP/USDT, LTCUP/USDT, GHST/USDT, PAXG/USDT, BNT/USDT, AVA/USDT, BADGER/USDT, PERL/USDT, COCOS/USDT, GXS/USDT, MDT/USDT, 1INCHUP/USDT, GTO/USDT, LINKUP/USDT, AAVEUP/USDT, FIRO/USDT, JUV/USDT, MLN/USDT, UNIUP/USDT, LPT/USDT, NMR/USDT, AAVEDOWN/USDT, 1INCHDOWN/USDT, ASR/USDT, OG/USDT, BAR/USDT, DREP/USDT, ADADOWN/USDT, BOND/USDT, DCR/USDT, DOTDOWN/USDT, GNO/USDT, NBS/USDT, SXPUP/USDT, EOSDOWN/USDT, YFIUP/USDT, RIF/USDT, LTCDOWN/USDT, XLMUP/USDT, YFIDOWN/USDT, LINKDOWN/USDT, TRXUP/USDT, BCHUP/USDT, XTZUP/USDT, SXPDOWN/USDT, UNIDOWN/USDT, XTZDOWN/USDT, BCHDOWN/USDT, TRXDOWN/USDT, XLMDOWN/USDT, SUSD/USDT'"
   ]
  },
  {
   "cell_type": "code",
   "execution_count": 141,
   "id": "5e1e6ea2",
   "metadata": {},
   "outputs": [
    {
     "data": {
      "text/plain": [
       "array(['BTCUSDT', 'ETHUSDT', 'AXSUSDT', 'SOLUSDT', 'MATICUSDT', 'ADAUSDT',\n",
       "       'BNBUSDT', 'FILUSDT', 'XRPUSDT', 'CVCUSDT', 'FTMUSDT', 'ICPUSDT',\n",
       "       'DOGEUSDT', 'XECUSDT', 'IOTAUSDT', 'AVAXUSDT', 'DOTUSDT',\n",
       "       'LTCUSDT', 'EOSUSDT', 'IOSTUSDT', 'STMXUSDT', 'FTTUSDT', 'TWTUSDT',\n",
       "       'ALICEUSDT', 'ATAUSDT', 'ETCUSDT', 'VETUSDT', 'SANDUSDT',\n",
       "       'LINKUSDT', 'THETAUSDT', 'SHIBUSDT', 'CHZUSDT', 'LUNAUSDT',\n",
       "       'IOTXUSDT', 'TRXUSDT', 'TLMUSDT', 'BCHUSDT', 'REEFUSDT',\n",
       "       'CAKEUSDT', 'NEOUSDT', 'SLPUSDT', 'RVNUSDT', 'ATOMUSDT',\n",
       "       'SUSHIUSDT', 'ARDRUSDT', 'OMGUSDT', 'GRTUSDT', '1INCHUSDT',\n",
       "       'AAVEUSDT', 'C98USDT', 'UNIUSDT', 'HBARUSDT', 'CRVUSDT',\n",
       "       'DENTUSDT', 'MBOXUSDT', 'BTTUSDT', 'SRMUSDT', 'YFIUSDT', 'HOTUSDT',\n",
       "       'XLMUSDT', 'FISUSDT', 'REQUSDT', 'SXPUSDT', 'KSMUSDT', 'QNTUSDT',\n",
       "       'NEARUSDT', 'COMPUSDT', 'QTUMUSDT', 'CHRUSDT', 'SCUSDT', 'XVSUSDT',\n",
       "       'ONTUSDT', 'COTIUSDT', 'NKNUSDT', 'RUNEUSDT', 'ANKRUSDT',\n",
       "       'MANAUSDT', 'CTXCUSDT', 'ARUSDT', 'RAYUSDT', 'BAKEUSDT',\n",
       "       'ARPAUSDT', 'XTZUSDT', 'ZILUSDT', 'ONGUSDT', 'ROSEUSDT', 'PNTUSDT',\n",
       "       'ALGOUSDT', 'MINAUSDT', 'WINUSDT', 'AUDIOUSDT', 'STORJUSDT',\n",
       "       'EPSUSDT', 'MDXUSDT', 'ZECUSDT', 'ENJUSDT', 'HIVEUSDT',\n",
       "       'TFUELUSDT', 'WRXUSDT', 'SNXUSDT', 'SKLUSDT', 'LINAUSDT',\n",
       "       'DODOUSDT', 'UNFIUSDT', 'XEMUSDT', 'EGLDUSDT', 'ICXUSDT',\n",
       "       'WAVESUSDT', 'ONEUSDT', 'DASHUSDT', 'KAVAUSDT', 'TKOUSDT',\n",
       "       'OGNUSDT', 'XMRUSDT', 'OCEANUSDT', 'CELOUSDT', 'BATUSDT',\n",
       "       'FUNUSDT', 'LRCUSDT', 'ALPHAUSDT', 'MASKUSDT', 'TRUUSDT',\n",
       "       'DNTUSDT', 'LITUSDT', 'FETUSDT', 'GTCUSDT', 'CELRUSDT', 'DEXEUSDT',\n",
       "       'ZENUSDT', 'WAXPUSDT', 'CTSIUSDT', 'HNTUSDT', 'YFIIUSDT',\n",
       "       'BELUSDT', 'ZRXUSDT', 'DEGOUSDT', 'RSRUSDT', 'COSUSDT', 'FLMUSDT',\n",
       "       'BALUSDT', 'MFTUSDT', 'RLCUSDT', 'KNCUSDT', 'RENUSDT', 'INJUSDT',\n",
       "       'FLOWUSDT', 'SFPUSDT', 'BANDUSDT', 'CTKUSDT', 'SUNUSDT',\n",
       "       'AKROUSDT', 'XVGUSDT', 'NANOUSDT', 'STRAXUSDT', 'PUNDIXUSDT',\n",
       "       'TVKUSDT', 'MKRUSDT', 'CLVUSDT', 'TRBUSDT', 'KEEPUSDT', 'TCTUSDT',\n",
       "       'PONDUSDT', 'LTOUSDT', 'ANTUSDT', 'TOMOUSDT', 'ACMUSDT', 'FIOUSDT',\n",
       "       'VITEUSDT', 'MBLUSDT', 'JSTUSDT', 'MTLUSDT', 'UTKUSDT', 'BLZUSDT',\n",
       "       'ORNUSDT', 'STPTUSDT', 'CFXUSDT', 'OMUSDT', 'PERPUSDT', 'MIRUSDT',\n",
       "       'STXUSDT', 'ERNUSDT', 'TUSDUSDT', 'PSGUSDT', 'NULSUSDT', 'OXTUSDT',\n",
       "       'REPUSDT', 'DATAUSDT', 'WANUSDT', 'BURGERUSDT', 'RAMPUSDT',\n",
       "       'ATMUSDT', 'DGBUSDT', 'DIAUSDT', 'BEAMUSDT', 'UMAUSDT', 'CKBUSDT',\n",
       "       'TRIBEUSDT', 'FARMUSDT', 'BZRXUSDT', 'ALPACAUSDT', 'BTSUSDT',\n",
       "       'FORUSDT', 'HARDUSDT', 'LSKUSDT', 'POLSUSDT', 'FORTHUSDT',\n",
       "       'TORNUSDT', 'VTHOUSDT', 'BTGUSDT', 'QUICKUSDT', 'PAXUSDT',\n",
       "       'MITHUSDT', 'DUSKUSDT', 'WTCUSDT', 'DOCKUSDT', 'AUTOUSDT',\n",
       "       'BTCSTUSDT', 'KLAYUSDT', 'WNXMUSDT', 'KEYUSDT', 'NUUSDT',\n",
       "       'IRISUSDT', 'KMDUSDT', 'TROYUSDT', 'WINGUSDT', 'AIONUSDT',\n",
       "       'PHAUSDT', 'GHSTUSDT', 'PAXGUSDT', 'BNTUSDT', 'AVAUSDT',\n",
       "       'BADGERUSDT', 'PERLUSDT', 'COCOSUSDT', 'GXSUSDT', 'MDTUSDT',\n",
       "       'GTOUSDT', 'FIROUSDT', 'JUVUSDT', 'MLNUSDT', 'LPTUSDT', 'NMRUSDT',\n",
       "       'ASRUSDT', 'OGUSDT', 'BARUSDT', 'DREPUSDT', 'BONDUSDT', 'DCRUSDT',\n",
       "       'GNOUSDT', 'NBSUSDT', 'RIFUSDT', 'SUSDUSDT'], dtype='<U10')"
      ]
     },
     "execution_count": 141,
     "metadata": {},
     "output_type": "execute_result"
    }
   ],
   "source": [
    "whitelist=whitelist.lstrip()\n",
    "array = whitelist.split(\",\")\n",
    "array\n",
    "wl = []\n",
    "bl = []\n",
    "blacklist = \"\"\n",
    "whitelist = \"\"\n",
    "symbols =[]\n",
    "for i in range(0 ,len(array)):\n",
    "    if (array[i].find('DOWN') != -1):\n",
    "        bl.append(str(array[i]).lstrip())\n",
    "        #print (\"Contains given substring \")\n",
    "        blacklist += str(array[i])\n",
    "    elif (array[i].find('UP') != -1):\n",
    "        bl.append(str(array[i]).lstrip())\n",
    "        #print (\"Contains given substring \")\n",
    "        blacklist += str(array[i])\n",
    "\n",
    "    else:\n",
    "        wl.append(str(array[i]).lstrip().replace(\"/\",\"\"))\n",
    "        whitelist +=str(array[i]).lstrip()\n",
    "        #print (\"Doesn't contains given substring\")\n",
    "    \n",
    "#for i in range (0,len(wl)):\n",
    "    #print(f'\\\"{wl[i]}\\\"\\n,')\n",
    "    \n",
    "#for i in range (0,len(bl)):\n",
    "    #print(f'\\\"{bl[i]}\\\",')\n",
    "    \n",
    "#for b in range (0,len(wl)):\n",
    "    #symbols = array[b].split(\"/\")\n",
    "    #print(f'\\\"{symbols[b]}\\\",')\n",
    "    \n",
    "#for i in range (0,len(wl)):   \n",
    "        #symbols[i]=wl[i].replace(\"/\",\"\")\n",
    "    \n",
    "#symbols to be used to get the prices from binance url\n",
    "symbols = np.array(wl)\n",
    "\n",
    "#for b in range(0,len(symbols)):\n",
    "#     print(f'\\\"{symbols[b]}\\n\\\",')\n",
    "        \n",
    "# whitelist can be used for the bot whitelist\n",
    "whitelist\n",
    "symbols"
   ]
  },
  {
   "cell_type": "code",
   "execution_count": 142,
   "id": "e40e9fa5",
   "metadata": {
    "scrolled": true
   },
   "outputs": [
    {
     "name": "stdout",
     "output_type": "stream",
     "text": [
      "https://api.binance.com/api/v1/klines?symbol=STEEMETH&interval=4h\n"
     ]
    }
   ],
   "source": [
    "## get the data \n",
    "import os\n",
    "live = pd.to_datetime('today')\n",
    "start = pd.to_datetime('2021-03-01')\n",
    "end = pd.to_datetime('2021-10-18')\n",
    "\n",
    "root_url = 'https://api.binance.com/api/v1/klines'\n",
    "symbol = 'STEEMETH'\n",
    "interval = '4h'\n",
    "url = root_url + '?symbol=' + symbol + '&interval=' + interval\n",
    "print(url)\n",
    "\n",
    "\n",
    "directory = 'BN-main'\n",
    "table = []\n",
    "   \n",
    "        \n",
    "        \n",
    "        #now = df.close[df.close.idxmax()]\n",
    "#get the live price \n",
    "        #array = filename.split(\"/\")\n",
    "        #symbol =array[0]+'USDT'\n",
    "for symbol in symbols:\n",
    "        url = root_url + '?symbol=' + symbol + '&interval=' + interval\n",
    "        data = json.loads(requests.get(url).text)\n",
    "        dflive = pd.DataFrame(data ,columns =['open_time',\n",
    "              'o', 'h', 'l', 'c', 'v',\n",
    "              'close_time', 'qav', 'num_trades',\n",
    "              'taker_base_vol', 'taker_quote_vol', 'ignore'])\n",
    "        dflive.open_time = pd.to_datetime(dflive['open_time'],unit='ms')\n",
    "        dflive=dflive.loc[(dflive.open_time>start)]\n",
    "        lastrow = dflive.iloc[-1]\n",
    "        now= float(lastrow.c)\n",
    "        alth = dflive.h.max()\n",
    "        altl = dflive.l.min()\n",
    "        #dflive.index = [dt.datetime.fromtimestamp(x/1000.0) for x in df.close_time]\n",
    "        \n",
    "        \n",
    "        #indicator =  data.DataReader(array[0]+'-USD', 'stooq',end,live)\n",
    "        #price = indicator.loc[indicator.Close.idxmax()]\n",
    "        #now = price.Close\n",
    "        tuple =(symbol,alth,altl,now)\n",
    "        table.append(tuple)\n",
    "        #print(\"name is: \",array[0] ,alth,altl)\n",
    "        \n",
    "\n",
    "table[0]\n",
    "AllTime = pd.DataFrame(table,columns=['Indicator','ATH','ATL','Current'])\n",
    "AllTime.ATH=AllTime.ATH.astype(float)\n",
    "AllTime.ATL=AllTime.ATL.astype(float)\n",
    "AllTime.Current=AllTime.Current.astype(float)\n",
    "AllTime.dtypes\n",
    "\n",
    "AllTime['percent']=(AllTime['Current']/AllTime['ATH'])*100\n",
    "AllTime.sort_values(by=['percent'],ascending=True,inplace = True)\n",
    "#AllTime.sort_values(by='ATH',ascending=False)\n",
    "#AllTime.to_csv(\"alltimeHL.csv\", mode=\"w\")\n",
    "#data.sort_values(\"Name\", axis = 0, ascending = True,inplace = True, na_position ='last')\n"
   ]
  },
  {
   "cell_type": "code",
   "execution_count": 143,
   "id": "a88ea65c",
   "metadata": {},
   "outputs": [],
   "source": [
    "#AllTime.shape"
   ]
  },
  {
   "cell_type": "code",
   "execution_count": 144,
   "id": "3e3dd083",
   "metadata": {},
   "outputs": [
    {
     "name": "stdout",
     "output_type": "stream",
     "text": [
      "     Indicator         ATH         ATL     Current    percent\n",
      "210    PAXUSDT  999.000000    0.990100    0.999600   0.100060\n",
      "197   FARMUSDT  958.400000  153.000000  173.200000  18.071786\n",
      "40     SLPUSDT    0.243500    0.055100    0.068000  27.926078\n",
      "155    TVKUSDT    0.550000    0.164800    0.201100  36.563636\n",
      "217   KLAYUSDT    4.400000    0.991000    1.630000  37.045455\n",
      "182    PSGUSDT   61.536000   21.926000   23.350000  37.945268\n",
      "246   BONDUSDT   75.000000   20.520000   29.240000  38.986667\n",
      "175    CFXUSDT    0.838900    0.197000    0.344600  41.077602\n",
      "220     NUUSDT    2.764600    0.208100    1.151500  41.651595\n",
      "54    MBOXUSDT    9.960000    1.969000    4.308000  43.253012\n",
      "44    ARDRUSDT    0.716000    0.195810    0.316600  44.217877\n",
      "60     FISUSDT    4.061000    0.804000    1.846100  45.459246\n",
      "33    IOTXUSDT    0.149990    0.019392    0.068380  45.589706\n",
      "223   TROYUSDT    0.040128    0.006799    0.018604  46.361643\n",
      "35     TLMUSDT    0.414500    0.143600    0.193700  46.731001\n",
      "209  QUICKUSDT  890.000000  327.800000  416.400000  46.786517\n",
      "96    HIVEUSDT    1.574300    0.377600    0.755100  47.964175\n",
      "9      CVCUSDT    0.980000    0.254370    0.471200  48.081633\n",
      "129   WAXPUSDT    0.612000    0.185200    0.294400  48.104575\n",
      "13     XECUSDT    0.000392    0.000170    0.000190  48.583389\n",
      "145   FLOWUSDT   29.100000   12.090000   14.220000  48.865979\n",
      "216  BTCSTUSDT   90.860000   13.500000   44.950000  49.471715\n",
      "90   AUDIOUSDT    4.070000    1.050300    2.020000  49.631450\n",
      "61     REQUSDT    0.438800    0.165600    0.218700  49.840474\n",
      "Empty DataFrame\n",
      "Columns: [Indicator, ATH, ATL, Current, percent]\n",
      "Index: []\n",
      "Empty DataFrame\n",
      "Columns: [Indicator, ATH, ATL, Current, percent]\n",
      "Index: []\n"
     ]
    },
    {
     "name": "stderr",
     "output_type": "stream",
     "text": [
      "/Users/hjabbour/opt/anaconda3/envs/ML/lib/python3.7/site-packages/ipykernel_launcher.py:2: SettingWithCopyWarning: \n",
      "A value is trying to be set on a copy of a slice from a DataFrame\n",
      "\n",
      "See the caveats in the documentation: https://pandas.pydata.org/pandas-docs/stable/user_guide/indexing.html#returning-a-view-versus-a-copy\n",
      "  \n"
     ]
    }
   ],
   "source": [
    "drop = AllTime.loc[(AllTime['percent']<50)]\n",
    "sort = drop.sort_values(by=['percent'],ascending=True,inplace = True)\n",
    "print(drop.iloc[0:60,0:5])\n",
    "print(drop.iloc[60:110,0:5])\n",
    "print(drop.iloc[110:160,0:5])"
   ]
  },
  {
   "cell_type": "code",
   "execution_count": 161,
   "id": "16c84b3d",
   "metadata": {},
   "outputs": [],
   "source": [
    "AllTime.to_csv(\"alltimeHLJul-Spe.csv\", mode=\"w\")"
   ]
  },
  {
   "cell_type": "code",
   "execution_count": 115,
   "id": "e3711092",
   "metadata": {},
   "outputs": [],
   "source": [
    "drop.to_csv(\"dropJul-Sep.csv\",mode =\"w\")"
   ]
  },
  {
   "cell_type": "code",
   "execution_count": null,
   "id": "4d5120e8",
   "metadata": {},
   "outputs": [],
   "source": []
  }
 ],
 "metadata": {
  "kernelspec": {
   "display_name": "Python 3",
   "language": "python",
   "name": "python3"
  },
  "language_info": {
   "codemirror_mode": {
    "name": "ipython",
    "version": 3
   },
   "file_extension": ".py",
   "mimetype": "text/x-python",
   "name": "python",
   "nbconvert_exporter": "python",
   "pygments_lexer": "ipython3",
   "version": "3.7.10"
  }
 },
 "nbformat": 4,
 "nbformat_minor": 5
}
