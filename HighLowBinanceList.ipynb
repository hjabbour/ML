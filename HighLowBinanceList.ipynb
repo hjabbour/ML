{
 "cells": [
  {
   "cell_type": "code",
   "execution_count": 147,
   "id": "d3661386",
   "metadata": {},
   "outputs": [],
   "source": [
    "import numpy as np \n",
    "import pandas as pd \n",
    "from datetime import date\n",
    "#Data Source (Pandas Data Reader)\n",
    "from pandas_datareader import data\n",
    "import requests \n",
    "import json\n",
    "\n",
    "#Data Source(Pandas Data Reader)\n"
   ]
  },
  {
   "cell_type": "code",
   "execution_count": 148,
   "id": "c198dbb1",
   "metadata": {},
   "outputs": [],
   "source": [
    "oldlist = \"ETH/USDT, BTC/USDT, SOL/USDT, FTM/USDT, ADA/USDT, BNB/USDT, DOT/USDT, CELO/USDT, XRP/USDT, LUNA/USDT, AVAX/USDT, ICP/USDT, SAND/USDT, AR/USDT, DOGE/USDT, ALICE/USDT, MATIC/USDT, TLM/USDT, ATOM/USDT, C98/USDT, SRM/USDT, RAY/USDT, ONE/USDT, LINK/USDT, AXS/USDT, XTZ/USDT, EGLD/USDT, KSM/USDT, FIL/USDT, VET/USDT, KAVA/USDT, OGN/USDT, FTT/USDT, MBOX/USDT, ETC/USDT, MINA/USDT, CAKE/USDT, CHZ/USDT, PERP/USDT, LRC/USDT, ATA/USDT, CLV/USDT, WAVES/USDT, LTC/USDT, ENJ/USDT, EOS/USDT, UNI/USDT, THETA/USDT, CHR/USDT, EPS/USDT, RUNE/USDT, NEAR/USDT, SXP/USDT, SUSHI/USDT, SLP/USDT, TRX/USDT, CRV/USDT, FLOW/USDT, MANA/USDT, BCH/USDT, YFII/USDT, SHIB/USDT, COMP/USDT, ALPHA/USDT, AUDIO/USDT, ROSE/USDT, ALGO/USDT, AAVE/USDT, BAKE/USDT, COTI/USDT, CTK/USDT, DENT/USDT, XLM/USDT, GRT/USDT, OMG/USDT, ARPA/USDT, MASK/USDT, LTO/USDT, WIN/USDT, SKL/USDT, NEO/USDT, DGB/USDT, BTT/USDT, XMR/USDT, TVK/USDT, TFUEL/USDT, DASH/USDT, RVN/USDT, HOT/USDT, DEGO/USDT, FARM/USDT, GNO/USDT, ORN/USDT, FET/USDT, FUN/USDT, TKO/USDT, IOST/USDT, ZIL/USDT, CELR/USDT, ONT/USDT, LINA/USDT, INJ/USDT, SNX/USDT, REEF/USDT, 1INCH/USDT, SUPER/USDT, RSR/USDT, HBAR/USDT, DEXE/USDT, IOTX/USDT, IOTA/USDT, SC/USDT, BADGER/USDT, RLC/USDT, NU/USDT, WAXP/USDT, ZEC/USDT, HNT/USDT, UNFI/USDT, DODO/USDT, PAX/USDT, GTC/USDT, QTUM/USDT, WRX/USDT, ONG/USDT, ZEN/USDT, XVS/USDT, YFI/USDT, ANKR/USDT, PSG/USDT, CTSI/USDT, TROY/USDT, STMX/USDT, ICX/USDT, SFP/USDT, TRU/USDT, MIR/USDT, NANO/USDT, POND/USDT, FLM/USDT, TUSD/USDT, DNT/USDT, ETHUP/USDT, BAND/USDT, HARD/USDT, TWT/USDT, MKR/USDT, TRB/USDT, KEEP/USDT, OCEAN/USDT, FIS/USDT, BAT/USDT, TRIBE/USDT, REN/USDT, DIA/USDT, BNT/USDT, KEY/USDT, NKN/USDT, BURGER/USDT, XEM/USDT, ZRX/USDT, LIT/USDT, STORJ/USDT, WTC/USDT, DOTUP/USDT, MDX/USDT, ETHDOWN/USDT, BAL/USDT, AVA/USDT, PHA/USDT, DATA/USDT, QNT/USDT, CVC/USDT, TOMO/USDT, UTK/USDT, ALPACA/USDT, XVG/USDT, BTCDOWN/USDT, ERN/USDT, MTL/USDT, BTCUP/USDT, DOTDOWN/USDT, SUN/USDT, COS/USDT, LPT/USDT, OXT/USDT, FOR/USDT, AKRO/USDT, BNBUP/USDT, KMD/USDT, CFX/USDT, BLZ/USDT, DOCK/USDT, STX/USDT, POLS/USDT, FIO/USDT, XRPUP/USDT, REQ/USDT, KNC/USDT, KLAY/USDT, GXS/USDT, BTS/USDT, VTHO/USDT, BEL/USDT, LSK/USDT, FORTH/USDT, ADAUP/USDT, SUSHIUP/USDT, MLN/USDT, BZRX/USDT, VITE/USDT, XRPDOWN/USDT, REP/USDT, CKB/USDT, BTCST/USDT, MDT/USDT, OM/USDT, GHST/USDT, NMR/USDT, PERL/USDT, SUSHIDOWN/USDT, BTG/USDT, AUTO/USDT, NULS/USDT, UMA/USDT, MITH/USDT, PNT/USDT, WING/USDT, MFT/USDT, TORN/USDT, PAXG/USDT, JST/USDT, GTO/USDT, XTZDOWN/USDT, AION/USDT, COCOS/USDT, FIRO/USDT, RAMP/USDT, LINKUP/USDT, ATM/USDT, ADADOWN/USDT, STRAX/USDT, DCR/USDT, BNBDOWN/USDT, DUSK/USDT, PUNDIX/USDT, CTXC/USDT, DREP/USDT, QUICK/USDT, BEAM/USDT, HIVE/USDT, XTZUP/USDT, IRIS/USDT, WNXM/USDT, AAVEUP/USDT, JUV/USDT, ANT/USDT, BOND/USDT, UNIUP/USDT, WAN/USDT, EOSUP/USDT, BAR/USDT, 1INCHUP/USDT, MBL/USDT, AAVEDOWN/USDT, ARDR/USDT, SXPUP/USDT, UNIDOWN/USDT, LTCUP/USDT, NBS/USDT, STPT/USDT, TCT/USDT, ASR/USDT, OG/USDT, 1INCHDOWN/USDT, SXPDOWN/USDT, XLMUP/USDT, ACM/USDT, RIF/USDT, FILUP/USDT, EOSDOWN/USDT, LINKDOWN/USDT, TRXUP/USDT, YFIUP/USDT, BCHUP/USDT, LTCDOWN/USDT, TRXDOWN/USDT, XLMDOWN/USDT, FILDOWN/USDT, BCHDOWN/USDT, SUSD/USDT, YFIDOWN/USDT\""
   ]
  },
  {
   "cell_type": "code",
   "execution_count": 149,
   "id": "2e7054d4",
   "metadata": {},
   "outputs": [],
   "source": [
    "oldlist = \"BTC/USDT, ETH/USDT, AXS/USDT, SOL/USDT, MATIC/USDT, ADA/USDT, BNB/USDT, FIL/USDT, XRP/USDT, CVC/USDT, FTM/USDT, ICP/USDT, DOGE/USDT, XEC/USDT, IOTA/USDT, AVAX/USDT, DOT/USDT, LTC/USDT, EOS/USDT, IOST/USDT, STMX/USDT, FTT/USDT, TWT/USDT, ALICE/USDT, ATA/USDT, ETC/USDT, VET/USDT, SAND/USDT, LINK/USDT, THETA/USDT, SHIB/USDT, CHZ/USDT, LUNA/USDT, IOTX/USDT, TRX/USDT, TLM/USDT, BCH/USDT, REEF/USDT, CAKE/USDT, NEO/USDT, SLP/USDT, RVN/USDT, ATOM/USDT, SUSHI/USDT, ARDR/USDT, OMG/USDT, GRT/USDT, 1INCH/USDT, AAVE/USDT, C98/USDT, UNI/USDT, HBAR/USDT, CRV/USDT, DENT/USDT, MBOX/USDT, BTT/USDT, SRM/USDT, YFI/USDT, HOT/USDT, XLM/USDT, FIS/USDT, REQ/USDT, SXP/USDT, KSM/USDT, QNT/USDT, NEAR/USDT, COMP/USDT, QTUM/USDT, CHR/USDT, SC/USDT, XVS/USDT, ONT/USDT, COTI/USDT, NKN/USDT, RUNE/USDT, ANKR/USDT, MANA/USDT, CTXC/USDT, AR/USDT, RAY/USDT, BAKE/USDT, ARPA/USDT, XTZ/USDT, ZIL/USDT, ONG/USDT, ROSE/USDT, PNT/USDT, ALGO/USDT, MINA/USDT, WIN/USDT, AUDIO/USDT, STORJ/USDT, EPS/USDT, MDX/USDT, ZEC/USDT, ENJ/USDT, HIVE/USDT, TFUEL/USDT, WRX/USDT, SNX/USDT, SKL/USDT, LINA/USDT, DODO/USDT, UNFI/USDT, XEM/USDT, EGLD/USDT, ICX/USDT, WAVES/USDT, ONE/USDT, DASH/USDT, KAVA/USDT, SUPER/USDT, TKO/USDT, OGN/USDT, XMR/USDT, OCEAN/USDT, CELO/USDT, BAT/USDT, FUN/USDT, LRC/USDT, ALPHA/USDT, MASK/USDT, TRU/USDT, DNT/USDT, LIT/USDT, FET/USDT, GTC/USDT, CELR/USDT, DEXE/USDT, ZEN/USDT, WAXP/USDT, CTSI/USDT, HNT/USDT, YFII/USDT, BEL/USDT, ZRX/USDT, DEGO/USDT, RSR/USDT, COS/USDT, FLM/USDT, BAL/USDT, MFT/USDT, RLC/USDT, KNC/USDT, REN/USDT, INJ/USDT, FLOW/USDT, SFP/USDT, BAND/USDT, CTK/USDT, SUN/USDT, AKRO/USDT, XVG/USDT, NANO/USDT, STRAX/USDT, PUNDIX/USDT, TVK/USDT, MKR/USDT, CLV/USDT, TRB/USDT, ETHUP/USDT, KEEP/USDT, TCT/USDT, POND/USDT, LTO/USDT, ANT/USDT, TOMO/USDT, ACM/USDT, FIO/USDT, VITE/USDT, MBL/USDT, JST/USDT, MTL/USDT, UTK/USDT, BLZ/USDT, ORN/USDT, STPT/USDT, CFX/USDT, OM/USDT, PERP/USDT, MIR/USDT, STX/USDT, ERN/USDT, TUSD/USDT, PSG/USDT, NULS/USDT, OXT/USDT, REP/USDT, BNBUP/USDT, DATA/USDT, WAN/USDT, BURGER/USDT, RAMP/USDT, ATM/USDT, DGB/USDT, DIA/USDT, BEAM/USDT, UMA/USDT, ETHDOWN/USDT, CKB/USDT, TRIBE/USDT, FARM/USDT, BTCUP/USDT, BZRX/USDT, ALPACA/USDT, DOTUP/USDT, BTS/USDT, FOR/USDT, ADAUP/USDT, HARD/USDT, LSK/USDT, POLS/USDT, FORTH/USDT, TORN/USDT, VTHO/USDT, BTG/USDT, QUICK/USDT, FILUP/USDT, PAX/USDT, MITH/USDT, SUSHIUP/USDT, BTCDOWN/USDT, XRPDOWN/USDT, BNBDOWN/USDT, DUSK/USDT, XRPUP/USDT, WTC/USDT, DOCK/USDT, AUTO/USDT, BTCST/USDT, KLAY/USDT, WNXM/USDT, KEY/USDT, FILDOWN/USDT, NU/USDT, IRIS/USDT, KMD/USDT, TROY/USDT, WING/USDT, AION/USDT, PHA/USDT, SUSHIDOWN/USDT, EOSUP/USDT, LTCUP/USDT, GHST/USDT, PAXG/USDT, BNT/USDT, AVA/USDT, BADGER/USDT, PERL/USDT, COCOS/USDT, GXS/USDT, MDT/USDT, 1INCHUP/USDT, GTO/USDT, LINKUP/USDT, AAVEUP/USDT, FIRO/USDT, JUV/USDT, MLN/USDT, UNIUP/USDT, LPT/USDT, NMR/USDT, AAVEDOWN/USDT, 1INCHDOWN/USDT, ASR/USDT, OG/USDT, BAR/USDT, DREP/USDT, ADADOWN/USDT, BOND/USDT, DCR/USDT, DOTDOWN/USDT, GNO/USDT, NBS/USDT, SXPUP/USDT, EOSDOWN/USDT, YFIUP/USDT, RIF/USDT, LTCDOWN/USDT, XLMUP/USDT, YFIDOWN/USDT, LINKDOWN/USDT, TRXUP/USDT, BCHUP/USDT, XTZUP/USDT, SXPDOWN/USDT, UNIDOWN/USDT, XTZDOWN/USDT, BCHDOWN/USDT, TRXDOWN/USDT, XLMDOWN/USDT, SUSD/USDT\""
   ]
  },
  {
   "cell_type": "code",
   "execution_count": 150,
   "id": "3ffd6cfd",
   "metadata": {},
   "outputs": [],
   "source": [
    "whitelist1 = 'RSR/USDT,ETH/USDT,BTC/USDT,SOL/USDT,FTM/USDT,ADA/USDT,BNB/USDT,DOT/USDT,CELO/USDT,XRP/USDT,LUNA/USDT,AVAX/USDT,ICP/USDT,SAND/USDT,AR/USDT,DOGE/USDT,ALICE/USDT,MATIC/USDT,TLM/USDT,ATOM/USDT,C98/USDT,SRM/USDT,RAY/USDT,ONE/USDT,LINK/USDT,AXS/USDT,XTZ/USDT,EGLD/USDT,KSM/USDT,FIL/USDT,VET/USDT,KAVA/USDT,OGN/USDT,FTT/USDT,MBOX/USDT,ETC/USDT,MINA/USDT,CAKE/USDT,CHZ/USDT,PERP/USDT,LRC/USDT,ATA/USDT,CLV/USDT,WAVES/USDT,LTC/USDT,ENJ/USDT,EOS/USDT,UNI/USDT,THETA/USDT,CHR/USDT,EPS/USDT,RUNE/USDT,NEAR/USDT,SXP/USDT,SUSHI/USDT,SLP/USDT,TRX/USDT,CRV/USDT,FLOW/USDT,MANA/USDT,BCH/USDT,YFII/USDT,SHIB/USDT,COMP/USDT,ALPHA/USDT,AUDIO/USDT,ROSE/USDT,ALGO/USDT,AAVE/USDT,BAKE/USDT,COTI/USDT,CTK/USDT,DENT/USDT,XLM/USDT,GRT/USDT,OMG/USDT,ARPA/USDT,MASK/USDT,LTO/USDT,WIN/USDT,SKL/USDT,NEO/USDT,DGB/USDT,BTT/USDT,XMR/USDT,TVK/USDT,TFUEL/USDT,DASH/USDT,RVN/USDT,HOT/USDT,DEGO/USDT,FARM/USDT,GNO/USDT,ORN/USDT,FET/USDT,FUN/USDT,TKO/USDT,IOST/USDT,ZIL/USDT,CELR/USDT,ONT/USDT,LINA/USDT,INJ/USDT,SNX/USDT,REEF/USDT,1INCH/USDT,RSR/USDT,HBAR/USDT,DEXE/USDT,IOTX/USDT,IOTA/USDT,SC/USDT,BADGER/USDT,RLC/USDT,NU/USDT,WAXP/USDT,ZEC/USDT,HNT/USDT,UNFI/USDT,DODO/USDT,PAX/USDT,GTC/USDT,QTUM/USDT,WRX/USDT,ONG/USDT,ZEN/USDT,XVS/USDT,YFI/USDT,ANKR/USDT,PSG/USDT,CTSI/USDT,TROY/USDT,STMX/USDT,ICX/USDT,SFP/USDT,TRU/USDT,MIR/USDT,NANO/USDT,POND/USDT,FLM/USDT,TUSD/USDT,DNT/USDT,BAND/USDT,HARD/USDT,TWT/USDT,MKR/USDT,TRB/USDT,KEEP/USDT,OCEAN/USDT,FIS/USDT,BAT/USDT,TRIBE/USDT,REN/USDT,DIA/USDT,BNT/USDT,KEY/USDT,NKN/USDT,BURGER/USDT,XEM/USDT,ZRX/USDT,LIT/USDT,STORJ/USDT,WTC/USDT,MDX/USDT,BAL/USDT,AVA/USDT,PHA/USDT,DATA/USDT,QNT/USDT,CVC/USDT,TOMO/USDT,UTK/USDT,ALPACA/USDT,XVG/USDT,ERN/USDT,MTL/USDT,SUN/USDT,COS/USDT,LPT/USDT,OXT/USDT,FOR/USDT,AKRO/USDT,KMD/USDT,CFX/USDT,BLZ/USDT,DOCK/USDT,STX/USDT,POLS/USDT,FIO/USDT,REQ/USDT,KNC/USDT,KLAY/USDT,GXS/USDT,BTS/USDT,VTHO/USDT,BEL/USDT,LSK/USDT,FORTH/USDT,MLN/USDT,BZRX/USDT,VITE/USDT,REP/USDT,CKB/USDT,BTCST/USDT,MDT/USDT,OM/USDT,GHST/USDT,NMR/USDT,PERL/USDT,BTG/USDT,AUTO/USDT,NULS/USDT,UMA/USDT,MITH/USDT,PNT/USDT,WING/USDT,MFT/USDT,TORN/USDT,PAXG/USDT,JST/USDT,GTO/USDT,AION/USDT,COCOS/USDT,FIRO/USDT,RAMP/USDT,ATM/USDT,STRAX/USDT,DCR/USDT,DUSK/USDT,PUNDIX/USDT,CTXC/USDT,DREP/USDT,QUICK/USDT,BEAM/USDT,HIVE/USDT,IRIS/USDT,WNXM/USDT,JUV/USDT,ANT/USDT,BOND/USDT,WAN/USDT,BAR/USDT,MBL/USDT,ARDR/USDT,NBS/USDT,STPT/USDT,TCT/USDT,ASR/USDT,OG/USDT,ACM/USDT,RIF/USDT,SUSD/USDT'"
   ]
  },
  {
   "cell_type": "code",
   "execution_count": 151,
   "id": "5c74d0eb",
   "metadata": {},
   "outputs": [],
   "source": [
    "whitelist = 'BTC/USDT, ETH/USDT, AXS/USDT, SOL/USDT, MATIC/USDT, ADA/USDT, BNB/USDT, FIL/USDT, XRP/USDT, CVC/USDT, FTM/USDT, ICP/USDT, DOGE/USDT, XEC/USDT, IOTA/USDT, AVAX/USDT, DOT/USDT, LTC/USDT, EOS/USDT, IOST/USDT, STMX/USDT, FTT/USDT, TWT/USDT, ALICE/USDT, ATA/USDT, ETC/USDT, VET/USDT, SAND/USDT, LINK/USDT, THETA/USDT, SHIB/USDT, CHZ/USDT, LUNA/USDT, IOTX/USDT, TRX/USDT, TLM/USDT, BCH/USDT, REEF/USDT, CAKE/USDT, NEO/USDT, SLP/USDT, RVN/USDT, ATOM/USDT, SUSHI/USDT, ARDR/USDT, OMG/USDT, GRT/USDT, 1INCH/USDT, AAVE/USDT, C98/USDT, UNI/USDT, HBAR/USDT, CRV/USDT, DENT/USDT, MBOX/USDT, BTT/USDT, SRM/USDT, YFI/USDT, HOT/USDT, XLM/USDT, FIS/USDT, REQ/USDT, SXP/USDT, KSM/USDT, QNT/USDT, NEAR/USDT, COMP/USDT, QTUM/USDT, CHR/USDT, SC/USDT, XVS/USDT, ONT/USDT, COTI/USDT, NKN/USDT, RUNE/USDT, ANKR/USDT, MANA/USDT, CTXC/USDT, AR/USDT, RAY/USDT, BAKE/USDT, ARPA/USDT, XTZ/USDT, ZIL/USDT, ONG/USDT, ROSE/USDT, PNT/USDT, ALGO/USDT, MINA/USDT, WIN/USDT, AUDIO/USDT, STORJ/USDT, EPS/USDT, MDX/USDT, ZEC/USDT, ENJ/USDT, HIVE/USDT, TFUEL/USDT, WRX/USDT, SNX/USDT, SKL/USDT, LINA/USDT, DODO/USDT, UNFI/USDT, XEM/USDT, EGLD/USDT, ICX/USDT, WAVES/USDT, ONE/USDT, DASH/USDT, KAVA/USDT, SUPER/USDT, TKO/USDT, OGN/USDT, XMR/USDT, OCEAN/USDT, CELO/USDT, BAT/USDT, FUN/USDT, LRC/USDT, ALPHA/USDT, MASK/USDT, TRU/USDT, DNT/USDT, LIT/USDT, FET/USDT, GTC/USDT, CELR/USDT, DEXE/USDT, ZEN/USDT, WAXP/USDT, CTSI/USDT, HNT/USDT, YFII/USDT, BEL/USDT, ZRX/USDT, DEGO/USDT, RSR/USDT, COS/USDT, FLM/USDT, BAL/USDT, MFT/USDT, RLC/USDT, KNC/USDT, REN/USDT, INJ/USDT, FLOW/USDT, SFP/USDT, BAND/USDT, CTK/USDT, SUN/USDT, AKRO/USDT, XVG/USDT, NANO/USDT, STRAX/USDT, PUNDIX/USDT, TVK/USDT, MKR/USDT, CLV/USDT, TRB/USDT, ETHUP/USDT, KEEP/USDT, TCT/USDT, POND/USDT, LTO/USDT, ANT/USDT, TOMO/USDT, ACM/USDT, FIO/USDT, VITE/USDT, MBL/USDT, JST/USDT, MTL/USDT, UTK/USDT, BLZ/USDT, ORN/USDT, STPT/USDT, CFX/USDT, OM/USDT, PERP/USDT, MIR/USDT, STX/USDT, ERN/USDT, TUSD/USDT, PSG/USDT, NULS/USDT, OXT/USDT, REP/USDT, BNBUP/USDT, DATA/USDT, WAN/USDT, BURGER/USDT, RAMP/USDT, ATM/USDT, DGB/USDT, DIA/USDT, BEAM/USDT, UMA/USDT, ETHDOWN/USDT, CKB/USDT, TRIBE/USDT, FARM/USDT, BTCUP/USDT, BZRX/USDT, ALPACA/USDT, DOTUP/USDT, BTS/USDT, FOR/USDT, ADAUP/USDT, HARD/USDT, LSK/USDT, POLS/USDT, FORTH/USDT, TORN/USDT, VTHO/USDT, BTG/USDT, QUICK/USDT, FILUP/USDT, PAX/USDT, MITH/USDT, SUSHIUP/USDT, BTCDOWN/USDT, XRPDOWN/USDT, BNBDOWN/USDT, DUSK/USDT, XRPUP/USDT, WTC/USDT, DOCK/USDT, AUTO/USDT, BTCST/USDT, KLAY/USDT, WNXM/USDT, KEY/USDT, FILDOWN/USDT, NU/USDT, IRIS/USDT, KMD/USDT, TROY/USDT, WING/USDT, AION/USDT, PHA/USDT, SUSHIDOWN/USDT, EOSUP/USDT, LTCUP/USDT, GHST/USDT, PAXG/USDT, BNT/USDT, AVA/USDT, BADGER/USDT, PERL/USDT, COCOS/USDT, GXS/USDT, MDT/USDT, 1INCHUP/USDT, GTO/USDT, LINKUP/USDT, AAVEUP/USDT, FIRO/USDT, JUV/USDT, MLN/USDT, UNIUP/USDT, LPT/USDT, NMR/USDT, AAVEDOWN/USDT, 1INCHDOWN/USDT, ASR/USDT, OG/USDT, BAR/USDT, DREP/USDT, ADADOWN/USDT, BOND/USDT, DCR/USDT, DOTDOWN/USDT, GNO/USDT, NBS/USDT, SXPUP/USDT, EOSDOWN/USDT, YFIUP/USDT, RIF/USDT, LTCDOWN/USDT, XLMUP/USDT, YFIDOWN/USDT, LINKDOWN/USDT, TRXUP/USDT, BCHUP/USDT, XTZUP/USDT, SXPDOWN/USDT, UNIDOWN/USDT, XTZDOWN/USDT, BCHDOWN/USDT, TRXDOWN/USDT, XLMDOWN/USDT, SUSD/USDT'"
   ]
  },
  {
   "cell_type": "code",
   "execution_count": 152,
   "id": "5e1e6ea2",
   "metadata": {},
   "outputs": [
    {
     "data": {
      "text/plain": [
       "'BTC/USDTETH/USDTAXS/USDTSOL/USDTMATIC/USDTADA/USDTBNB/USDTFIL/USDTXRP/USDTCVC/USDTFTM/USDTICP/USDTDOGE/USDTXEC/USDTIOTA/USDTAVAX/USDTDOT/USDTLTC/USDTEOS/USDTIOST/USDTSTMX/USDTFTT/USDTTWT/USDTALICE/USDTATA/USDTETC/USDTVET/USDTSAND/USDTLINK/USDTTHETA/USDTSHIB/USDTCHZ/USDTLUNA/USDTIOTX/USDTTRX/USDTTLM/USDTBCH/USDTREEF/USDTCAKE/USDTNEO/USDTSLP/USDTRVN/USDTATOM/USDTSUSHI/USDTARDR/USDTOMG/USDTGRT/USDT1INCH/USDTAAVE/USDTC98/USDTUNI/USDTHBAR/USDTCRV/USDTDENT/USDTMBOX/USDTBTT/USDTSRM/USDTYFI/USDTHOT/USDTXLM/USDTFIS/USDTREQ/USDTSXP/USDTKSM/USDTQNT/USDTNEAR/USDTCOMP/USDTQTUM/USDTCHR/USDTSC/USDTXVS/USDTONT/USDTCOTI/USDTNKN/USDTRUNE/USDTANKR/USDTMANA/USDTCTXC/USDTAR/USDTRAY/USDTBAKE/USDTARPA/USDTXTZ/USDTZIL/USDTONG/USDTROSE/USDTPNT/USDTALGO/USDTMINA/USDTWIN/USDTAUDIO/USDTSTORJ/USDTEPS/USDTMDX/USDTZEC/USDTENJ/USDTHIVE/USDTTFUEL/USDTWRX/USDTSNX/USDTSKL/USDTLINA/USDTDODO/USDTUNFI/USDTXEM/USDTEGLD/USDTICX/USDTWAVES/USDTONE/USDTDASH/USDTKAVA/USDTTKO/USDTOGN/USDTXMR/USDTOCEAN/USDTCELO/USDTBAT/USDTFUN/USDTLRC/USDTALPHA/USDTMASK/USDTTRU/USDTDNT/USDTLIT/USDTFET/USDTGTC/USDTCELR/USDTDEXE/USDTZEN/USDTWAXP/USDTCTSI/USDTHNT/USDTYFII/USDTBEL/USDTZRX/USDTDEGO/USDTRSR/USDTCOS/USDTFLM/USDTBAL/USDTMFT/USDTRLC/USDTKNC/USDTREN/USDTINJ/USDTFLOW/USDTSFP/USDTBAND/USDTCTK/USDTSUN/USDTAKRO/USDTXVG/USDTNANO/USDTSTRAX/USDTPUNDIX/USDTTVK/USDTMKR/USDTCLV/USDTTRB/USDTKEEP/USDTTCT/USDTPOND/USDTLTO/USDTANT/USDTTOMO/USDTACM/USDTFIO/USDTVITE/USDTMBL/USDTJST/USDTMTL/USDTUTK/USDTBLZ/USDTORN/USDTSTPT/USDTCFX/USDTOM/USDTPERP/USDTMIR/USDTSTX/USDTERN/USDTTUSD/USDTPSG/USDTNULS/USDTOXT/USDTREP/USDTDATA/USDTWAN/USDTBURGER/USDTRAMP/USDTATM/USDTDGB/USDTDIA/USDTBEAM/USDTUMA/USDTCKB/USDTTRIBE/USDTFARM/USDTBZRX/USDTALPACA/USDTBTS/USDTFOR/USDTHARD/USDTLSK/USDTPOLS/USDTFORTH/USDTTORN/USDTVTHO/USDTBTG/USDTQUICK/USDTPAX/USDTMITH/USDTDUSK/USDTWTC/USDTDOCK/USDTAUTO/USDTBTCST/USDTKLAY/USDTWNXM/USDTKEY/USDTNU/USDTIRIS/USDTKMD/USDTTROY/USDTWING/USDTAION/USDTPHA/USDTGHST/USDTPAXG/USDTBNT/USDTAVA/USDTBADGER/USDTPERL/USDTCOCOS/USDTGXS/USDTMDT/USDTGTO/USDTFIRO/USDTJUV/USDTMLN/USDTLPT/USDTNMR/USDTASR/USDTOG/USDTBAR/USDTDREP/USDTBOND/USDTDCR/USDTGNO/USDTNBS/USDTRIF/USDTSUSD/USDT'"
      ]
     },
     "execution_count": 152,
     "metadata": {},
     "output_type": "execute_result"
    }
   ],
   "source": [
    "whitelist=whitelist.lstrip()\n",
    "array = whitelist.split(\",\")\n",
    "array\n",
    "wl = []\n",
    "bl = []\n",
    "blacklist = \"\"\n",
    "whitelist = \"\"\n",
    "symbols =[]\n",
    "for i in range(0 ,len(array)):\n",
    "    if (array[i].find('DOWN') != -1):\n",
    "        bl.append(str(array[i]).lstrip())\n",
    "        #print (\"Contains given substring \")\n",
    "        blacklist += str(array[i])\n",
    "    elif (array[i].find('UP') != -1):\n",
    "        bl.append(str(array[i]).lstrip())\n",
    "        #print (\"Contains given substring \")\n",
    "        blacklist += str(array[i])\n",
    "\n",
    "    else:\n",
    "        wl.append(str(array[i]).lstrip().replace(\"/\",\"\"))\n",
    "        whitelist +=str(array[i]).lstrip()\n",
    "        #print (\"Doesn't contains given substring\")\n",
    "    \n",
    "#for i in range (0,len(wl)):\n",
    "    #print(f'\\\"{wl[i]}\\\"\\n,')\n",
    "    \n",
    "#for i in range (0,len(bl)):\n",
    "    #print(f'\\\"{bl[i]}\\\",')\n",
    "    \n",
    "#for b in range (0,len(wl)):\n",
    "    #symbols = array[b].split(\"/\")\n",
    "    #print(f'\\\"{symbols[b]}\\\",')\n",
    "    \n",
    "#for i in range (0,len(wl)):   \n",
    "        #symbols[i]=wl[i].replace(\"/\",\"\")\n",
    "    \n",
    "#symbols to be used to get the prices from binance url\n",
    "symbols = np.array(wl)\n",
    "\n",
    "#for b in range(0,len(symbols)):\n",
    "#     print(f'\\\"{symbols[b]}\\n\\\",')\n",
    "        \n",
    "# whitelist can be used for the bot whitelist\n",
    "whitelist\n"
   ]
  },
  {
   "cell_type": "code",
   "execution_count": 153,
   "id": "e40e9fa5",
   "metadata": {
    "scrolled": true
   },
   "outputs": [
    {
     "name": "stdout",
     "output_type": "stream",
     "text": [
      "https://api.binance.com/api/v1/klines?symbol=STEEMETH&interval=1d\n"
     ]
    }
   ],
   "source": [
    "import os\n",
    "live = pd.to_datetime('today')\n",
    "start = pd.to_datetime('2021-04-01')\n",
    "end = pd.to_datetime('2021-09-07')\n",
    "\n",
    "root_url = 'https://api.binance.com/api/v1/klines'\n",
    "symbol = 'STEEMETH'\n",
    "interval = '1d'\n",
    "url = root_url + '?symbol=' + symbol + '&interval=' + interval\n",
    "print(url)\n",
    "\n",
    "\n",
    "directory = 'BN-main'\n",
    "table = []\n",
    "   \n",
    "        \n",
    "        \n",
    "        #now = df.close[df.close.idxmax()]\n",
    "#get the live price \n",
    "        #array = filename.split(\"/\")\n",
    "        #symbol =array[0]+'USDT'\n",
    "for symbol in symbols:\n",
    "        url = root_url + '?symbol=' + symbol + '&interval=' + interval\n",
    "        data = json.loads(requests.get(url).text)\n",
    "        dflive = pd.DataFrame(data ,columns =['open_time',\n",
    "              'o', 'h', 'l', 'c', 'v',\n",
    "              'close_time', 'qav', 'num_trades',\n",
    "              'taker_base_vol', 'taker_quote_vol', 'ignore'])\n",
    "        dflive.open_time = pd.to_datetime(dflive['open_time'],unit='ms')\n",
    "        dflive=dflive.loc[(dflive.open_time>start)]\n",
    "        lastrow = dflive.iloc[-1]\n",
    "        now= float(lastrow.c)\n",
    "        alth = dflive.h.max()\n",
    "        altl = dflive.l.min()\n",
    "        #dflive.index = [dt.datetime.fromtimestamp(x/1000.0) for x in df.close_time]\n",
    "        \n",
    "        \n",
    "        #indicator =  data.DataReader(array[0]+'-USD', 'stooq',end,live)\n",
    "        #price = indicator.loc[indicator.Close.idxmax()]\n",
    "        #now = price.Close\n",
    "        tuple =(symbol,alth,altl,now)\n",
    "        table.append(tuple)\n",
    "        #print(\"name is: \",array[0] ,alth,altl)\n",
    "        \n",
    "\n",
    "table[0]\n",
    "AllTime = pd.DataFrame(table,columns=['Indicator','ATH','ATL','Current'])\n",
    "AllTime.ATH=AllTime.ATH.astype(float)\n",
    "AllTime.ATL=AllTime.ATL.astype(float)\n",
    "AllTime.Current=AllTime.Current.astype(float)\n",
    "AllTime.dtypes\n",
    "\n",
    "AllTime['percent']=(AllTime['Current']/AllTime['ATH'])*100\n",
    "AllTime.sort_values(by=['percent'],ascending=True,inplace = True)\n",
    "#AllTime.sort_values(by='ATH',ascending=False)\n",
    "#AllTime.to_csv(\"alltimeHL.csv\", mode=\"w\")\n",
    "#data.sort_values(\"Name\", axis = 0, ascending = True,inplace = True, na_position ='last')\n"
   ]
  },
  {
   "cell_type": "code",
   "execution_count": 154,
   "id": "a88ea65c",
   "metadata": {},
   "outputs": [
    {
     "data": {
      "text/plain": [
       "open_time          2021-09-18 00:00:00\n",
       "o                           1.00100000\n",
       "h                           1.00300000\n",
       "l                           0.99900000\n",
       "c                           1.00000000\n",
       "v                       43929.80000000\n",
       "close_time               1632009599999\n",
       "qav                     43942.56260000\n",
       "num_trades                         155\n",
       "taker_base_vol          23954.80000000\n",
       "taker_quote_vol         23977.08640000\n",
       "ignore                               0\n",
       "Name: 288, dtype: object"
      ]
     },
     "execution_count": 154,
     "metadata": {},
     "output_type": "execute_result"
    }
   ],
   "source": [
    "lastrow"
   ]
  },
  {
   "cell_type": "code",
   "execution_count": null,
   "id": "1ff35fe2",
   "metadata": {},
   "outputs": [],
   "source": []
  },
  {
   "cell_type": "code",
   "execution_count": 155,
   "id": "3e3dd083",
   "metadata": {},
   "outputs": [
    {
     "name": "stdout",
     "output_type": "stream",
     "text": [
      "      Indicator         ATH         ATL     Current    percent\n",
      "210     PAXUSDT  999.000000    0.990100    0.999600   0.100060\n",
      "35      TLMUSDT    5.950000    0.066300    0.222200   3.734454\n",
      "92      EPSUSDT    8.469000    0.334000    0.656500   7.751801\n",
      "245    DREPUSDT    4.817000    0.315000    0.746700  15.501349\n",
      "30     SHIBUSDT    0.000050    0.000005    0.000008  15.940000\n",
      "154  PUNDIXUSDT    9.699000    0.578000    1.637000  16.878029\n",
      "89      WINUSDT    0.002970    0.000266    0.000510  17.178451\n",
      "98      WRXUSDT    6.666600    0.675000    1.181000  17.715177\n",
      "40      SLPUSDT    0.424800    0.061400    0.082300  19.373823\n",
      "216   BTCSTUSDT   92.999000   11.637000   18.940000  20.365810\n",
      "53     DENTUSDT    0.022700    0.001561    0.004843  21.334802\n",
      "197    FARMUSDT  958.400000  164.700000  208.300000  21.734140\n",
      "222     KMDUSDT    4.742600    0.483000    1.062200  22.396997\n",
      "223    TROYUSDT    0.037600    0.005547    0.008445  22.460106\n",
      "168     MBLUSDT    0.043380    0.003019    0.009766  22.512679\n",
      "80     BAKEUSDT    8.487000    1.443000    2.043000  24.072110\n",
      "244     BARUSDT   73.800000   11.700000   18.260000  24.742547\n",
      "219     KEYUSDT    0.034750    0.005397    0.008677  24.969784\n",
      "205   FORTHUSDT   59.000000   10.217000   14.870000  25.203390\n",
      "183    NULSUSDT    1.999900    0.312500    0.513200  25.661283\n",
      "73      NKNUSDT    1.489000    0.163550    0.382900  25.715245\n",
      "211    MITHUSDT    0.199000    0.025230    0.052540  26.402010\n",
      "102    DODOUSDT    5.650000    0.752000    1.495000  26.460177\n",
      "167    VITEUSDT    0.349000    0.042010    0.095240  27.289398\n",
      "24      ATAUSDT    4.500000    0.041390    1.228900  27.308889\n",
      "224    WINGUSDT   74.000000   11.500000   20.340000  27.486486\n",
      "249     NBSUSDT    0.052000    0.008240    0.014300  27.500000\n",
      "101    LINAUSDT    0.174000    0.020100    0.047960  27.563218\n",
      "235     MDTUSDT    0.143000    0.017810    0.040030  27.993007\n",
      "225    AIONUSDT    0.695200    0.093200    0.195200  28.078251\n",
      "198    BZRXUSDT    1.175800    0.144100    0.337400  28.695356\n",
      "236     GTOUSDT    0.157920    0.018000    0.045630  28.894377\n",
      "55      BTTUSDT    0.013578    0.001775    0.003947  29.069939\n",
      "69       SCUSDT    0.064000    0.007624    0.018910  29.546875\n",
      "160     TCTUSDT    0.117900    0.015516    0.035230  29.881255\n",
      "117     FUNUSDT    0.068655    0.013336    0.020530  29.903139\n",
      "200     BTSUSDT    0.174580    0.033210    0.052340  29.980525\n",
      "58      HOTUSDT    0.031600    0.004330    0.009637  30.496835\n",
      "191     DGBUSDT    0.184000    0.031840    0.056780  30.858696\n",
      "151     XVGUSDT    0.080000    0.015810    0.024810  31.012500\n",
      "232    PERLUSDT    0.296320    0.037000    0.093220  31.459233\n",
      "112     OGNUSDT    3.390000    0.455900    1.070900  31.589971\n",
      "86      PNTUSDT    3.722700    0.538900    1.177400  31.627582\n",
      "162     LTOUSDT    0.909000    0.130000    0.288000  31.683168\n",
      "150    AKROUSDT    0.088500    0.013497    0.028130  31.785311\n",
      "175     CFXUSDT    1.371000    0.169000    0.442100  32.246535\n",
      "12     DOGEUSDT    0.739950    0.055086    0.241700  32.664369\n",
      "193    BEAMUSDT    2.100000    0.344000    0.690200  32.866667\n",
      "70      XVSUSDT   98.306000  101.010000   32.330000  32.887108\n"
     ]
    },
    {
     "name": "stderr",
     "output_type": "stream",
     "text": [
      "/Users/hjabbour/opt/anaconda3/envs/ML/lib/python3.7/site-packages/ipykernel_launcher.py:2: SettingWithCopyWarning: \n",
      "A value is trying to be set on a copy of a slice from a DataFrame\n",
      "\n",
      "See the caveats in the documentation: https://pandas.pydata.org/pandas-docs/stable/user_guide/indexing.html#returning-a-view-versus-a-copy\n",
      "  \n"
     ]
    }
   ],
   "source": [
    "drop = AllTime.loc[(AllTime['percent']<40)]\n",
    "sort = drop.sort_values(by=['percent'],ascending=True,inplace = True)\n",
    "print(drop.iloc[1:50,:])"
   ]
  },
  {
   "cell_type": "code",
   "execution_count": 109,
   "id": "e155b5f1",
   "metadata": {},
   "outputs": [],
   "source": [
    "AllTime.to_csv(\"alltimeHL.csv\", mode=\"w\")"
   ]
  },
  {
   "cell_type": "code",
   "execution_count": 110,
   "id": "7ab3e4e8",
   "metadata": {},
   "outputs": [],
   "source": [
    "drop.to_csv(\"drop1092021.csv\",mode =\"w\")"
   ]
  },
  {
   "cell_type": "code",
   "execution_count": null,
   "id": "9d815504",
   "metadata": {},
   "outputs": [],
   "source": []
  }
 ],
 "metadata": {
  "kernelspec": {
   "display_name": "Python 3",
   "language": "python",
   "name": "python3"
  },
  "language_info": {
   "codemirror_mode": {
    "name": "ipython",
    "version": 3
   },
   "file_extension": ".py",
   "mimetype": "text/x-python",
   "name": "python",
   "nbconvert_exporter": "python",
   "pygments_lexer": "ipython3",
   "version": "3.7.10"
  }
 },
 "nbformat": 4,
 "nbformat_minor": 5
}
