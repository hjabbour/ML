{
 "cells": [
  {
   "cell_type": "code",
   "execution_count": 13,
   "id": "d3661386",
   "metadata": {},
   "outputs": [],
   "source": [
    "import numpy as np \n",
    "import pandas as pd \n",
    "from datetime import date\n",
    "#Data Source (Pandas Data Reader)\n",
    "from pandas_datareader import data\n",
    "import requests \n",
    "import json\n",
    "from dateutil.relativedelta import relativedelta\n",
    "\n",
    "\n",
    "#Data Source(Pandas Data Reader)\n"
   ]
  },
  {
   "cell_type": "code",
   "execution_count": 14,
   "id": "b4798a21",
   "metadata": {},
   "outputs": [],
   "source": [
    "whitelist = 'AVAX/USDT,GALA/USDT, WAXP/USDT, HIVE/USDT, BAT/USDT, VIDT/USDT,IRIS/USDT, SHIB/USDT, MATIC/USDT, ZRX/USDT, BTC/USDT, ETH/USDT, AXS/USDT, SOL/USDT, MATIC/USDT, ADA/USDT, BNB/USDT, FIL/USDT, XRP/USDT, CVC/USDT, FTM/USDT, ICP/USDT, DOGE/USDT, XEC/USDT, IOTA/USDT, AVAX/USDT, DOT/USDT, LTC/USDT, EOS/USDT, IOST/USDT, STMX/USDT, FTT/USDT, TWT/USDT, ALICE/USDT, ATA/USDT, ETC/USDT, VET/USDT, SAND/USDT, LINK/USDT, THETA/USDT, SHIB/USDT, CHZ/USDT, LUNA/USDT, IOTX/USDT, TRX/USDT, TLM/USDT, BCH/USDT, REEF/USDT, CAKE/USDT, NEO/USDT, SLP/USDT, RVN/USDT, ATOM/USDT, SUSHI/USDT, ARDR/USDT, OMG/USDT, GRT/USDT, 1INCH/USDT, AAVE/USDT, C98/USDT, UNI/USDT, HBAR/USDT, CRV/USDT, DENT/USDT, MBOX/USDT, BTT/USDT, SRM/USDT, YFI/USDT, HOT/USDT, XLM/USDT, FIS/USDT, REQ/USDT, SXP/USDT, KSM/USDT, QNT/USDT, NEAR/USDT, COMP/USDT, QTUM/USDT, CHR/USDT, SC/USDT, XVS/USDT, ONT/USDT, COTI/USDT, NKN/USDT, RUNE/USDT, ANKR/USDT, MANA/USDT, CTXC/USDT, AR/USDT, RAY/USDT, BAKE/USDT, ARPA/USDT, XTZ/USDT, ZIL/USDT, ONG/USDT, ROSE/USDT, PNT/USDT, ALGO/USDT, MINA/USDT, WIN/USDT, AUDIO/USDT, STORJ/USDT, EPS/USDT, MDX/USDT, ZEC/USDT, ENJ/USDT, HIVE/USDT, TFUEL/USDT, WRX/USDT, SNX/USDT, SKL/USDT, LINA/USDT, DODO/USDT, UNFI/USDT, XEM/USDT, EGLD/USDT, ICX/USDT, WAVES/USDT, ONE/USDT, DASH/USDT, KAVA/USDT, SUPER/USDT, TKO/USDT, OGN/USDT, XMR/USDT, OCEAN/USDT, CELO/USDT, BAT/USDT, FUN/USDT, LRC/USDT, ALPHA/USDT, MASK/USDT, TRU/USDT, DNT/USDT, LIT/USDT, FET/USDT, GTC/USDT, CELR/USDT, DEXE/USDT, ZEN/USDT, WAXP/USDT, CTSI/USDT, HNT/USDT, YFII/USDT, BEL/USDT, ZRX/USDT, DEGO/USDT, RSR/USDT, COS/USDT, FLM/USDT, BAL/USDT, MFT/USDT, RLC/USDT, KNC/USDT, REN/USDT, INJ/USDT, FLOW/USDT, SFP/USDT, BAND/USDT, CTK/USDT, SUN/USDT, AKRO/USDT, XVG/USDT, NANO/USDT, STRAX/USDT, PUNDIX/USDT, TVK/USDT, MKR/USDT, CLV/USDT, TRB/USDT, ETHUP/USDT, KEEP/USDT, TCT/USDT, POND/USDT, LTO/USDT, ANT/USDT, TOMO/USDT, ACM/USDT, FIO/USDT, VITE/USDT, MBL/USDT, JST/USDT, MTL/USDT, UTK/USDT, BLZ/USDT, ORN/USDT, STPT/USDT, CFX/USDT, OM/USDT, PERP/USDT, MIR/USDT, STX/USDT, ERN/USDT, TUSD/USDT, PSG/USDT, NULS/USDT, OXT/USDT, REP/USDT, BNBUP/USDT, DATA/USDT, WAN/USDT, BURGER/USDT, RAMP/USDT, ATM/USDT, DGB/USDT, DIA/USDT, BEAM/USDT, UMA/USDT, ETHDOWN/USDT, CKB/USDT, TRIBE/USDT, FARM/USDT, BTCUP/USDT, BZRX/USDT, ALPACA/USDT, DOTUP/USDT, BTS/USDT, FOR/USDT, ADAUP/USDT, HARD/USDT, LSK/USDT, POLS/USDT, FORTH/USDT, TORN/USDT, VTHO/USDT, BTG/USDT, QUICK/USDT, FILUP/USDT, PAX/USDT, MITH/USDT, SUSHIUP/USDT, BTCDOWN/USDT, XRPDOWN/USDT, BNBDOWN/USDT, DUSK/USDT, XRPUP/USDT, WTC/USDT, DOCK/USDT, AUTO/USDT, BTCST/USDT, KLAY/USDT, WNXM/USDT, KEY/USDT, FILDOWN/USDT, NU/USDT, IRIS/USDT, KMD/USDT, TROY/USDT, WING/USDT, AION/USDT, PHA/USDT, SUSHIDOWN/USDT, EOSUP/USDT, LTCUP/USDT, GHST/USDT, PAXG/USDT, BNT/USDT, AVA/USDT, BADGER/USDT, PERL/USDT, COCOS/USDT, GXS/USDT, MDT/USDT, 1INCHUP/USDT, GTO/USDT, LINKUP/USDT, AAVEUP/USDT, FIRO/USDT, JUV/USDT, MLN/USDT, UNIUP/USDT, LPT/USDT, NMR/USDT, AAVEDOWN/USDT, 1INCHDOWN/USDT, ASR/USDT, OG/USDT, BAR/USDT, DREP/USDT, ADADOWN/USDT, BOND/USDT, DCR/USDT, DOTDOWN/USDT, GNO/USDT, NBS/USDT, SXPUP/USDT, EOSDOWN/USDT, YFIUP/USDT, RIF/USDT, LTCDOWN/USDT, XLMUP/USDT, YFIDOWN/USDT, LINKDOWN/USDT, TRXUP/USDT, BCHUP/USDT, XTZUP/USDT, SXPDOWN/USDT, UNIDOWN/USDT, XTZDOWN/USDT, BCHDOWN/USDT, TRXDOWN/USDT, XLMDOWN/USDT, SUSD/USDT'\n",
    "startdate = '2020-01-01'\n",
    "enddate = '2022-02-17'\n",
    "interval = '1w'"
   ]
  },
  {
   "cell_type": "code",
   "execution_count": 15,
   "id": "5e1e6ea2",
   "metadata": {
    "scrolled": false
   },
   "outputs": [
    {
     "name": "stdout",
     "output_type": "stream",
     "text": [
      "https://api.binance.com/api/v1/klines?symbol=STEEMETH&interval=1w\n"
     ]
    },
    {
     "data": {
      "text/plain": [
       "(262, 14)"
      ]
     },
     "execution_count": 15,
     "metadata": {},
     "output_type": "execute_result"
    }
   ],
   "source": [
    "whitelist=whitelist.lstrip()\n",
    "array = whitelist.split(\",\")\n",
    "array\n",
    "wl = []\n",
    "bl = []\n",
    "blacklist = \"\"\n",
    "whitelist = \"\"\n",
    "symbols =[]\n",
    "for i in range(0 ,len(array)):\n",
    "    if (array[i].find('DOWN') != -1):\n",
    "        bl.append(str(array[i]).lstrip())\n",
    "        #print (\"Contains given substring \")\n",
    "        blacklist += str(array[i])\n",
    "    elif (array[i].find('UP') != -1):\n",
    "        bl.append(str(array[i]).lstrip())\n",
    "        #print (\"Contains given substring \")\n",
    "        blacklist += str(array[i])\n",
    "\n",
    "    else:\n",
    "        wl.append(str(array[i]).lstrip().replace(\"/\",\"\"))\n",
    "        whitelist +=str(array[i]).lstrip()\n",
    "        #print (\"Doesn't contains given substring\")\n",
    "    \n",
    "\n",
    "    \n",
    "#symbols to be used to get the prices from binance url\n",
    "symbols = np.array(wl)\n",
    "\n",
    "\n",
    "## get the data \n",
    "import os\n",
    "\n",
    "live = pd.to_datetime('today')\n",
    "start = pd.to_datetime(startdate)\n",
    "end = pd.to_datetime(enddate)\n",
    "\n",
    "root_url = 'https://api.binance.com/api/v1/klines'\n",
    "symbol = 'STEEMETH'\n",
    "#interval = '1d'\n",
    "url = root_url + '?symbol=' + symbol + '&interval=' + interval\n",
    "print(url)\n",
    "\n",
    "\n",
    "directory = 'BN-main'\n",
    "table = []\n",
    "   \n",
    "        \n",
    "        \n",
    "\n",
    "for symbol in symbols:\n",
    "        url = root_url + '?symbol=' + symbol + '&interval=' + interval\n",
    "        data = json.loads(requests.get(url).text)\n",
    "        dflive = pd.DataFrame(data ,columns =['open_time',\n",
    "              'o', 'h', 'l', 'c', 'v',\n",
    "              'close_time', 'qav', 'num_trades',\n",
    "              'taker_base_vol', 'taker_quote_vol', 'ignore'])\n",
    "        dflive.open_time = pd.to_datetime(dflive['open_time'],unit='ms')\n",
    "        dflive=dflive.loc[(dflive.open_time>start)]\n",
    "        lastrow = dflive.iloc[-1]\n",
    "        now= float(lastrow.c)\n",
    "        alth = dflive.c.max()\n",
    "        altl = dflive.l.min()\n",
    "        \n",
    "        ## past 1 month \n",
    "        past_month = end - relativedelta(months=1)\n",
    "        \n",
    "        back1Mdata = dflive.loc[(dflive.open_time> past_month)]\n",
    "        omh = back1Mdata.h.max()\n",
    "        oml = back1Mdata.l.min()\n",
    "        ## past 2 month\n",
    "        \n",
    "        past_2month = end - relativedelta(months=2)\n",
    "        back2Mdata = dflive.loc[(dflive.open_time > past_2month)&(dflive.open_time < past_month)]\n",
    "        tmh = back2Mdata.h.max()\n",
    "        tml = back2Mdata.l.min()\n",
    "        ## past 3 month \n",
    "        \n",
    "        past_3month = end - relativedelta(months=3)\n",
    "        back3Mdata = dflive.loc[(dflive.open_time> past_3month)&(dflive.open_time < past_2month)]\n",
    "        thmh = back3Mdata.h.max()\n",
    "        thml = back3Mdata.l.min()\n",
    "        \n",
    " \n",
    "        tuple =(symbol,alth,altl,now,omh,oml,tmh,tml,thmh,thml)\n",
    "        table.append(tuple)\n",
    "        #print(\"name is: \",symbol ,alth,altl)\n",
    "        \n",
    "\n",
    "table[0]\n",
    "AllTime = pd.DataFrame(table,columns=['Indicator','ATH','ATL','Current','OMH','OML','TMH','TML','THMH','THML'])\n",
    "AllTime.ATH=AllTime.ATH.astype(float)\n",
    "AllTime.ATL=AllTime.ATL.astype(float)\n",
    "AllTime.Current=AllTime.Current.astype(float)\n",
    "AllTime.OMH=AllTime.OMH.astype(float)\n",
    "AllTime.OML=AllTime.OML.astype(float)\n",
    "AllTime.TMH=AllTime.TMH.astype(float)\n",
    "AllTime.TML=AllTime.TML.astype(float)\n",
    "AllTime.THMH=AllTime.THMH.astype(float)\n",
    "AllTime.THML=AllTime.THML.astype(float)\n",
    "AllTime.dtypes\n",
    "\n",
    "AllTime['ALLTIME']=(AllTime['Current']/AllTime['ATH'])*100\n",
    "AllTime['MONTH']=(AllTime['Current']/AllTime['OMH'])*100\n",
    "AllTime['2MONTH']=(AllTime['Current']/AllTime['TMH'])*100\n",
    "AllTime['3MONTH']=(AllTime['Current']/AllTime['THMH'])*100\n",
    "AllTime.sort_values(by=['ALLTIME'],ascending=True,inplace = True)\n",
    "#AllTime.sort_values(by='ATH',ascending=False)\n",
    "#AllTime.to_csv(\"alltimeHL.csv\", mode=\"w\")\n",
    "#data.sort_values(\"Name\", axis = 0, ascending = True,inplace = True, na_position ='last')\n",
    "\n",
    "## Display the Data \n",
    "AllTime.shape\n",
    "\n"
   ]
  },
  {
   "cell_type": "code",
   "execution_count": 16,
   "id": "d0bf9782",
   "metadata": {},
   "outputs": [
    {
     "name": "stdout",
     "output_type": "stream",
     "text": [
      "     Indicator    ALLTIME      MONTH     2MONTH     3MONTH   Current\n",
      "219  QUICKUSDT  28.847481  83.801123  36.666667  58.873239  209.0000\n",
      "255   DREPUSDT  27.904690  83.869501  46.548896  47.041571    0.7378\n",
      "Empty DataFrame\n",
      "Columns: [Indicator, ALLTIME, MONTH, 2MONTH, 3MONTH, Current]\n",
      "Index: []\n",
      "Empty DataFrame\n",
      "Columns: [Indicator, ALLTIME, MONTH, 2MONTH, 3MONTH, Current]\n",
      "Index: []\n"
     ]
    },
    {
     "name": "stderr",
     "output_type": "stream",
     "text": [
      "/Users/hjabbour/opt/anaconda3/envs/cryptodev/lib/python3.8/site-packages/pandas/util/_decorators.py:311: SettingWithCopyWarning: \n",
      "A value is trying to be set on a copy of a slice from a DataFrame\n",
      "\n",
      "See the caveats in the documentation: https://pandas.pydata.org/pandas-docs/stable/user_guide/indexing.html#returning-a-view-versus-a-copy\n",
      "  return func(*args, **kwargs)\n"
     ]
    }
   ],
   "source": [
    "## Display the Data coins run last  Month\n",
    "\n",
    "#drop = AllTime.loc[(AllTime['MONTH'] < 35)]\n",
    "#drop = AllTime.loc[(AllTime['MONTH'] < 70)]\n",
    "#drop = AllTime.loc[(AllTime['MONTH'] < 80)&(AllTime['2MONTH'] < 70)&(AllTime['ALLTIME'] < 40)]\n",
    "drop = AllTime.loc[(AllTime['ALLTIME'] < 30)&(AllTime['2MONTH'] < (AllTime['3MONTH']))]\n",
    "\n",
    "sort = drop.sort_values(by=['MONTH'],ascending=True,inplace = True)\n",
    "#drop = drop.loc[(drop['ALLTIME'] < drop['3MONTH'])]\n",
    "display = drop[['Indicator','ALLTIME','MONTH','2MONTH','3MONTH','Current']]\n",
    "\n",
    "print(display.iloc[0:60,0:14])\n",
    "print(display.iloc[60:110,])\n",
    "print(display.iloc[110:160,])\n",
    "\n",
    "\n"
   ]
  },
  {
   "cell_type": "code",
   "execution_count": 17,
   "id": "2c8edc4b",
   "metadata": {},
   "outputs": [
    {
     "name": "stdout",
     "output_type": "stream",
     "text": [
      "growing 3 month\n",
      "      Indicator    ALLTIME      MONTH     2MONTH     3MONTH    Current\n",
      "159     SUNUSDT   0.170036  86.288660  65.698587  48.890187   0.016740\n",
      "102     EPSUSDT   4.014804  77.220339  63.702461  43.807692   0.227800\n",
      "112    DODOUSDT   7.846289  82.615385  48.818182  33.816121   0.537000\n",
      "50      SLPUSDT   8.472012  68.459658  83.582090  40.579710   0.028000\n",
      "90     BAKEUSDT   8.919357  91.898734  55.000000  36.191426   0.726000\n",
      "185     CFXUSDT  11.002486  75.070661  54.448544  37.514124   0.132800\n",
      "103     MDXUSDT  11.944756  75.964392  52.566735  29.057889   0.256000\n",
      "199    RAMPUSDT  13.499769  81.621244  48.870293  24.450492   0.116800\n",
      "186      OMUSDT  13.573370  78.046875  47.844828  31.277395   0.099900\n",
      "232     KMDUSDT  13.592935  81.420327  51.826531  30.360452   0.507900\n",
      "122     OGNUSDT  14.391130  79.405429  48.189306  29.265582   0.368600\n",
      "99      WINUSDT  14.525273  85.274327  60.603274  38.140989   0.000329\n",
      "201     DGBUSDT  15.127439  83.538084  59.500000  44.669670   0.023800\n",
      "111    LINAUSDT  15.431442  84.471045  47.472727  35.767123   0.026110\n",
      "188     MIRUSDT  15.690630  96.581728  56.427015  52.821210   1.554000\n",
      "114     XEMUSDT  15.889416  91.552695  79.082696  62.942478   0.113800\n",
      "133     LITUSDT  17.153570  83.181818  47.137951  21.169666   1.647000\n",
      "63     DENTUSDT  17.301655  85.216653  54.709091  50.913706   0.003009\n",
      "129   ALPHAUSDT  17.465099  81.461378  45.905882  36.933270   0.390200\n",
      "121     TKOUSDT  17.641264  89.039548  55.492958  39.797980   0.788000\n",
      "217    VTHOUSDT  17.727934  83.068346  40.230000  37.136527   0.004023\n",
      "45      TLMUSDT  18.148099  83.282675  51.717629  24.035088   0.137000\n",
      "164  PUNDIXUSDT  18.210291  69.158879  64.603175  53.764861   0.814000\n",
      "197     WANUSDT  19.002443  78.030430  53.643678  37.832361   0.466700\n",
      "68      HOTUSDT  19.097573  83.919355  56.260813  35.964609   0.005203\n",
      "202     DIAUSDT  19.169455  74.636015  64.803726  40.787270   0.974000\n",
      "110     SKLUSDT  19.211337  85.518376  59.846449  36.425234   0.155900\n",
      "171    PONDUSDT  19.286344  80.359765  49.285151  35.024000   0.043780\n",
      "70      FISUSDT  19.340715  73.550239  51.942961  30.379447   0.768600\n",
      "143     BELUSDT  19.375588  85.615251  54.585635  33.378378   0.988000\n",
      "160    AKROUSDT  19.403367  85.833333  52.646951  40.631164   0.014420\n",
      "210     BTSUSDT  19.409381  86.764194  61.612664  42.523045   0.024910\n",
      "146     RSRUSDT  19.856510  85.428961  52.999155  31.914533   0.018820\n",
      "127     FUNUSDT  20.052143  87.166667  59.062676  44.435004   0.010460\n",
      "178     MBLUSDT  20.248908  87.911038  59.558144  43.416442   0.006443\n",
      "30     STMXUSDT  20.295227  84.054054  61.100196  42.232482   0.015550\n",
      "56      GRTUSDT  20.705535  89.856712  61.338481  43.485401   0.476600\n",
      "235    AIONUSDT  20.770453  77.538918  61.098131  28.423913   0.104600\n",
      "226   BTCSTUSDT  20.954467  86.854460  60.086611  45.454545  16.650000\n",
      "108     WRXUSDT  21.474122  71.061360  61.214286  45.828877   0.857000\n",
      "81      ONTUSDT  21.519269  91.390728  74.222051  52.883212   0.579600\n",
      "93      ZILUSDT  21.530673  85.765125  59.303961  52.828810   0.050610\n",
      "213     LSKUSDT  21.901347  89.195856  58.682246  39.432933   1.808000\n",
      "79       SCUSDT  22.065552  86.190089  59.473094  35.366667   0.010610\n",
      "203    BEAMUSDT  23.050260  77.583333  49.383371  28.212121   0.372400\n",
      "162    NANOUSDT  23.464123  98.450642  54.243902  40.399637   2.224000\n",
      "36      VETUSDT  23.859056  87.039171  58.691008  45.344737   0.060440\n",
      "150     MFTUSDT  23.893715  85.609667  58.450000  42.666829   0.007014\n",
      "177    VITEUSDT  23.923555  90.742358  63.566840  40.959264   0.062340\n",
      "167     CLVUSDT  24.044680  63.906250  47.174164  30.363771   0.409000\n",
      "132     DNTUSDT  24.140974  86.178862  53.603034  38.545455   0.084800\n",
      "168     TRBUSDT  24.161863  86.971047  55.865522  38.740079  23.430000\n",
      "66      SRMUSDT  24.218513  86.770569  55.895400  38.451654   2.394000\n",
      "180     MTLUSDT  24.378898  84.271357  68.198455  51.743289   1.677000\n",
      "156     SFPUSDT  24.583525  87.443809  47.279456  27.609677   0.855900\n",
      "148     FLMUSDT  24.682652  88.413607  62.799043  39.479621   0.262500\n",
      "47     REEFUSDT  24.791553  85.874126  55.067265  42.564991   0.012280\n",
      "208    BZRXUSDT  24.793008        NaN  99.446494  51.235741   0.215600\n",
      "Empty DataFrame\n",
      "Columns: [Indicator, ALLTIME, MONTH, 2MONTH, 3MONTH, Current]\n",
      "Index: []\n",
      "Empty DataFrame\n",
      "Columns: [Indicator, ALLTIME, MONTH, 2MONTH, 3MONTH, Current]\n",
      "Index: []\n"
     ]
    },
    {
     "name": "stderr",
     "output_type": "stream",
     "text": [
      "/Users/hjabbour/opt/anaconda3/envs/cryptodev/lib/python3.8/site-packages/pandas/util/_decorators.py:311: SettingWithCopyWarning: \n",
      "A value is trying to be set on a copy of a slice from a DataFrame\n",
      "\n",
      "See the caveats in the documentation: https://pandas.pydata.org/pandas-docs/stable/user_guide/indexing.html#returning-a-view-versus-a-copy\n",
      "  return func(*args, **kwargs)\n"
     ]
    }
   ],
   "source": [
    "## Coins all time low\n",
    "\n",
    "#drop = AllTime.loc[(AllTime['ALLTIME'] < 60)& (AllTime['MONTH'] < 40)]\n",
    "drop = AllTime.loc[(AllTime['ALLTIME'] < 25)]\n",
    "#drop = AllTime.loc[(AllTime['MONTH'] < 80)&(AllTime['2MONTH'] < 70)&(AllTime['ALLTIME'] < 40)]\n",
    "#drop = AllTime.loc[(AllTime['MONTH'] <60)&(AllTime['2MONTH'] > (AllTime['3MONTH']))]\n",
    "\n",
    "\n",
    "sort = drop.sort_values(by=['ALLTIME'],ascending=True,inplace = True)\n",
    "#drop = drop.loc[(drop['ALLTIME'] < drop['3MONTH'])]\n",
    "display = drop[['Indicator','ALLTIME','MONTH','2MONTH','3MONTH','Current']]\n",
    "\n",
    "print(\"growing 3 month\")\n",
    "print(display.iloc[0:60,0:14])\n",
    "print(display.iloc[60:110,])\n",
    "print(display.iloc[110:160,])"
   ]
  },
  {
   "cell_type": "code",
   "execution_count": 18,
   "id": "4b9fd80f",
   "metadata": {},
   "outputs": [
    {
     "name": "stdout",
     "output_type": "stream",
     "text": [
      "topping up\n",
      "Empty DataFrame\n",
      "Columns: [Indicator, ALLTIME, MONTH, 2MONTH, 3MONTH, Current]\n",
      "Index: []\n",
      "Empty DataFrame\n",
      "Columns: [Indicator, ALLTIME, MONTH, 2MONTH, 3MONTH, Current]\n",
      "Index: []\n",
      "Empty DataFrame\n",
      "Columns: [Indicator, ALLTIME, MONTH, 2MONTH, 3MONTH, Current]\n",
      "Index: []\n"
     ]
    },
    {
     "name": "stderr",
     "output_type": "stream",
     "text": [
      "/Users/hjabbour/opt/anaconda3/envs/cryptodev/lib/python3.8/site-packages/pandas/util/_decorators.py:311: SettingWithCopyWarning: \n",
      "A value is trying to be set on a copy of a slice from a DataFrame\n",
      "\n",
      "See the caveats in the documentation: https://pandas.pydata.org/pandas-docs/stable/user_guide/indexing.html#returning-a-view-versus-a-copy\n",
      "  return func(*args, **kwargs)\n"
     ]
    }
   ],
   "source": [
    "## Coins toping up\n",
    "\n",
    "drop = AllTime.loc[(AllTime['ALLTIME'] > 100)& (AllTime['MONTH'] < 70)]\n",
    "#drop = AllTime.loc[(AllTime['MONTH'] < 70)]\n",
    "#drop = AllTime.loc[(AllTime['MONTH'] < 80)&(AllTime['2MONTH'] < 70)&(AllTime['ALLTIME'] < 40)]\n",
    "#drop = AllTime.loc[(AllTime['MONTH'] <70)&(AllTime['2MONTH'] > (AllTime['3MONTH']))]\n",
    "\n",
    "sort = drop.sort_values(by=['MONTH'],ascending=True,inplace = True)\n",
    "#drop = drop.loc[(drop['ALLTIME'] < drop['3MONTH'])]\n",
    "display = drop[['Indicator','ALLTIME','MONTH','2MONTH','3MONTH','Current']]\n",
    "\n",
    "print(\"topping up\")\n",
    "print(display.iloc[0:60,0:14])\n",
    "print(display.iloc[60:110,:])\n",
    "print(display.iloc[110:160,:])"
   ]
  },
  {
   "cell_type": "code",
   "execution_count": null,
   "id": "2729a06c",
   "metadata": {},
   "outputs": [],
   "source": []
  },
  {
   "cell_type": "code",
   "execution_count": null,
   "id": "603bc50b",
   "metadata": {},
   "outputs": [],
   "source": []
  },
  {
   "cell_type": "code",
   "execution_count": null,
   "id": "17acb1e1",
   "metadata": {},
   "outputs": [],
   "source": []
  },
  {
   "cell_type": "code",
   "execution_count": null,
   "id": "78bdc5de",
   "metadata": {},
   "outputs": [],
   "source": []
  }
 ],
 "metadata": {
  "kernelspec": {
   "display_name": "Python 3 (ipykernel)",
   "language": "python",
   "name": "python3"
  },
  "language_info": {
   "codemirror_mode": {
    "name": "ipython",
    "version": 3
   },
   "file_extension": ".py",
   "mimetype": "text/x-python",
   "name": "python",
   "nbconvert_exporter": "python",
   "pygments_lexer": "ipython3",
   "version": "3.8.12"
  }
 },
 "nbformat": 4,
 "nbformat_minor": 5
}
