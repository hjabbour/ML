{
 "cells": [
  {
   "cell_type": "code",
   "execution_count": 222,
   "id": "d3661386",
   "metadata": {},
   "outputs": [],
   "source": [
    "import numpy as np \n",
    "import pandas as pd \n",
    "from datetime import date\n",
    "#Data Source (Pandas Data Reader)\n",
    "from pandas_datareader import data\n",
    "import requests \n",
    "import json\n",
    "from dateutil.relativedelta import relativedelta\n",
    "\n",
    "\n",
    "#Data Source(Pandas Data Reader)\n"
   ]
  },
  {
   "cell_type": "code",
   "execution_count": 223,
   "id": "c198dbb1",
   "metadata": {},
   "outputs": [],
   "source": [
    "#oldlist = \"ETH/USDT, BTC/USDT, SOL/USDT, FTM/USDT, ADA/USDT, BNB/USDT, DOT/USDT, CELO/USDT, XRP/USDT, LUNA/USDT, AVAX/USDT, ICP/USDT, SAND/USDT, AR/USDT, DOGE/USDT, ALICE/USDT, MATIC/USDT, TLM/USDT, ATOM/USDT, C98/USDT, SRM/USDT, RAY/USDT, ONE/USDT, LINK/USDT, AXS/USDT, XTZ/USDT, EGLD/USDT, KSM/USDT, FIL/USDT, VET/USDT, KAVA/USDT, OGN/USDT, FTT/USDT, MBOX/USDT, ETC/USDT, MINA/USDT, CAKE/USDT, CHZ/USDT, PERP/USDT, LRC/USDT, ATA/USDT, CLV/USDT, WAVES/USDT, LTC/USDT, ENJ/USDT, EOS/USDT, UNI/USDT, THETA/USDT, CHR/USDT, EPS/USDT, RUNE/USDT, NEAR/USDT, SXP/USDT, SUSHI/USDT, SLP/USDT, TRX/USDT, CRV/USDT, FLOW/USDT, MANA/USDT, BCH/USDT, YFII/USDT, SHIB/USDT, COMP/USDT, ALPHA/USDT, AUDIO/USDT, ROSE/USDT, ALGO/USDT, AAVE/USDT, BAKE/USDT, COTI/USDT, CTK/USDT, DENT/USDT, XLM/USDT, GRT/USDT, OMG/USDT, ARPA/USDT, MASK/USDT, LTO/USDT, WIN/USDT, SKL/USDT, NEO/USDT, DGB/USDT, BTT/USDT, XMR/USDT, TVK/USDT, TFUEL/USDT, DASH/USDT, RVN/USDT, HOT/USDT, DEGO/USDT, FARM/USDT, GNO/USDT, ORN/USDT, FET/USDT, FUN/USDT, TKO/USDT, IOST/USDT, ZIL/USDT, CELR/USDT, ONT/USDT, LINA/USDT, INJ/USDT, SNX/USDT, REEF/USDT, 1INCH/USDT, SUPER/USDT, RSR/USDT, HBAR/USDT, DEXE/USDT, IOTX/USDT, IOTA/USDT, SC/USDT, BADGER/USDT, RLC/USDT, NU/USDT, WAXP/USDT, ZEC/USDT, HNT/USDT, UNFI/USDT, DODO/USDT, PAX/USDT, GTC/USDT, QTUM/USDT, WRX/USDT, ONG/USDT, ZEN/USDT, XVS/USDT, YFI/USDT, ANKR/USDT, PSG/USDT, CTSI/USDT, TROY/USDT, STMX/USDT, ICX/USDT, SFP/USDT, TRU/USDT, MIR/USDT, NANO/USDT, POND/USDT, FLM/USDT, TUSD/USDT, DNT/USDT, ETHUP/USDT, BAND/USDT, HARD/USDT, TWT/USDT, MKR/USDT, TRB/USDT, KEEP/USDT, OCEAN/USDT, FIS/USDT, BAT/USDT, TRIBE/USDT, REN/USDT, DIA/USDT, BNT/USDT, KEY/USDT, NKN/USDT, BURGER/USDT, XEM/USDT, ZRX/USDT, LIT/USDT, STORJ/USDT, WTC/USDT, DOTUP/USDT, MDX/USDT, ETHDOWN/USDT, BAL/USDT, AVA/USDT, PHA/USDT, DATA/USDT, QNT/USDT, CVC/USDT, TOMO/USDT, UTK/USDT, ALPACA/USDT, XVG/USDT, BTCDOWN/USDT, ERN/USDT, MTL/USDT, BTCUP/USDT, DOTDOWN/USDT, SUN/USDT, COS/USDT, LPT/USDT, OXT/USDT, FOR/USDT, AKRO/USDT, BNBUP/USDT, KMD/USDT, CFX/USDT, BLZ/USDT, DOCK/USDT, STX/USDT, POLS/USDT, FIO/USDT, XRPUP/USDT, REQ/USDT, KNC/USDT, KLAY/USDT, GXS/USDT, BTS/USDT, VTHO/USDT, BEL/USDT, LSK/USDT, FORTH/USDT, ADAUP/USDT, SUSHIUP/USDT, MLN/USDT, BZRX/USDT, VITE/USDT, XRPDOWN/USDT, REP/USDT, CKB/USDT, BTCST/USDT, MDT/USDT, OM/USDT, GHST/USDT, NMR/USDT, PERL/USDT, SUSHIDOWN/USDT, BTG/USDT, AUTO/USDT, NULS/USDT, UMA/USDT, MITH/USDT, PNT/USDT, WING/USDT, MFT/USDT, TORN/USDT, PAXG/USDT, JST/USDT, GTO/USDT, XTZDOWN/USDT, AION/USDT, COCOS/USDT, FIRO/USDT, RAMP/USDT, LINKUP/USDT, ATM/USDT, ADADOWN/USDT, STRAX/USDT, DCR/USDT, BNBDOWN/USDT, DUSK/USDT, PUNDIX/USDT, CTXC/USDT, DREP/USDT, QUICK/USDT, BEAM/USDT, HIVE/USDT, XTZUP/USDT, IRIS/USDT, WNXM/USDT, AAVEUP/USDT, JUV/USDT, ANT/USDT, BOND/USDT, UNIUP/USDT, WAN/USDT, EOSUP/USDT, BAR/USDT, 1INCHUP/USDT, MBL/USDT, AAVEDOWN/USDT, ARDR/USDT, SXPUP/USDT, UNIDOWN/USDT, LTCUP/USDT, NBS/USDT, STPT/USDT, TCT/USDT, ASR/USDT, OG/USDT, 1INCHDOWN/USDT, SXPDOWN/USDT, XLMUP/USDT, ACM/USDT, RIF/USDT, FILUP/USDT, EOSDOWN/USDT, LINKDOWN/USDT, TRXUP/USDT, YFIUP/USDT, BCHUP/USDT, LTCDOWN/USDT, TRXDOWN/USDT, XLMDOWN/USDT, FILDOWN/USDT, BCHDOWN/USDT, SUSD/USDT, YFIDOWN/USDT\""
   ]
  },
  {
   "cell_type": "code",
   "execution_count": 224,
   "id": "2e7054d4",
   "metadata": {},
   "outputs": [],
   "source": [
    "#oldlist = \"BTC/USDT, ETH/USDT, AXS/USDT, SOL/USDT, MATIC/USDT, ADA/USDT, BNB/USDT, FIL/USDT, XRP/USDT, CVC/USDT, FTM/USDT, ICP/USDT, DOGE/USDT, XEC/USDT, IOTA/USDT, AVAX/USDT, DOT/USDT, LTC/USDT, EOS/USDT, IOST/USDT, STMX/USDT, FTT/USDT, TWT/USDT, ALICE/USDT, ATA/USDT, ETC/USDT, VET/USDT, SAND/USDT, LINK/USDT, THETA/USDT, SHIB/USDT, CHZ/USDT, LUNA/USDT, IOTX/USDT, TRX/USDT, TLM/USDT, BCH/USDT, REEF/USDT, CAKE/USDT, NEO/USDT, SLP/USDT, RVN/USDT, ATOM/USDT, SUSHI/USDT, ARDR/USDT, OMG/USDT, GRT/USDT, 1INCH/USDT, AAVE/USDT, C98/USDT, UNI/USDT, HBAR/USDT, CRV/USDT, DENT/USDT, MBOX/USDT, BTT/USDT, SRM/USDT, YFI/USDT, HOT/USDT, XLM/USDT, FIS/USDT, REQ/USDT, SXP/USDT, KSM/USDT, QNT/USDT, NEAR/USDT, COMP/USDT, QTUM/USDT, CHR/USDT, SC/USDT, XVS/USDT, ONT/USDT, COTI/USDT, NKN/USDT, RUNE/USDT, ANKR/USDT, MANA/USDT, CTXC/USDT, AR/USDT, RAY/USDT, BAKE/USDT, ARPA/USDT, XTZ/USDT, ZIL/USDT, ONG/USDT, ROSE/USDT, PNT/USDT, ALGO/USDT, MINA/USDT, WIN/USDT, AUDIO/USDT, STORJ/USDT, EPS/USDT, MDX/USDT, ZEC/USDT, ENJ/USDT, HIVE/USDT, TFUEL/USDT, WRX/USDT, SNX/USDT, SKL/USDT, LINA/USDT, DODO/USDT, UNFI/USDT, XEM/USDT, EGLD/USDT, ICX/USDT, WAVES/USDT, ONE/USDT, DASH/USDT, KAVA/USDT, SUPER/USDT, TKO/USDT, OGN/USDT, XMR/USDT, OCEAN/USDT, CELO/USDT, BAT/USDT, FUN/USDT, LRC/USDT, ALPHA/USDT, MASK/USDT, TRU/USDT, DNT/USDT, LIT/USDT, FET/USDT, GTC/USDT, CELR/USDT, DEXE/USDT, ZEN/USDT, WAXP/USDT, CTSI/USDT, HNT/USDT, YFII/USDT, BEL/USDT, ZRX/USDT, DEGO/USDT, RSR/USDT, COS/USDT, FLM/USDT, BAL/USDT, MFT/USDT, RLC/USDT, KNC/USDT, REN/USDT, INJ/USDT, FLOW/USDT, SFP/USDT, BAND/USDT, CTK/USDT, SUN/USDT, AKRO/USDT, XVG/USDT, NANO/USDT, STRAX/USDT, PUNDIX/USDT, TVK/USDT, MKR/USDT, CLV/USDT, TRB/USDT, ETHUP/USDT, KEEP/USDT, TCT/USDT, POND/USDT, LTO/USDT, ANT/USDT, TOMO/USDT, ACM/USDT, FIO/USDT, VITE/USDT, MBL/USDT, JST/USDT, MTL/USDT, UTK/USDT, BLZ/USDT, ORN/USDT, STPT/USDT, CFX/USDT, OM/USDT, PERP/USDT, MIR/USDT, STX/USDT, ERN/USDT, TUSD/USDT, PSG/USDT, NULS/USDT, OXT/USDT, REP/USDT, BNBUP/USDT, DATA/USDT, WAN/USDT, BURGER/USDT, RAMP/USDT, ATM/USDT, DGB/USDT, DIA/USDT, BEAM/USDT, UMA/USDT, ETHDOWN/USDT, CKB/USDT, TRIBE/USDT, FARM/USDT, BTCUP/USDT, BZRX/USDT, ALPACA/USDT, DOTUP/USDT, BTS/USDT, FOR/USDT, ADAUP/USDT, HARD/USDT, LSK/USDT, POLS/USDT, FORTH/USDT, TORN/USDT, VTHO/USDT, BTG/USDT, QUICK/USDT, FILUP/USDT, PAX/USDT, MITH/USDT, SUSHIUP/USDT, BTCDOWN/USDT, XRPDOWN/USDT, BNBDOWN/USDT, DUSK/USDT, XRPUP/USDT, WTC/USDT, DOCK/USDT, AUTO/USDT, BTCST/USDT, KLAY/USDT, WNXM/USDT, KEY/USDT, FILDOWN/USDT, NU/USDT, IRIS/USDT, KMD/USDT, TROY/USDT, WING/USDT, AION/USDT, PHA/USDT, SUSHIDOWN/USDT, EOSUP/USDT, LTCUP/USDT, GHST/USDT, PAXG/USDT, BNT/USDT, AVA/USDT, BADGER/USDT, PERL/USDT, COCOS/USDT, GXS/USDT, MDT/USDT, 1INCHUP/USDT, GTO/USDT, LINKUP/USDT, AAVEUP/USDT, FIRO/USDT, JUV/USDT, MLN/USDT, UNIUP/USDT, LPT/USDT, NMR/USDT, AAVEDOWN/USDT, 1INCHDOWN/USDT, ASR/USDT, OG/USDT, BAR/USDT, DREP/USDT, ADADOWN/USDT, BOND/USDT, DCR/USDT, DOTDOWN/USDT, GNO/USDT, NBS/USDT, SXPUP/USDT, EOSDOWN/USDT, YFIUP/USDT, RIF/USDT, LTCDOWN/USDT, XLMUP/USDT, YFIDOWN/USDT, LINKDOWN/USDT, TRXUP/USDT, BCHUP/USDT, XTZUP/USDT, SXPDOWN/USDT, UNIDOWN/USDT, XTZDOWN/USDT, BCHDOWN/USDT, TRXDOWN/USDT, XLMDOWN/USDT, SUSD/USDT\""
   ]
  },
  {
   "cell_type": "code",
   "execution_count": 225,
   "id": "3ffd6cfd",
   "metadata": {},
   "outputs": [],
   "source": [
    "#whitelist1 = 'RSR/USDT,ETH/USDT,BTC/USDT,SOL/USDT,FTM/USDT,ADA/USDT,BNB/USDT,DOT/USDT,CELO/USDT,XRP/USDT,LUNA/USDT,AVAX/USDT,ICP/USDT,SAND/USDT,AR/USDT,DOGE/USDT,ALICE/USDT,MATIC/USDT,TLM/USDT,ATOM/USDT,C98/USDT,SRM/USDT,RAY/USDT,ONE/USDT,LINK/USDT,AXS/USDT,XTZ/USDT,EGLD/USDT,KSM/USDT,FIL/USDT,VET/USDT,KAVA/USDT,OGN/USDT,FTT/USDT,MBOX/USDT,ETC/USDT,MINA/USDT,CAKE/USDT,CHZ/USDT,PERP/USDT,LRC/USDT,ATA/USDT,CLV/USDT,WAVES/USDT,LTC/USDT,ENJ/USDT,EOS/USDT,UNI/USDT,THETA/USDT,CHR/USDT,EPS/USDT,RUNE/USDT,NEAR/USDT,SXP/USDT,SUSHI/USDT,SLP/USDT,TRX/USDT,CRV/USDT,FLOW/USDT,MANA/USDT,BCH/USDT,YFII/USDT,SHIB/USDT,COMP/USDT,ALPHA/USDT,AUDIO/USDT,ROSE/USDT,ALGO/USDT,AAVE/USDT,BAKE/USDT,COTI/USDT,CTK/USDT,DENT/USDT,XLM/USDT,GRT/USDT,OMG/USDT,ARPA/USDT,MASK/USDT,LTO/USDT,WIN/USDT,SKL/USDT,NEO/USDT,DGB/USDT,BTT/USDT,XMR/USDT,TVK/USDT,TFUEL/USDT,DASH/USDT,RVN/USDT,HOT/USDT,DEGO/USDT,FARM/USDT,GNO/USDT,ORN/USDT,FET/USDT,FUN/USDT,TKO/USDT,IOST/USDT,ZIL/USDT,CELR/USDT,ONT/USDT,LINA/USDT,INJ/USDT,SNX/USDT,REEF/USDT,1INCH/USDT,RSR/USDT,HBAR/USDT,DEXE/USDT,IOTX/USDT,IOTA/USDT,SC/USDT,BADGER/USDT,RLC/USDT,NU/USDT,WAXP/USDT,ZEC/USDT,HNT/USDT,UNFI/USDT,DODO/USDT,PAX/USDT,GTC/USDT,QTUM/USDT,WRX/USDT,ONG/USDT,ZEN/USDT,XVS/USDT,YFI/USDT,ANKR/USDT,PSG/USDT,CTSI/USDT,TROY/USDT,STMX/USDT,ICX/USDT,SFP/USDT,TRU/USDT,MIR/USDT,NANO/USDT,POND/USDT,FLM/USDT,TUSD/USDT,DNT/USDT,BAND/USDT,HARD/USDT,TWT/USDT,MKR/USDT,TRB/USDT,KEEP/USDT,OCEAN/USDT,FIS/USDT,BAT/USDT,TRIBE/USDT,REN/USDT,DIA/USDT,BNT/USDT,KEY/USDT,NKN/USDT,BURGER/USDT,XEM/USDT,ZRX/USDT,LIT/USDT,STORJ/USDT,WTC/USDT,MDX/USDT,BAL/USDT,AVA/USDT,PHA/USDT,DATA/USDT,QNT/USDT,CVC/USDT,TOMO/USDT,UTK/USDT,ALPACA/USDT,XVG/USDT,ERN/USDT,MTL/USDT,SUN/USDT,COS/USDT,LPT/USDT,OXT/USDT,FOR/USDT,AKRO/USDT,KMD/USDT,CFX/USDT,BLZ/USDT,DOCK/USDT,STX/USDT,POLS/USDT,FIO/USDT,REQ/USDT,KNC/USDT,KLAY/USDT,GXS/USDT,BTS/USDT,VTHO/USDT,BEL/USDT,LSK/USDT,FORTH/USDT,MLN/USDT,BZRX/USDT,VITE/USDT,REP/USDT,CKB/USDT,BTCST/USDT,MDT/USDT,OM/USDT,GHST/USDT,NMR/USDT,PERL/USDT,BTG/USDT,AUTO/USDT,NULS/USDT,UMA/USDT,MITH/USDT,PNT/USDT,WING/USDT,MFT/USDT,TORN/USDT,PAXG/USDT,JST/USDT,GTO/USDT,AION/USDT,COCOS/USDT,FIRO/USDT,RAMP/USDT,ATM/USDT,STRAX/USDT,DCR/USDT,DUSK/USDT,PUNDIX/USDT,CTXC/USDT,DREP/USDT,QUICK/USDT,BEAM/USDT,HIVE/USDT,IRIS/USDT,WNXM/USDT,JUV/USDT,ANT/USDT,BOND/USDT,WAN/USDT,BAR/USDT,MBL/USDT,ARDR/USDT,NBS/USDT,STPT/USDT,TCT/USDT,ASR/USDT,OG/USDT,ACM/USDT,RIF/USDT,SUSD/USDT'"
   ]
  },
  {
   "cell_type": "code",
   "execution_count": 226,
   "id": "b4798a21",
   "metadata": {},
   "outputs": [],
   "source": [
    "whitelist = 'BTC/USDT, ETH/USDT, AXS/USDT, SOL/USDT, MATIC/USDT, ADA/USDT, BNB/USDT, FIL/USDT, XRP/USDT, CVC/USDT, FTM/USDT, ICP/USDT, DOGE/USDT, XEC/USDT, IOTA/USDT, AVAX/USDT, DOT/USDT, LTC/USDT, EOS/USDT, IOST/USDT, STMX/USDT, FTT/USDT, TWT/USDT, ALICE/USDT, ATA/USDT, ETC/USDT, VET/USDT, SAND/USDT, LINK/USDT, THETA/USDT, SHIB/USDT, CHZ/USDT, LUNA/USDT, IOTX/USDT, TRX/USDT, TLM/USDT, BCH/USDT, REEF/USDT, CAKE/USDT, NEO/USDT, SLP/USDT, RVN/USDT, ATOM/USDT, SUSHI/USDT, ARDR/USDT, OMG/USDT, GRT/USDT, 1INCH/USDT, AAVE/USDT, C98/USDT, UNI/USDT, HBAR/USDT, CRV/USDT, DENT/USDT, MBOX/USDT, BTT/USDT, SRM/USDT, YFI/USDT, HOT/USDT, XLM/USDT, FIS/USDT, REQ/USDT, SXP/USDT, KSM/USDT, QNT/USDT, NEAR/USDT, COMP/USDT, QTUM/USDT, CHR/USDT, SC/USDT, XVS/USDT, ONT/USDT, COTI/USDT, NKN/USDT, RUNE/USDT, ANKR/USDT, MANA/USDT, CTXC/USDT, AR/USDT, RAY/USDT, BAKE/USDT, ARPA/USDT, XTZ/USDT, ZIL/USDT, ONG/USDT, ROSE/USDT, PNT/USDT, ALGO/USDT, MINA/USDT, WIN/USDT, AUDIO/USDT, STORJ/USDT, EPS/USDT, MDX/USDT, ZEC/USDT, ENJ/USDT, HIVE/USDT, TFUEL/USDT, WRX/USDT, SNX/USDT, SKL/USDT, LINA/USDT, DODO/USDT, UNFI/USDT, XEM/USDT, EGLD/USDT, ICX/USDT, WAVES/USDT, ONE/USDT, DASH/USDT, KAVA/USDT, SUPER/USDT, TKO/USDT, OGN/USDT, XMR/USDT, OCEAN/USDT, CELO/USDT, BAT/USDT, FUN/USDT, LRC/USDT, ALPHA/USDT, MASK/USDT, TRU/USDT, DNT/USDT, LIT/USDT, FET/USDT, GTC/USDT, CELR/USDT, DEXE/USDT, ZEN/USDT, WAXP/USDT, CTSI/USDT, HNT/USDT, YFII/USDT, BEL/USDT, ZRX/USDT, DEGO/USDT, RSR/USDT, COS/USDT, FLM/USDT, BAL/USDT, MFT/USDT, RLC/USDT, KNC/USDT, REN/USDT, INJ/USDT, FLOW/USDT, SFP/USDT, BAND/USDT, CTK/USDT, SUN/USDT, AKRO/USDT, XVG/USDT, NANO/USDT, STRAX/USDT, PUNDIX/USDT, TVK/USDT, MKR/USDT, CLV/USDT, TRB/USDT, ETHUP/USDT, KEEP/USDT, TCT/USDT, POND/USDT, LTO/USDT, ANT/USDT, TOMO/USDT, ACM/USDT, FIO/USDT, VITE/USDT, MBL/USDT, JST/USDT, MTL/USDT, UTK/USDT, BLZ/USDT, ORN/USDT, STPT/USDT, CFX/USDT, OM/USDT, PERP/USDT, MIR/USDT, STX/USDT, ERN/USDT, TUSD/USDT, PSG/USDT, NULS/USDT, OXT/USDT, REP/USDT, BNBUP/USDT, DATA/USDT, WAN/USDT, BURGER/USDT, RAMP/USDT, ATM/USDT, DGB/USDT, DIA/USDT, BEAM/USDT, UMA/USDT, ETHDOWN/USDT, CKB/USDT, TRIBE/USDT, FARM/USDT, BTCUP/USDT, BZRX/USDT, ALPACA/USDT, DOTUP/USDT, BTS/USDT, FOR/USDT, ADAUP/USDT, HARD/USDT, LSK/USDT, POLS/USDT, FORTH/USDT, TORN/USDT, VTHO/USDT, BTG/USDT, QUICK/USDT, FILUP/USDT, PAX/USDT, MITH/USDT, SUSHIUP/USDT, BTCDOWN/USDT, XRPDOWN/USDT, BNBDOWN/USDT, DUSK/USDT, XRPUP/USDT, WTC/USDT, DOCK/USDT, AUTO/USDT, BTCST/USDT, KLAY/USDT, WNXM/USDT, KEY/USDT, FILDOWN/USDT, NU/USDT, IRIS/USDT, KMD/USDT, TROY/USDT, WING/USDT, AION/USDT, PHA/USDT, SUSHIDOWN/USDT, EOSUP/USDT, LTCUP/USDT, GHST/USDT, PAXG/USDT, BNT/USDT, AVA/USDT, BADGER/USDT, PERL/USDT, COCOS/USDT, GXS/USDT, MDT/USDT, 1INCHUP/USDT, GTO/USDT, LINKUP/USDT, AAVEUP/USDT, FIRO/USDT, JUV/USDT, MLN/USDT, UNIUP/USDT, LPT/USDT, NMR/USDT, AAVEDOWN/USDT, 1INCHDOWN/USDT, ASR/USDT, OG/USDT, BAR/USDT, DREP/USDT, ADADOWN/USDT, BOND/USDT, DCR/USDT, DOTDOWN/USDT, GNO/USDT, NBS/USDT, SXPUP/USDT, EOSDOWN/USDT, YFIUP/USDT, RIF/USDT, LTCDOWN/USDT, XLMUP/USDT, YFIDOWN/USDT, LINKDOWN/USDT, TRXUP/USDT, BCHUP/USDT, XTZUP/USDT, SXPDOWN/USDT, UNIDOWN/USDT, XTZDOWN/USDT, BCHDOWN/USDT, TRXDOWN/USDT, XLMDOWN/USDT, SUSD/USDT'"
   ]
  },
  {
   "cell_type": "code",
   "execution_count": 227,
   "id": "5e1e6ea2",
   "metadata": {},
   "outputs": [
    {
     "data": {
      "text/plain": [
       "array(['BTCUSDT', 'ETHUSDT', 'AXSUSDT', 'SOLUSDT', 'MATICUSDT', 'ADAUSDT',\n",
       "       'BNBUSDT', 'FILUSDT', 'XRPUSDT', 'CVCUSDT', 'FTMUSDT', 'ICPUSDT',\n",
       "       'DOGEUSDT', 'XECUSDT', 'IOTAUSDT', 'AVAXUSDT', 'DOTUSDT',\n",
       "       'LTCUSDT', 'EOSUSDT', 'IOSTUSDT', 'STMXUSDT', 'FTTUSDT', 'TWTUSDT',\n",
       "       'ALICEUSDT', 'ATAUSDT', 'ETCUSDT', 'VETUSDT', 'SANDUSDT',\n",
       "       'LINKUSDT', 'THETAUSDT', 'SHIBUSDT', 'CHZUSDT', 'LUNAUSDT',\n",
       "       'IOTXUSDT', 'TRXUSDT', 'TLMUSDT', 'BCHUSDT', 'REEFUSDT',\n",
       "       'CAKEUSDT', 'NEOUSDT', 'SLPUSDT', 'RVNUSDT', 'ATOMUSDT',\n",
       "       'SUSHIUSDT', 'ARDRUSDT', 'OMGUSDT', 'GRTUSDT', '1INCHUSDT',\n",
       "       'AAVEUSDT', 'C98USDT', 'UNIUSDT', 'HBARUSDT', 'CRVUSDT',\n",
       "       'DENTUSDT', 'MBOXUSDT', 'BTTUSDT', 'SRMUSDT', 'YFIUSDT', 'HOTUSDT',\n",
       "       'XLMUSDT', 'FISUSDT', 'REQUSDT', 'SXPUSDT', 'KSMUSDT', 'QNTUSDT',\n",
       "       'NEARUSDT', 'COMPUSDT', 'QTUMUSDT', 'CHRUSDT', 'SCUSDT', 'XVSUSDT',\n",
       "       'ONTUSDT', 'COTIUSDT', 'NKNUSDT', 'RUNEUSDT', 'ANKRUSDT',\n",
       "       'MANAUSDT', 'CTXCUSDT', 'ARUSDT', 'RAYUSDT', 'BAKEUSDT',\n",
       "       'ARPAUSDT', 'XTZUSDT', 'ZILUSDT', 'ONGUSDT', 'ROSEUSDT', 'PNTUSDT',\n",
       "       'ALGOUSDT', 'MINAUSDT', 'WINUSDT', 'AUDIOUSDT', 'STORJUSDT',\n",
       "       'EPSUSDT', 'MDXUSDT', 'ZECUSDT', 'ENJUSDT', 'HIVEUSDT',\n",
       "       'TFUELUSDT', 'WRXUSDT', 'SNXUSDT', 'SKLUSDT', 'LINAUSDT',\n",
       "       'DODOUSDT', 'UNFIUSDT', 'XEMUSDT', 'EGLDUSDT', 'ICXUSDT',\n",
       "       'WAVESUSDT', 'ONEUSDT', 'DASHUSDT', 'KAVAUSDT', 'TKOUSDT',\n",
       "       'OGNUSDT', 'XMRUSDT', 'OCEANUSDT', 'CELOUSDT', 'BATUSDT',\n",
       "       'FUNUSDT', 'LRCUSDT', 'ALPHAUSDT', 'MASKUSDT', 'TRUUSDT',\n",
       "       'DNTUSDT', 'LITUSDT', 'FETUSDT', 'GTCUSDT', 'CELRUSDT', 'DEXEUSDT',\n",
       "       'ZENUSDT', 'WAXPUSDT', 'CTSIUSDT', 'HNTUSDT', 'YFIIUSDT',\n",
       "       'BELUSDT', 'ZRXUSDT', 'DEGOUSDT', 'RSRUSDT', 'COSUSDT', 'FLMUSDT',\n",
       "       'BALUSDT', 'MFTUSDT', 'RLCUSDT', 'KNCUSDT', 'RENUSDT', 'INJUSDT',\n",
       "       'FLOWUSDT', 'SFPUSDT', 'BANDUSDT', 'CTKUSDT', 'SUNUSDT',\n",
       "       'AKROUSDT', 'XVGUSDT', 'NANOUSDT', 'STRAXUSDT', 'PUNDIXUSDT',\n",
       "       'TVKUSDT', 'MKRUSDT', 'CLVUSDT', 'TRBUSDT', 'KEEPUSDT', 'TCTUSDT',\n",
       "       'PONDUSDT', 'LTOUSDT', 'ANTUSDT', 'TOMOUSDT', 'ACMUSDT', 'FIOUSDT',\n",
       "       'VITEUSDT', 'MBLUSDT', 'JSTUSDT', 'MTLUSDT', 'UTKUSDT', 'BLZUSDT',\n",
       "       'ORNUSDT', 'STPTUSDT', 'CFXUSDT', 'OMUSDT', 'PERPUSDT', 'MIRUSDT',\n",
       "       'STXUSDT', 'ERNUSDT', 'TUSDUSDT', 'PSGUSDT', 'NULSUSDT', 'OXTUSDT',\n",
       "       'REPUSDT', 'DATAUSDT', 'WANUSDT', 'BURGERUSDT', 'RAMPUSDT',\n",
       "       'ATMUSDT', 'DGBUSDT', 'DIAUSDT', 'BEAMUSDT', 'UMAUSDT', 'CKBUSDT',\n",
       "       'TRIBEUSDT', 'FARMUSDT', 'BZRXUSDT', 'ALPACAUSDT', 'BTSUSDT',\n",
       "       'FORUSDT', 'HARDUSDT', 'LSKUSDT', 'POLSUSDT', 'FORTHUSDT',\n",
       "       'TORNUSDT', 'VTHOUSDT', 'BTGUSDT', 'QUICKUSDT', 'PAXUSDT',\n",
       "       'MITHUSDT', 'DUSKUSDT', 'WTCUSDT', 'DOCKUSDT', 'AUTOUSDT',\n",
       "       'BTCSTUSDT', 'KLAYUSDT', 'WNXMUSDT', 'KEYUSDT', 'NUUSDT',\n",
       "       'IRISUSDT', 'KMDUSDT', 'TROYUSDT', 'WINGUSDT', 'AIONUSDT',\n",
       "       'PHAUSDT', 'GHSTUSDT', 'PAXGUSDT', 'BNTUSDT', 'AVAUSDT',\n",
       "       'BADGERUSDT', 'PERLUSDT', 'COCOSUSDT', 'GXSUSDT', 'MDTUSDT',\n",
       "       'GTOUSDT', 'FIROUSDT', 'JUVUSDT', 'MLNUSDT', 'LPTUSDT', 'NMRUSDT',\n",
       "       'ASRUSDT', 'OGUSDT', 'BARUSDT', 'DREPUSDT', 'BONDUSDT', 'DCRUSDT',\n",
       "       'GNOUSDT', 'NBSUSDT', 'RIFUSDT', 'SUSDUSDT'], dtype='<U10')"
      ]
     },
     "execution_count": 227,
     "metadata": {},
     "output_type": "execute_result"
    }
   ],
   "source": [
    "whitelist=whitelist.lstrip()\n",
    "array = whitelist.split(\",\")\n",
    "array\n",
    "wl = []\n",
    "bl = []\n",
    "blacklist = \"\"\n",
    "whitelist = \"\"\n",
    "symbols =[]\n",
    "for i in range(0 ,len(array)):\n",
    "    if (array[i].find('DOWN') != -1):\n",
    "        bl.append(str(array[i]).lstrip())\n",
    "        #print (\"Contains given substring \")\n",
    "        blacklist += str(array[i])\n",
    "    elif (array[i].find('UP') != -1):\n",
    "        bl.append(str(array[i]).lstrip())\n",
    "        #print (\"Contains given substring \")\n",
    "        blacklist += str(array[i])\n",
    "\n",
    "    else:\n",
    "        wl.append(str(array[i]).lstrip().replace(\"/\",\"\"))\n",
    "        whitelist +=str(array[i]).lstrip()\n",
    "        #print (\"Doesn't contains given substring\")\n",
    "    \n",
    "#for i in range (0,len(wl)):\n",
    "    #print(f'\\\"{wl[i]}\\\"\\n,')\n",
    "    \n",
    "#for i in range (0,len(bl)):\n",
    "    #print(f'\\\"{bl[i]}\\\",')\n",
    "    \n",
    "#for b in range (0,len(wl)):\n",
    "    #symbols = array[b].split(\"/\")\n",
    "    #print(f'\\\"{symbols[b]}\\\",')\n",
    "    \n",
    "#for i in range (0,len(wl)):   \n",
    "        #symbols[i]=wl[i].replace(\"/\",\"\")\n",
    "    \n",
    "#symbols to be used to get the prices from binance url\n",
    "symbols = np.array(wl)\n",
    "\n",
    "#for b in range(0,len(symbols)):\n",
    "#     print(f'\\\"{symbols[b]}\\n\\\",')\n",
    "        \n",
    "# whitelist can be used for the bot whitelist\n",
    "whitelist\n",
    "symbols"
   ]
  },
  {
   "cell_type": "code",
   "execution_count": 228,
   "id": "e40e9fa5",
   "metadata": {
    "scrolled": true
   },
   "outputs": [
    {
     "name": "stdout",
     "output_type": "stream",
     "text": [
      "https://api.binance.com/api/v1/klines?symbol=STEEMETH&interval=1d\n"
     ]
    }
   ],
   "source": [
    "## get the data \n",
    "import os\n",
    "\n",
    "live = pd.to_datetime('today')\n",
    "start = pd.to_datetime('2021-02-01')\n",
    "end = pd.to_datetime('2021-10-01')\n",
    "\n",
    "root_url = 'https://api.binance.com/api/v1/klines'\n",
    "symbol = 'STEEMETH'\n",
    "interval = '1d'\n",
    "url = root_url + '?symbol=' + symbol + '&interval=' + interval\n",
    "print(url)\n",
    "\n",
    "\n",
    "directory = 'BN-main'\n",
    "table = []\n",
    "   \n",
    "        \n",
    "        \n",
    "        #now = df.close[df.close.idxmax()]\n",
    "#get the live price \n",
    "        #array = filename.split(\"/\")\n",
    "        #symbol =array[0]+'USDT'\n",
    "for symbol in symbols:\n",
    "        url = root_url + '?symbol=' + symbol + '&interval=' + interval\n",
    "        data = json.loads(requests.get(url).text)\n",
    "        dflive = pd.DataFrame(data ,columns =['open_time',\n",
    "              'o', 'h', 'l', 'c', 'v',\n",
    "              'close_time', 'qav', 'num_trades',\n",
    "              'taker_base_vol', 'taker_quote_vol', 'ignore'])\n",
    "        dflive.open_time = pd.to_datetime(dflive['open_time'],unit='ms')\n",
    "        dflive=dflive.loc[(dflive.open_time>start)]\n",
    "        lastrow = dflive.iloc[-1]\n",
    "        now= float(lastrow.c)\n",
    "        alth = dflive.h.max()\n",
    "        altl = dflive.l.min()\n",
    "        \n",
    "        ## past 1 month \n",
    "        past_month = end - relativedelta(months=1)\n",
    "        \n",
    "        back1Mdata = dflive.loc[(dflive.open_time> past_month)]\n",
    "        omh = back1Mdata.h.max()\n",
    "        oml = back1Mdata.l.min()\n",
    "        ## past 2 month\n",
    "        \n",
    "        past_2month = end - relativedelta(months=2)\n",
    "        back2Mdata = dflive.loc[(dflive.open_time> past_2month)]\n",
    "        tmh = back2Mdata.h.max()\n",
    "        tml = back2Mdata.l.min()\n",
    "        ## past 3 month \n",
    "        \n",
    "        past_3month = end - relativedelta(months=3)\n",
    "        back3Mdata = dflive.loc[(dflive.open_time> past_3month)]\n",
    "        thmh = back3Mdata.h.max()\n",
    "        thml = back3Mdata.l.min()\n",
    "        \n",
    " \n",
    "        tuple =(symbol,alth,altl,now,omh,oml,tmh,tml,thmh,thml)\n",
    "        table.append(tuple)\n",
    "        #print(\"name is: \",array[0] ,alth,altl)\n",
    "        \n",
    "\n",
    "table[0]\n",
    "AllTime = pd.DataFrame(table,columns=['Indicator','ATH','ATL','Current','OMH','OML','TMH','TML','THMH','THML'])\n",
    "AllTime.ATH=AllTime.ATH.astype(float)\n",
    "AllTime.ATL=AllTime.ATL.astype(float)\n",
    "AllTime.Current=AllTime.Current.astype(float)\n",
    "AllTime.OMH=AllTime.OMH.astype(float)\n",
    "AllTime.OML=AllTime.OML.astype(float)\n",
    "AllTime.TMH=AllTime.TMH.astype(float)\n",
    "AllTime.TML=AllTime.TML.astype(float)\n",
    "AllTime.THMH=AllTime.THMH.astype(float)\n",
    "AllTime.THML=AllTime.THML.astype(float)\n",
    "AllTime.dtypes\n",
    "\n",
    "AllTime['ALLTIME']=(AllTime['Current']/AllTime['ATH'])*100\n",
    "AllTime['MONTH']=(AllTime['Current']/AllTime['OMH'])*100\n",
    "AllTime['2MONTH']=(AllTime['Current']/AllTime['TMH'])*100\n",
    "AllTime['3MONTH']=(AllTime['Current']/AllTime['THMH'])*100\n",
    "AllTime.sort_values(by=['ALLTIME'],ascending=True,inplace = True)\n",
    "#AllTime.sort_values(by='ATH',ascending=False)\n",
    "#AllTime.to_csv(\"alltimeHL.csv\", mode=\"w\")\n",
    "#data.sort_values(\"Name\", axis = 0, ascending = True,inplace = True, na_position ='last')\n"
   ]
  },
  {
   "cell_type": "code",
   "execution_count": 229,
   "id": "a88ea65c",
   "metadata": {},
   "outputs": [
    {
     "data": {
      "text/plain": [
       "(252, 14)"
      ]
     },
     "execution_count": 229,
     "metadata": {},
     "output_type": "execute_result"
    }
   ],
   "source": [
    "AllTime.shape"
   ]
  },
  {
   "cell_type": "code",
   "execution_count": 230,
   "id": "3e3dd083",
   "metadata": {},
   "outputs": [
    {
     "name": "stdout",
     "output_type": "stream",
     "text": [
      "      Indicator     ALLTIME      MONTH     2MONTH     3MONTH      Current\n",
      "40      SLPUSDT   16.548964  46.991979  30.236559  17.146341     0.070300\n",
      "155     TVKUSDT   37.727273  49.404762  37.727273  37.727273     0.207500\n",
      "61      REQUSDT   43.732908  50.767196  43.732908  43.732908     0.191900\n",
      "92      EPSUSDT    6.140040  54.450262  44.692737  44.692737     0.520000\n",
      "60      FISUSDT   32.706967  56.121660  39.303127  39.303127     1.596100\n",
      "101    LINAUSDT    3.855000  57.874193  55.708092  55.708092     0.038550\n",
      "62      SXPUSDT   40.817717  58.596234  52.314410  52.314410     2.396000\n",
      "35      TLMUSDT    3.549580  58.977939  50.952955  50.952955     0.211200\n",
      "80     BAKEUSDT   21.538824  59.158576  55.494839  55.494839     1.828000\n",
      "216   BTCSTUSDT   16.571429  59.183673  58.000000  58.000000    16.240000\n",
      "146     SFPUSDT   22.503371  59.607143  56.486913  56.486913     1.001400\n",
      "148     CTKUSDT   45.378956  60.033333  58.379254  58.379254     1.801000\n",
      "89      WINUSDT   14.717172  61.030438  52.290944  52.290944     0.000437\n",
      "149     SUNUSDT    0.049395  61.111111  50.439828  50.439828     0.026950\n",
      "102    DODOUSDT   15.474286  61.545455  56.866863  56.866863     1.354000\n",
      "157     CLVUSDT   46.438632  61.579509  53.008728  46.438632     1.154000\n",
      "245    DREPUSDT   11.731368  61.827133  57.196356  57.196356     0.565100\n",
      "236     GTOUSDT   22.998987  62.085470  53.130486  53.130486     0.036320\n",
      "54     MBOXUSDT   54.305373  62.334495  54.305373  54.305373     5.367000\n",
      "123     LITUSDT   35.891015  62.530541  59.916388  59.916388     3.583000\n",
      "117     FUNUSDT   27.266769  62.671577  48.878561  48.878561     0.018720\n",
      "136     RSRUSDT   28.554622  62.925926  55.704918  55.704918     0.033980\n",
      "24      ATAUSDT   22.946667  64.537500  51.118812  51.118812     1.032600\n",
      "53     DENTUSDT   21.202643  64.795369  54.078652  54.078652     0.004813\n",
      "111     TKOUSDT   38.336673  64.847458  55.225173  55.225173     1.913000\n",
      "151     XVGUSDT   26.437500  64.897208  55.908010  55.908010     0.021150\n",
      "130    CTSIUSDT   35.691429  65.062500  49.181102  49.181102     0.624600\n",
      "188  BURGERUSDT   38.294492  65.135135  55.873261  55.873261     3.615000\n",
      "197    FARMUSDT   18.823038  65.719490  18.823038  18.823038   180.400000\n",
      "199  ALPACAUSDT   49.650545  65.777778  49.650545  49.650545     0.888000\n",
      "203     LSKUSDT   32.562839  65.810526  57.428398  57.428398     3.126000\n",
      "205   FORTHUSDT   22.254237  66.313131  55.872340  55.400844    13.130000\n",
      "145    FLOWUSDT   51.474305  67.020110  62.989691  51.474305    18.330000\n",
      "171     UTKUSDT   34.441315  67.315104  51.107705  51.107705     0.366800\n",
      "121     TRUUSDT   45.735849  67.333333  45.735849  45.735849     0.484800\n",
      "209   QUICKUSDT   48.393258  67.507837  48.393258  48.393258   430.700000\n",
      "244     BARUSDT   22.628726  67.886179  56.822048  56.822048    16.700000\n",
      "196   TRIBEUSDT   55.900000  68.057554  55.900000  55.900000     0.614900\n",
      "129    WAXPUSDT   42.352941  68.210526  42.352941  42.352941     0.259200\n",
      "49      C98USDT   56.307215  68.471698  56.307215  56.307215     3.629000\n",
      "84      ONGUSDT   36.551515  69.198554  56.102326  56.102326     1.206200\n",
      "170     MTLUSDT   37.352025  69.248677  59.490909  59.490909     3.272000\n",
      "217    KLAYUSDT   59.902015  69.888038  59.902015  59.902015     1.186000\n",
      "132    YFIIUSDT   53.970066  70.330579  53.970066  53.970066  4255.000000\n",
      "33     IOTXUSDT   43.122875  70.928830  43.122875  43.122875     0.064680\n",
      "118     LRCUSDT   42.890110  70.963636  51.729622  51.729622     0.390300\n",
      "90    AUDIOUSDT   46.212425  71.703980  56.658477  56.658477     2.306000\n",
      "182     PSGUSDT  256.944444  72.779867  40.886635  40.886635    25.160000\n",
      "207    VTHOUSDT   33.838596  72.839879  56.180823  56.180823     0.009644\n",
      "127    DEXEUSDT   41.303030  76.573034  59.988557  41.303030    13.630000\n",
      "210     PAXUSDT    0.100060  99.979996  84.007059   0.100060     0.999600\n",
      "Empty DataFrame\n",
      "Columns: [Indicator, ALLTIME, MONTH, 2MONTH, 3MONTH, Current]\n",
      "Index: []\n",
      "Empty DataFrame\n",
      "Columns: [Indicator, ALLTIME, MONTH, 2MONTH, 3MONTH, Current]\n",
      "Index: []\n"
     ]
    },
    {
     "name": "stderr",
     "output_type": "stream",
     "text": [
      "/Users/hjabbour/opt/anaconda3/envs/ML/lib/python3.7/site-packages/ipykernel_launcher.py:2: SettingWithCopyWarning: \n",
      "A value is trying to be set on a copy of a slice from a DataFrame\n",
      "\n",
      "See the caveats in the documentation: https://pandas.pydata.org/pandas-docs/stable/user_guide/indexing.html#returning-a-view-versus-a-copy\n",
      "  \n"
     ]
    }
   ],
   "source": [
    "drop = AllTime.loc[(AllTime['3MONTH']<60)]\n",
    "sort = drop.sort_values(by=['MONTH'],ascending=True,inplace = True)\n",
    "drop = drop.loc[(drop['2MONTH'] < drop['MONTH'])]\n",
    "display = drop[['Indicator','ALLTIME','MONTH','2MONTH','3MONTH','Current']]\n",
    "\n",
    "print(display.iloc[0:60,0:14])\n",
    "print(display.iloc[60:110,])\n",
    "print(display.iloc[110:160,])"
   ]
  },
  {
   "cell_type": "code",
   "execution_count": 153,
   "id": "16c84b3d",
   "metadata": {},
   "outputs": [],
   "source": [
    "AllTime.to_csv(\"alltimeHLJul-Spe.csv\", mode=\"w\")"
   ]
  },
  {
   "cell_type": "code",
   "execution_count": 115,
   "id": "e3711092",
   "metadata": {},
   "outputs": [],
   "source": [
    "drop.to_csv(\"dropJul-Sep.csv\",mode =\"w\")"
   ]
  },
  {
   "cell_type": "code",
   "execution_count": null,
   "id": "4d5120e8",
   "metadata": {},
   "outputs": [],
   "source": []
  }
 ],
 "metadata": {
  "kernelspec": {
   "display_name": "Python 3",
   "language": "python",
   "name": "python3"
  },
  "language_info": {
   "codemirror_mode": {
    "name": "ipython",
    "version": 3
   },
   "file_extension": ".py",
   "mimetype": "text/x-python",
   "name": "python",
   "nbconvert_exporter": "python",
   "pygments_lexer": "ipython3",
   "version": "3.7.10"
  }
 },
 "nbformat": 4,
 "nbformat_minor": 5
}
