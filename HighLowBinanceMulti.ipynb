{
 "cells": [
  {
   "cell_type": "code",
   "execution_count": 1,
   "id": "d3661386",
   "metadata": {},
   "outputs": [],
   "source": [
    "import numpy as np \n",
    "import pandas as pd \n",
    "from datetime import date\n",
    "#Data Source (Pandas Data Reader)\n",
    "from pandas_datareader import data\n",
    "import requests \n",
    "import json\n",
    "from dateutil.relativedelta import relativedelta\n",
    "\n",
    "\n",
    "#Data Source(Pandas Data Reader)\n"
   ]
  },
  {
   "cell_type": "code",
   "execution_count": 2,
   "id": "b4798a21",
   "metadata": {},
   "outputs": [],
   "source": [
    "whitelist = 'GALA/USDT, WAXP/USDT, HIVE/USDT, ONE/USDT, BAT/USDT, VIDT/USDT, MIR/USDT, IRIS/USDT, SHIB/USDT, LINK/USDT, DOT/USDT, MATIC/USDT, ZRX/USDT, BTC/USDT, ETH/USDT, AXS/USDT, SOL/USDT, MATIC/USDT, ADA/USDT, BNB/USDT, FIL/USDT, XRP/USDT, CVC/USDT, FTM/USDT, ICP/USDT, DOGE/USDT, XEC/USDT, IOTA/USDT, AVAX/USDT, DOT/USDT, LTC/USDT, EOS/USDT, IOST/USDT, STMX/USDT, FTT/USDT, TWT/USDT, ALICE/USDT, ATA/USDT, ETC/USDT, VET/USDT, SAND/USDT, LINK/USDT, THETA/USDT, SHIB/USDT, CHZ/USDT, LUNA/USDT, IOTX/USDT, TRX/USDT, TLM/USDT, BCH/USDT, REEF/USDT, CAKE/USDT, NEO/USDT, SLP/USDT, RVN/USDT, ATOM/USDT, SUSHI/USDT, ARDR/USDT, OMG/USDT, GRT/USDT, 1INCH/USDT, AAVE/USDT, C98/USDT, UNI/USDT, HBAR/USDT, CRV/USDT, DENT/USDT, MBOX/USDT, BTT/USDT, SRM/USDT, YFI/USDT, HOT/USDT, XLM/USDT, FIS/USDT, REQ/USDT, SXP/USDT, KSM/USDT, QNT/USDT, NEAR/USDT, COMP/USDT, QTUM/USDT, CHR/USDT, SC/USDT, XVS/USDT, ONT/USDT, COTI/USDT, NKN/USDT, RUNE/USDT, ANKR/USDT, MANA/USDT, CTXC/USDT, AR/USDT, RAY/USDT, BAKE/USDT, ARPA/USDT, XTZ/USDT, ZIL/USDT, ONG/USDT, ROSE/USDT, PNT/USDT, ALGO/USDT, MINA/USDT, WIN/USDT, AUDIO/USDT, STORJ/USDT, EPS/USDT, MDX/USDT, ZEC/USDT, ENJ/USDT, HIVE/USDT, TFUEL/USDT, WRX/USDT, SNX/USDT, SKL/USDT, LINA/USDT, DODO/USDT, UNFI/USDT, XEM/USDT, EGLD/USDT, ICX/USDT, WAVES/USDT, ONE/USDT, DASH/USDT, KAVA/USDT, SUPER/USDT, TKO/USDT, OGN/USDT, XMR/USDT, OCEAN/USDT, CELO/USDT, BAT/USDT, FUN/USDT, LRC/USDT, ALPHA/USDT, MASK/USDT, TRU/USDT, DNT/USDT, LIT/USDT, FET/USDT, GTC/USDT, CELR/USDT, DEXE/USDT, ZEN/USDT, WAXP/USDT, CTSI/USDT, HNT/USDT, YFII/USDT, BEL/USDT, ZRX/USDT, DEGO/USDT, RSR/USDT, COS/USDT, FLM/USDT, BAL/USDT, MFT/USDT, RLC/USDT, KNC/USDT, REN/USDT, INJ/USDT, FLOW/USDT, SFP/USDT, BAND/USDT, CTK/USDT, SUN/USDT, AKRO/USDT, XVG/USDT, NANO/USDT, STRAX/USDT, PUNDIX/USDT, TVK/USDT, MKR/USDT, CLV/USDT, TRB/USDT, ETHUP/USDT, KEEP/USDT, TCT/USDT, POND/USDT, LTO/USDT, ANT/USDT, TOMO/USDT, ACM/USDT, FIO/USDT, VITE/USDT, MBL/USDT, JST/USDT, MTL/USDT, UTK/USDT, BLZ/USDT, ORN/USDT, STPT/USDT, CFX/USDT, OM/USDT, PERP/USDT, MIR/USDT, STX/USDT, ERN/USDT, TUSD/USDT, PSG/USDT, NULS/USDT, OXT/USDT, REP/USDT, BNBUP/USDT, DATA/USDT, WAN/USDT, BURGER/USDT, RAMP/USDT, ATM/USDT, DGB/USDT, DIA/USDT, BEAM/USDT, UMA/USDT, ETHDOWN/USDT, CKB/USDT, TRIBE/USDT, FARM/USDT, BTCUP/USDT, BZRX/USDT, ALPACA/USDT, DOTUP/USDT, BTS/USDT, FOR/USDT, ADAUP/USDT, HARD/USDT, LSK/USDT, POLS/USDT, FORTH/USDT, TORN/USDT, VTHO/USDT, BTG/USDT, QUICK/USDT, FILUP/USDT, PAX/USDT, MITH/USDT, SUSHIUP/USDT, BTCDOWN/USDT, XRPDOWN/USDT, BNBDOWN/USDT, DUSK/USDT, XRPUP/USDT, WTC/USDT, DOCK/USDT, AUTO/USDT, BTCST/USDT, KLAY/USDT, WNXM/USDT, KEY/USDT, FILDOWN/USDT, NU/USDT, IRIS/USDT, KMD/USDT, TROY/USDT, WING/USDT, AION/USDT, PHA/USDT, SUSHIDOWN/USDT, EOSUP/USDT, LTCUP/USDT, GHST/USDT, PAXG/USDT, BNT/USDT, AVA/USDT, BADGER/USDT, PERL/USDT, COCOS/USDT, GXS/USDT, MDT/USDT, 1INCHUP/USDT, GTO/USDT, LINKUP/USDT, AAVEUP/USDT, FIRO/USDT, JUV/USDT, MLN/USDT, UNIUP/USDT, LPT/USDT, NMR/USDT, AAVEDOWN/USDT, 1INCHDOWN/USDT, ASR/USDT, OG/USDT, BAR/USDT, DREP/USDT, ADADOWN/USDT, BOND/USDT, DCR/USDT, DOTDOWN/USDT, GNO/USDT, NBS/USDT, SXPUP/USDT, EOSDOWN/USDT, YFIUP/USDT, RIF/USDT, LTCDOWN/USDT, XLMUP/USDT, YFIDOWN/USDT, LINKDOWN/USDT, TRXUP/USDT, BCHUP/USDT, XTZUP/USDT, SXPDOWN/USDT, UNIDOWN/USDT, XTZDOWN/USDT, BCHDOWN/USDT, TRXDOWN/USDT, XLMDOWN/USDT, SUSD/USDT'\n",
    "startdate = '2020-02-01'\n",
    "enddate = '2021-10-24'\n",
    "interval = '1d'"
   ]
  },
  {
   "cell_type": "code",
   "execution_count": 3,
   "id": "5e1e6ea2",
   "metadata": {
    "scrolled": false
   },
   "outputs": [
    {
     "name": "stdout",
     "output_type": "stream",
     "text": [
      "https://api.binance.com/api/v1/klines?symbol=STEEMETH&interval=1d\n"
     ]
    },
    {
     "data": {
      "text/plain": [
       "(265, 14)"
      ]
     },
     "execution_count": 3,
     "metadata": {},
     "output_type": "execute_result"
    }
   ],
   "source": [
    "whitelist=whitelist.lstrip()\n",
    "array = whitelist.split(\",\")\n",
    "array\n",
    "wl = []\n",
    "bl = []\n",
    "blacklist = \"\"\n",
    "whitelist = \"\"\n",
    "symbols =[]\n",
    "for i in range(0 ,len(array)):\n",
    "    if (array[i].find('DOWN') != -1):\n",
    "        bl.append(str(array[i]).lstrip())\n",
    "        #print (\"Contains given substring \")\n",
    "        blacklist += str(array[i])\n",
    "    elif (array[i].find('UP') != -1):\n",
    "        bl.append(str(array[i]).lstrip())\n",
    "        #print (\"Contains given substring \")\n",
    "        blacklist += str(array[i])\n",
    "\n",
    "    else:\n",
    "        wl.append(str(array[i]).lstrip().replace(\"/\",\"\"))\n",
    "        whitelist +=str(array[i]).lstrip()\n",
    "        #print (\"Doesn't contains given substring\")\n",
    "    \n",
    "\n",
    "    \n",
    "#symbols to be used to get the prices from binance url\n",
    "symbols = np.array(wl)\n",
    "\n",
    "\n",
    "## get the data \n",
    "import os\n",
    "\n",
    "live = pd.to_datetime('today')\n",
    "start = pd.to_datetime(startdate)\n",
    "end = pd.to_datetime(enddate)\n",
    "\n",
    "root_url = 'https://api.binance.com/api/v1/klines'\n",
    "symbol = 'STEEMETH'\n",
    "#interval = '1d'\n",
    "url = root_url + '?symbol=' + symbol + '&interval=' + interval\n",
    "print(url)\n",
    "\n",
    "\n",
    "directory = 'BN-main'\n",
    "table = []\n",
    "   \n",
    "        \n",
    "        \n",
    "\n",
    "for symbol in symbols:\n",
    "        url = root_url + '?symbol=' + symbol + '&interval=' + interval\n",
    "        data = json.loads(requests.get(url).text)\n",
    "        dflive = pd.DataFrame(data ,columns =['open_time',\n",
    "              'o', 'h', 'l', 'c', 'v',\n",
    "              'close_time', 'qav', 'num_trades',\n",
    "              'taker_base_vol', 'taker_quote_vol', 'ignore'])\n",
    "        dflive.open_time = pd.to_datetime(dflive['open_time'],unit='ms')\n",
    "        dflive=dflive.loc[(dflive.open_time>start)]\n",
    "        lastrow = dflive.iloc[-1]\n",
    "        now= float(lastrow.c)\n",
    "        alth = dflive.c.max()\n",
    "        altl = dflive.l.min()\n",
    "        \n",
    "        ## past 1 month \n",
    "        past_month = end - relativedelta(months=1)\n",
    "        \n",
    "        back1Mdata = dflive.loc[(dflive.open_time> past_month)]\n",
    "        omh = back1Mdata.h.max()\n",
    "        oml = back1Mdata.l.min()\n",
    "        ## past 2 month\n",
    "        \n",
    "        past_2month = end - relativedelta(months=2)\n",
    "        back2Mdata = dflive.loc[(dflive.open_time > past_2month)&(dflive.open_time < past_month)]\n",
    "        tmh = back2Mdata.h.max()\n",
    "        tml = back2Mdata.l.min()\n",
    "        ## past 3 month \n",
    "        \n",
    "        past_3month = end - relativedelta(months=3)\n",
    "        back3Mdata = dflive.loc[(dflive.open_time> past_3month)&(dflive.open_time < past_2month)]\n",
    "        thmh = back3Mdata.h.max()\n",
    "        thml = back3Mdata.l.min()\n",
    "        \n",
    " \n",
    "        tuple =(symbol,alth,altl,now,omh,oml,tmh,tml,thmh,thml)\n",
    "        table.append(tuple)\n",
    "        #print(\"name is: \",array[0] ,alth,altl)\n",
    "        \n",
    "\n",
    "table[0]\n",
    "AllTime = pd.DataFrame(table,columns=['Indicator','ATH','ATL','Current','OMH','OML','TMH','TML','THMH','THML'])\n",
    "AllTime.ATH=AllTime.ATH.astype(float)\n",
    "AllTime.ATL=AllTime.ATL.astype(float)\n",
    "AllTime.Current=AllTime.Current.astype(float)\n",
    "AllTime.OMH=AllTime.OMH.astype(float)\n",
    "AllTime.OML=AllTime.OML.astype(float)\n",
    "AllTime.TMH=AllTime.TMH.astype(float)\n",
    "AllTime.TML=AllTime.TML.astype(float)\n",
    "AllTime.THMH=AllTime.THMH.astype(float)\n",
    "AllTime.THML=AllTime.THML.astype(float)\n",
    "AllTime.dtypes\n",
    "\n",
    "AllTime['ALLTIME']=(AllTime['Current']/AllTime['ATH'])*100\n",
    "AllTime['MONTH']=(AllTime['Current']/AllTime['OMH'])*100\n",
    "AllTime['2MONTH']=(AllTime['Current']/AllTime['TMH'])*100\n",
    "AllTime['3MONTH']=(AllTime['Current']/AllTime['THMH'])*100\n",
    "AllTime.sort_values(by=['ALLTIME'],ascending=True,inplace = True)\n",
    "#AllTime.sort_values(by='ATH',ascending=False)\n",
    "#AllTime.to_csv(\"alltimeHL.csv\", mode=\"w\")\n",
    "#data.sort_values(\"Name\", axis = 0, ascending = True,inplace = True, na_position ='last')\n",
    "\n",
    "## Display the Data \n",
    "AllTime.shape\n",
    "\n"
   ]
  },
  {
   "cell_type": "code",
   "execution_count": 4,
   "id": "d0bf9782",
   "metadata": {},
   "outputs": [
    {
     "name": "stdout",
     "output_type": "stream",
     "text": [
      "      Indicator     ALLTIME      MONTH      2MONTH      3MONTH   Current\n",
      "53      SLPUSDT    7.009346  18.750000   15.151515    8.018868   0.02550\n",
      "106     MDXUSDT   15.948834  23.734940   18.215442   26.305248   0.39400\n",
      "259    BONDUSDT   48.832841  24.266667   48.546279   53.639847  18.20000\n",
      "229   BTCSTUSDT   23.308341  24.532247   81.231778   79.607143  22.29000\n",
      "233      NUUSDT   47.044947  26.691022  144.828263  215.193934   0.73790\n",
      "244  BADGERUSDT  161.770665  28.059387   57.076483  168.105263  15.97000\n",
      "224    MITHUSDT   35.806852  32.272000   84.902484   93.092308   0.06051\n",
      "60    1INCHUSDT   33.929335  32.846054   63.285145   70.109071   2.53900\n",
      "246   COCOSUSDT   40.142660  33.073846  204.840400  226.533193   2.14980\n",
      "74      REQUSDT   47.067881  33.375796   97.037037   83.591613   0.36680\n",
      "230    KLAYUSDT   78.889815  34.431818   84.669983   76.519016   1.51500\n",
      "Empty DataFrame\n",
      "Columns: [Indicator, ALLTIME, MONTH, 2MONTH, 3MONTH, Current]\n",
      "Index: []\n",
      "Empty DataFrame\n",
      "Columns: [Indicator, ALLTIME, MONTH, 2MONTH, 3MONTH, Current]\n",
      "Index: []\n"
     ]
    },
    {
     "name": "stderr",
     "output_type": "stream",
     "text": [
      "/Users/hjabbour/opt/anaconda3/envs/ML/lib/python3.7/site-packages/ipykernel_launcher.py:8: SettingWithCopyWarning: \n",
      "A value is trying to be set on a copy of a slice from a DataFrame\n",
      "\n",
      "See the caveats in the documentation: https://pandas.pydata.org/pandas-docs/stable/user_guide/indexing.html#returning-a-view-versus-a-copy\n",
      "  \n"
     ]
    }
   ],
   "source": [
    "## Display the Data coins run last  Month\n",
    "\n",
    "drop = AllTime.loc[(AllTime['MONTH'] < 35)]\n",
    "#drop = AllTime.loc[(AllTime['MONTH'] < 70)]\n",
    "#drop = AllTime.loc[(AllTime['MONTH'] < 80)&(AllTime['2MONTH'] < 70)&(AllTime['ALLTIME'] < 40)]\n",
    "#drop = AllTime.loc[(AllTime['MONTH'] < 70)&(AllTime['2MONTH'] < (AllTime['3MONTH']))]\n",
    "\n",
    "sort = drop.sort_values(by=['MONTH'],ascending=True,inplace = True)\n",
    "#drop = drop.loc[(drop['ALLTIME'] < drop['3MONTH'])]\n",
    "display = drop[['Indicator','ALLTIME','MONTH','2MONTH','3MONTH','Current']]\n",
    "\n",
    "print(display.iloc[0:60,0:14])\n",
    "print(display.iloc[60:110,])\n",
    "print(display.iloc[110:160,])\n",
    "\n",
    "\n"
   ]
  },
  {
   "cell_type": "code",
   "execution_count": 5,
   "id": "2c8edc4b",
   "metadata": {},
   "outputs": [
    {
     "name": "stdout",
     "output_type": "stream",
     "text": [
      "growing 3 month\n",
      "    Indicator    ALLTIME      MONTH     2MONTH     3MONTH      Current\n",
      "22    CVCUSDT  39.426030  55.808724  37.989796  97.999474     0.372300\n",
      "37    ATAUSDT  37.489799  39.603448  34.113861  88.599457     0.689100\n",
      "236  TROYUSDT  34.691045  39.817164  26.592404  86.509931     0.010671\n",
      "174  PONDUSDT  25.866564  52.893210  36.268817  70.344108     0.067460\n",
      "33   STMXUSDT  26.584289  53.253182  39.110111  62.750000     0.022590\n",
      "145  YFIIUSDT  34.551162  64.147666  37.468290  60.285714  2954.000000\n",
      "189    OMUSDT  20.380435  46.963056  33.452275  56.032873     0.150000\n",
      "243   AVAUSDT  29.220727  49.918212  33.907407  55.537020     1.831000\n",
      "188   CFXUSDT  15.199420  49.457291  24.985100  51.372549     0.209600\n",
      "202  RAMPUSDT  20.147213  40.108855  33.655366  50.421053     0.191600\n",
      "124   TKOUSDT  28.051401  53.319149  36.172055  49.724195     1.253000\n",
      "69    SRMUSDT  39.281740  41.242698  39.068317  45.046404     3.883000\n",
      "20    FILUSDT  37.301428  45.678404  38.385929  44.980601    37.100000\n",
      "239   PHAUSDT  38.987956  38.276810  33.536781  44.970924     0.417600\n",
      "83    XVSUSDT  16.863508  48.874598  38.901815  41.907913    16.720000\n",
      "93   BAKEUSDT  14.767310  48.961303  38.899676  36.490589     1.202000\n",
      "105   EPSUSDT   4.189872  42.350882  24.959175  33.885648     0.290400\n",
      "130   FUNUSDT  23.617821  51.333333  35.677053  32.796486     0.012320\n",
      "170   CLVUSDT  37.901950  44.937500  33.027102  28.933602     0.719000\n",
      "106   MDXUSDT  15.948834  23.734940  18.215442  26.305248     0.394000\n",
      "53    SLPUSDT   7.009346  18.750000  15.151515   8.018868     0.025500\n",
      "26    XECUSDT  34.607469  39.843206  29.187299        NaN     0.000114\n",
      "Empty DataFrame\n",
      "Columns: [Indicator, ALLTIME, MONTH, 2MONTH, 3MONTH, Current]\n",
      "Index: []\n",
      "Empty DataFrame\n",
      "Columns: [Indicator, ALLTIME, MONTH, 2MONTH, 3MONTH, Current]\n",
      "Index: []\n"
     ]
    },
    {
     "name": "stderr",
     "output_type": "stream",
     "text": [
      "/Users/hjabbour/opt/anaconda3/envs/ML/lib/python3.7/site-packages/ipykernel_launcher.py:8: SettingWithCopyWarning: \n",
      "A value is trying to be set on a copy of a slice from a DataFrame\n",
      "\n",
      "See the caveats in the documentation: https://pandas.pydata.org/pandas-docs/stable/user_guide/indexing.html#returning-a-view-versus-a-copy\n",
      "  \n"
     ]
    }
   ],
   "source": [
    "## Coins all time low\n",
    "\n",
    "drop = AllTime.loc[(AllTime['ALLTIME'] < 40)& (AllTime['2MONTH'] < 40)]\n",
    "#drop = AllTime.loc[(AllTime['MONTH'] < 70)]\n",
    "#drop = AllTime.loc[(AllTime['MONTH'] < 80)&(AllTime['2MONTH'] < 70)&(AllTime['ALLTIME'] < 40)]\n",
    "#drop = AllTime.loc[(AllTime['MONTH'] <70)&(AllTime['2MONTH'] > (AllTime['3MONTH']))]\n",
    "\n",
    "sort = drop.sort_values(by=['3MONTH'],ascending=False,inplace = True)\n",
    "#drop = drop.loc[(drop['ALLTIME'] < drop['3MONTH'])]\n",
    "display = drop[['Indicator','ALLTIME','MONTH','2MONTH','3MONTH','Current']]\n",
    "\n",
    "print(\"growing 3 month\")\n",
    "print(display.iloc[0:60,0:14])\n",
    "print(display.iloc[60:110,])\n",
    "print(display.iloc[110:160,])"
   ]
  },
  {
   "cell_type": "code",
   "execution_count": 9,
   "id": "4b9fd80f",
   "metadata": {},
   "outputs": [
    {
     "name": "stdout",
     "output_type": "stream",
     "text": [
      "topping up\n",
      "    Indicator     ALLTIME      MONTH     2MONTH      3MONTH  Current\n",
      "195   PSGUSDT  152.613659  53.286713  38.611604   24.765991    15.24\n",
      "228  AUTOUSDT   64.466748  63.973843  36.998895   64.792550   635.90\n",
      "203   ATMUSDT   72.101885  72.188755  36.313131   29.007141     7.19\n",
      "260   DCRUSDT   71.449685  76.030369  37.667920   38.516484    70.10\n",
      "257   BARUSDT   89.648241  89.289289  36.260163   30.350459     8.92\n",
      "252   MLNUSDT   92.697769  92.980671  38.926746   91.702619    91.40\n",
      "158  FLOWUSDT   92.439516  94.147844  31.512027   25.751193     9.17\n",
      "190  PERPUSDT   95.061605  94.994995  36.207554  101.999140     9.49\n",
      "Empty DataFrame\n",
      "Columns: [Indicator, ALLTIME, MONTH, 2MONTH, 3MONTH, Current]\n",
      "Index: []\n",
      "Empty DataFrame\n",
      "Columns: [Indicator, ALLTIME, MONTH, 2MONTH, 3MONTH, Current]\n",
      "Index: []\n"
     ]
    },
    {
     "name": "stderr",
     "output_type": "stream",
     "text": [
      "/Users/hjabbour/opt/anaconda3/envs/ML/lib/python3.7/site-packages/ipykernel_launcher.py:8: SettingWithCopyWarning: \n",
      "A value is trying to be set on a copy of a slice from a DataFrame\n",
      "\n",
      "See the caveats in the documentation: https://pandas.pydata.org/pandas-docs/stable/user_guide/indexing.html#returning-a-view-versus-a-copy\n",
      "  \n"
     ]
    }
   ],
   "source": [
    "## Coins toping up\n",
    "\n",
    "drop = AllTime.loc[(AllTime['ALLTIME'] > 50)& (AllTime['2MONTH'] < 40)]\n",
    "#drop = AllTime.loc[(AllTime['MONTH'] < 70)]\n",
    "#drop = AllTime.loc[(AllTime['MONTH'] < 80)&(AllTime['2MONTH'] < 70)&(AllTime['ALLTIME'] < 40)]\n",
    "#drop = AllTime.loc[(AllTime['MONTH'] <70)&(AllTime['2MONTH'] > (AllTime['3MONTH']))]\n",
    "\n",
    "sort = drop.sort_values(by=['MONTH'],ascending=True,inplace = True)\n",
    "#drop = drop.loc[(drop['ALLTIME'] < drop['3MONTH'])]\n",
    "display = drop[['Indicator','ALLTIME','MONTH','2MONTH','3MONTH','Current']]\n",
    "\n",
    "print(\"topping up\")\n",
    "print(display.iloc[0:60,0:14])\n",
    "print(display.iloc[60:110,:])\n",
    "print(display.iloc[110:160,:])"
   ]
  },
  {
   "cell_type": "code",
   "execution_count": null,
   "id": "2729a06c",
   "metadata": {},
   "outputs": [],
   "source": []
  },
  {
   "cell_type": "code",
   "execution_count": null,
   "id": "603bc50b",
   "metadata": {},
   "outputs": [],
   "source": []
  },
  {
   "cell_type": "code",
   "execution_count": null,
   "id": "17acb1e1",
   "metadata": {},
   "outputs": [],
   "source": []
  },
  {
   "cell_type": "code",
   "execution_count": null,
   "id": "78bdc5de",
   "metadata": {},
   "outputs": [],
   "source": []
  }
 ],
 "metadata": {
  "kernelspec": {
   "display_name": "Python 3",
   "language": "python",
   "name": "python3"
  },
  "language_info": {
   "codemirror_mode": {
    "name": "ipython",
    "version": 3
   },
   "file_extension": ".py",
   "mimetype": "text/x-python",
   "name": "python",
   "nbconvert_exporter": "python",
   "pygments_lexer": "ipython3",
   "version": "3.7.10"
  }
 },
 "nbformat": 4,
 "nbformat_minor": 5
}
