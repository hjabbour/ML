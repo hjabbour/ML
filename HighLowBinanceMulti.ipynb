{
 "cells": [
  {
   "cell_type": "code",
   "execution_count": 32,
   "id": "d3661386",
   "metadata": {},
   "outputs": [],
   "source": [
    "import numpy as np \n",
    "import pandas as pd \n",
    "from datetime import date\n",
    "#Data Source (Pandas Data Reader)\n",
    "from pandas_datareader import data\n",
    "import requests \n",
    "import json\n",
    "from dateutil.relativedelta import relativedelta\n",
    "\n",
    "\n",
    "#Data Source(Pandas Data Reader)\n"
   ]
  },
  {
   "cell_type": "code",
   "execution_count": 33,
   "id": "b4798a21",
   "metadata": {},
   "outputs": [],
   "source": [
    "whitelist = 'AVAX/USDT,GALA/USDT, WAXP/USDT, HIVE/USDT, BAT/USDT, VIDT/USDT, MIR/USDT, IRIS/USDT, SHIB/USDT, LINK/USDT, DOT/USDT, MATIC/USDT, ZRX/USDT, BTC/USDT, ETH/USDT, AXS/USDT, SOL/USDT, MATIC/USDT, ADA/USDT, BNB/USDT, FIL/USDT, XRP/USDT, CVC/USDT, FTM/USDT, ICP/USDT, DOGE/USDT, XEC/USDT, IOTA/USDT, AVAX/USDT, DOT/USDT, LTC/USDT, EOS/USDT, IOST/USDT, STMX/USDT, FTT/USDT, TWT/USDT, ALICE/USDT, ATA/USDT, ETC/USDT, VET/USDT, SAND/USDT, LINK/USDT, THETA/USDT, SHIB/USDT, CHZ/USDT, LUNA/USDT, IOTX/USDT, TRX/USDT, TLM/USDT, BCH/USDT, REEF/USDT, CAKE/USDT, NEO/USDT, SLP/USDT, RVN/USDT, ATOM/USDT, SUSHI/USDT, ARDR/USDT, OMG/USDT, GRT/USDT, 1INCH/USDT, AAVE/USDT, C98/USDT, UNI/USDT, HBAR/USDT, CRV/USDT, DENT/USDT, MBOX/USDT, BTT/USDT, SRM/USDT, YFI/USDT, HOT/USDT, XLM/USDT, FIS/USDT, REQ/USDT, SXP/USDT, KSM/USDT, QNT/USDT, NEAR/USDT, COMP/USDT, QTUM/USDT, CHR/USDT, SC/USDT, XVS/USDT, ONT/USDT, COTI/USDT, NKN/USDT, RUNE/USDT, ANKR/USDT, MANA/USDT, CTXC/USDT, AR/USDT, RAY/USDT, BAKE/USDT, ARPA/USDT, XTZ/USDT, ZIL/USDT, ONG/USDT, ROSE/USDT, PNT/USDT, ALGO/USDT, MINA/USDT, WIN/USDT, AUDIO/USDT, STORJ/USDT, EPS/USDT, MDX/USDT, ZEC/USDT, ENJ/USDT, HIVE/USDT, TFUEL/USDT, WRX/USDT, SNX/USDT, SKL/USDT, LINA/USDT, DODO/USDT, UNFI/USDT, XEM/USDT, EGLD/USDT, ICX/USDT, WAVES/USDT, ONE/USDT, DASH/USDT, KAVA/USDT, SUPER/USDT, TKO/USDT, OGN/USDT, XMR/USDT, OCEAN/USDT, CELO/USDT, BAT/USDT, FUN/USDT, LRC/USDT, ALPHA/USDT, MASK/USDT, TRU/USDT, DNT/USDT, LIT/USDT, FET/USDT, GTC/USDT, CELR/USDT, DEXE/USDT, ZEN/USDT, WAXP/USDT, CTSI/USDT, HNT/USDT, YFII/USDT, BEL/USDT, ZRX/USDT, DEGO/USDT, RSR/USDT, COS/USDT, FLM/USDT, BAL/USDT, MFT/USDT, RLC/USDT, KNC/USDT, REN/USDT, INJ/USDT, FLOW/USDT, SFP/USDT, BAND/USDT, CTK/USDT, SUN/USDT, AKRO/USDT, XVG/USDT, NANO/USDT, STRAX/USDT, PUNDIX/USDT, TVK/USDT, MKR/USDT, CLV/USDT, TRB/USDT, ETHUP/USDT, KEEP/USDT, TCT/USDT, POND/USDT, LTO/USDT, ANT/USDT, TOMO/USDT, ACM/USDT, FIO/USDT, VITE/USDT, MBL/USDT, JST/USDT, MTL/USDT, UTK/USDT, BLZ/USDT, ORN/USDT, STPT/USDT, CFX/USDT, OM/USDT, PERP/USDT, MIR/USDT, STX/USDT, ERN/USDT, TUSD/USDT, PSG/USDT, NULS/USDT, OXT/USDT, REP/USDT, BNBUP/USDT, DATA/USDT, WAN/USDT, BURGER/USDT, RAMP/USDT, ATM/USDT, DGB/USDT, DIA/USDT, BEAM/USDT, UMA/USDT, ETHDOWN/USDT, CKB/USDT, TRIBE/USDT, FARM/USDT, BTCUP/USDT, BZRX/USDT, ALPACA/USDT, DOTUP/USDT, BTS/USDT, FOR/USDT, ADAUP/USDT, HARD/USDT, LSK/USDT, POLS/USDT, FORTH/USDT, TORN/USDT, VTHO/USDT, BTG/USDT, QUICK/USDT, FILUP/USDT, PAX/USDT, MITH/USDT, SUSHIUP/USDT, BTCDOWN/USDT, XRPDOWN/USDT, BNBDOWN/USDT, DUSK/USDT, XRPUP/USDT, WTC/USDT, DOCK/USDT, AUTO/USDT, BTCST/USDT, KLAY/USDT, WNXM/USDT, KEY/USDT, FILDOWN/USDT, NU/USDT, IRIS/USDT, KMD/USDT, TROY/USDT, WING/USDT, AION/USDT, PHA/USDT, SUSHIDOWN/USDT, EOSUP/USDT, LTCUP/USDT, GHST/USDT, PAXG/USDT, BNT/USDT, AVA/USDT, BADGER/USDT, PERL/USDT, COCOS/USDT, GXS/USDT, MDT/USDT, 1INCHUP/USDT, GTO/USDT, LINKUP/USDT, AAVEUP/USDT, FIRO/USDT, JUV/USDT, MLN/USDT, UNIUP/USDT, LPT/USDT, NMR/USDT, AAVEDOWN/USDT, 1INCHDOWN/USDT, ASR/USDT, OG/USDT, BAR/USDT, DREP/USDT, ADADOWN/USDT, BOND/USDT, DCR/USDT, DOTDOWN/USDT, GNO/USDT, NBS/USDT, SXPUP/USDT, EOSDOWN/USDT, YFIUP/USDT, RIF/USDT, LTCDOWN/USDT, XLMUP/USDT, YFIDOWN/USDT, LINKDOWN/USDT, TRXUP/USDT, BCHUP/USDT, XTZUP/USDT, SXPDOWN/USDT, UNIDOWN/USDT, XTZDOWN/USDT, BCHDOWN/USDT, TRXDOWN/USDT, XLMDOWN/USDT, SUSD/USDT'\n",
    "startdate = '2020-01-01'\n",
    "enddate = '2022-02-04'\n",
    "interval = '1d'"
   ]
  },
  {
   "cell_type": "code",
   "execution_count": 34,
   "id": "5e1e6ea2",
   "metadata": {
    "scrolled": false
   },
   "outputs": [
    {
     "name": "stdout",
     "output_type": "stream",
     "text": [
      "https://api.binance.com/api/v1/klines?symbol=STEEMETH&interval=1d\n"
     ]
    },
    {
     "data": {
      "text/plain": [
       "(265, 14)"
      ]
     },
     "execution_count": 34,
     "metadata": {},
     "output_type": "execute_result"
    }
   ],
   "source": [
    "whitelist=whitelist.lstrip()\n",
    "array = whitelist.split(\",\")\n",
    "array\n",
    "wl = []\n",
    "bl = []\n",
    "blacklist = \"\"\n",
    "whitelist = \"\"\n",
    "symbols =[]\n",
    "for i in range(0 ,len(array)):\n",
    "    if (array[i].find('DOWN') != -1):\n",
    "        bl.append(str(array[i]).lstrip())\n",
    "        #print (\"Contains given substring \")\n",
    "        blacklist += str(array[i])\n",
    "    elif (array[i].find('UP') != -1):\n",
    "        bl.append(str(array[i]).lstrip())\n",
    "        #print (\"Contains given substring \")\n",
    "        blacklist += str(array[i])\n",
    "\n",
    "    else:\n",
    "        wl.append(str(array[i]).lstrip().replace(\"/\",\"\"))\n",
    "        whitelist +=str(array[i]).lstrip()\n",
    "        #print (\"Doesn't contains given substring\")\n",
    "    \n",
    "\n",
    "    \n",
    "#symbols to be used to get the prices from binance url\n",
    "symbols = np.array(wl)\n",
    "\n",
    "\n",
    "## get the data \n",
    "import os\n",
    "\n",
    "live = pd.to_datetime('today')\n",
    "start = pd.to_datetime(startdate)\n",
    "end = pd.to_datetime(enddate)\n",
    "\n",
    "root_url = 'https://api.binance.com/api/v1/klines'\n",
    "symbol = 'STEEMETH'\n",
    "#interval = '1d'\n",
    "url = root_url + '?symbol=' + symbol + '&interval=' + interval\n",
    "print(url)\n",
    "\n",
    "\n",
    "directory = 'BN-main'\n",
    "table = []\n",
    "   \n",
    "        \n",
    "        \n",
    "\n",
    "for symbol in symbols:\n",
    "        url = root_url + '?symbol=' + symbol + '&interval=' + interval\n",
    "        data = json.loads(requests.get(url).text)\n",
    "        dflive = pd.DataFrame(data ,columns =['open_time',\n",
    "              'o', 'h', 'l', 'c', 'v',\n",
    "              'close_time', 'qav', 'num_trades',\n",
    "              'taker_base_vol', 'taker_quote_vol', 'ignore'])\n",
    "        dflive.open_time = pd.to_datetime(dflive['open_time'],unit='ms')\n",
    "        dflive=dflive.loc[(dflive.open_time>start)]\n",
    "        lastrow = dflive.iloc[-1]\n",
    "        now= float(lastrow.c)\n",
    "        alth = dflive.c.max()\n",
    "        altl = dflive.l.min()\n",
    "        \n",
    "        ## past 1 month \n",
    "        past_month = end - relativedelta(months=1)\n",
    "        \n",
    "        back1Mdata = dflive.loc[(dflive.open_time> past_month)]\n",
    "        omh = back1Mdata.h.max()\n",
    "        oml = back1Mdata.l.min()\n",
    "        ## past 2 month\n",
    "        \n",
    "        past_2month = end - relativedelta(months=2)\n",
    "        back2Mdata = dflive.loc[(dflive.open_time > past_2month)&(dflive.open_time < past_month)]\n",
    "        tmh = back2Mdata.h.max()\n",
    "        tml = back2Mdata.l.min()\n",
    "        ## past 3 month \n",
    "        \n",
    "        past_3month = end - relativedelta(months=3)\n",
    "        back3Mdata = dflive.loc[(dflive.open_time> past_3month)&(dflive.open_time < past_2month)]\n",
    "        thmh = back3Mdata.h.max()\n",
    "        thml = back3Mdata.l.min()\n",
    "        \n",
    " \n",
    "        tuple =(symbol,alth,altl,now,omh,oml,tmh,tml,thmh,thml)\n",
    "        table.append(tuple)\n",
    "        #print(\"name is: \",symbol ,alth,altl)\n",
    "        \n",
    "\n",
    "table[0]\n",
    "AllTime = pd.DataFrame(table,columns=['Indicator','ATH','ATL','Current','OMH','OML','TMH','TML','THMH','THML'])\n",
    "AllTime.ATH=AllTime.ATH.astype(float)\n",
    "AllTime.ATL=AllTime.ATL.astype(float)\n",
    "AllTime.Current=AllTime.Current.astype(float)\n",
    "AllTime.OMH=AllTime.OMH.astype(float)\n",
    "AllTime.OML=AllTime.OML.astype(float)\n",
    "AllTime.TMH=AllTime.TMH.astype(float)\n",
    "AllTime.TML=AllTime.TML.astype(float)\n",
    "AllTime.THMH=AllTime.THMH.astype(float)\n",
    "AllTime.THML=AllTime.THML.astype(float)\n",
    "AllTime.dtypes\n",
    "\n",
    "AllTime['ALLTIME']=(AllTime['Current']/AllTime['ATH'])*100\n",
    "AllTime['MONTH']=(AllTime['Current']/AllTime['OMH'])*100\n",
    "AllTime['2MONTH']=(AllTime['Current']/AllTime['TMH'])*100\n",
    "AllTime['3MONTH']=(AllTime['Current']/AllTime['THMH'])*100\n",
    "AllTime.sort_values(by=['ALLTIME'],ascending=True,inplace = True)\n",
    "#AllTime.sort_values(by='ATH',ascending=False)\n",
    "#AllTime.to_csv(\"alltimeHL.csv\", mode=\"w\")\n",
    "#data.sort_values(\"Name\", axis = 0, ascending = True,inplace = True, na_position ='last')\n",
    "\n",
    "## Display the Data \n",
    "AllTime.shape\n",
    "\n"
   ]
  },
  {
   "cell_type": "code",
   "execution_count": 35,
   "id": "d0bf9782",
   "metadata": {},
   "outputs": [
    {
     "name": "stdout",
     "output_type": "stream",
     "text": [
      "     Indicator   ALLTIME      MONTH     2MONTH     3MONTH  Current\n",
      "222  QUICKUSDT  24.37500  51.598677  32.842105  42.671530  187.200\n",
      "67    MBOXUSDT  27.06544  51.901961  28.310160  30.251429    2.647\n",
      "Empty DataFrame\n",
      "Columns: [Indicator, ALLTIME, MONTH, 2MONTH, 3MONTH, Current]\n",
      "Index: []\n",
      "Empty DataFrame\n",
      "Columns: [Indicator, ALLTIME, MONTH, 2MONTH, 3MONTH, Current]\n",
      "Index: []\n"
     ]
    },
    {
     "name": "stderr",
     "output_type": "stream",
     "text": [
      "/Users/hjabbour/opt/anaconda3/envs/ML/lib/python3.7/site-packages/ipykernel_launcher.py:8: SettingWithCopyWarning: \n",
      "A value is trying to be set on a copy of a slice from a DataFrame\n",
      "\n",
      "See the caveats in the documentation: https://pandas.pydata.org/pandas-docs/stable/user_guide/indexing.html#returning-a-view-versus-a-copy\n",
      "  \n"
     ]
    }
   ],
   "source": [
    "## Display the Data coins run last  Month\n",
    "\n",
    "#drop = AllTime.loc[(AllTime['MONTH'] < 35)]\n",
    "#drop = AllTime.loc[(AllTime['MONTH'] < 70)]\n",
    "#drop = AllTime.loc[(AllTime['MONTH'] < 80)&(AllTime['2MONTH'] < 70)&(AllTime['ALLTIME'] < 40)]\n",
    "drop = AllTime.loc[(AllTime['ALLTIME'] < 30)&(AllTime['2MONTH'] < (AllTime['3MONTH']))]\n",
    "\n",
    "sort = drop.sort_values(by=['MONTH'],ascending=True,inplace = True)\n",
    "#drop = drop.loc[(drop['ALLTIME'] < drop['3MONTH'])]\n",
    "display = drop[['Indicator','ALLTIME','MONTH','2MONTH','3MONTH','Current']]\n",
    "\n",
    "print(display.iloc[0:60,0:14])\n",
    "print(display.iloc[60:110,])\n",
    "print(display.iloc[110:160,])\n",
    "\n",
    "\n"
   ]
  },
  {
   "cell_type": "code",
   "execution_count": 36,
   "id": "2c8edc4b",
   "metadata": {},
   "outputs": [
    {
     "name": "stdout",
     "output_type": "stream",
     "text": [
      "growing 3 month\n",
      "    Indicator    ALLTIME      MONTH     2MONTH     3MONTH    Current\n",
      "53    SLPUSDT   2.968664  37.241379  19.852941   9.432314   0.010800\n",
      "131   LRCUSDT  24.975827  40.440269  28.781740  22.140260   0.852400\n",
      "170   CLVUSDT  17.554033  41.677096  29.082969  22.200000   0.333000\n",
      "1    GALAUSDT  25.238807  42.480385  29.699564  22.267259   0.187330\n",
      "136   LITUSDT  14.861114  45.180166  39.403707  18.856041   1.467000\n",
      "239   PHAUSDT  23.349827  45.898330  37.893939  30.396208   0.250100\n",
      "114  LINAUSDT  11.762415  46.372361  43.927273  27.677855   0.024160\n",
      "125   OGNUSDT  10.530925  46.511961  39.621721  21.646667   0.324700\n",
      "87   RUNEUSDT  38.371277  46.590356  42.988764  25.683023   3.826000\n",
      "121   ONEUSDT  50.983478  47.877141  57.056604  53.130307   0.181440\n",
      "137   FETUSDT  32.884069  48.046154  45.130058  30.394161   0.312300\n",
      "48    TLMUSDT  14.015101  48.090909  34.217335  18.561404   0.105800\n",
      "163  AKROUSDT  16.418461  48.117779  47.133991  28.065217   0.012910\n",
      "160  BANDUSDT  33.740244  48.171429  52.753442  34.278744   3.372000\n",
      "54    RVNUSDT  28.447982  48.270134  56.876596  45.195104   0.066830\n",
      "171   TRBUSDT  19.289113  48.396130  45.326657  23.765471  19.010000\n",
      "253   LPTUSDT  33.891718  48.485429  44.159246  30.841463  25.290000\n",
      "139  CELRUSDT  27.708077  48.595285  52.610869  29.100000   0.049470\n",
      "192   STXUSDT  49.442897  48.965517  52.592593  43.611794   1.420000\n",
      "196  NULSUSDT  25.722064  49.212398  30.451187  19.178218   0.387400\n",
      "157   INJUSDT  41.840962  49.676104  41.414141  27.833042   4.141000\n",
      "220  VTHOUSDT  14.099988  49.710816  34.380000  26.651163   0.003438\n",
      "231  WNXMUSDT  33.011320  49.766320  45.468320  33.683673  33.010000\n",
      "128  CELOUSDT  39.708010  49.900826  55.907407  44.554309   3.019000\n",
      "Empty DataFrame\n",
      "Columns: [Indicator, ALLTIME, MONTH, 2MONTH, 3MONTH, Current]\n",
      "Index: []\n",
      "Empty DataFrame\n",
      "Columns: [Indicator, ALLTIME, MONTH, 2MONTH, 3MONTH, Current]\n",
      "Index: []\n"
     ]
    },
    {
     "name": "stderr",
     "output_type": "stream",
     "text": [
      "/Users/hjabbour/opt/anaconda3/envs/ML/lib/python3.7/site-packages/ipykernel_launcher.py:8: SettingWithCopyWarning: \n",
      "A value is trying to be set on a copy of a slice from a DataFrame\n",
      "\n",
      "See the caveats in the documentation: https://pandas.pydata.org/pandas-docs/stable/user_guide/indexing.html#returning-a-view-versus-a-copy\n",
      "  \n"
     ]
    }
   ],
   "source": [
    "## Coins all time low\n",
    "\n",
    "#drop = AllTime.loc[(AllTime['ALLTIME'] < 60)& (AllTime['MONTH'] < 40)]\n",
    "#drop = AllTime.loc[(AllTime['MONTH'] < 70)]\n",
    "#drop = AllTime.loc[(AllTime['MONTH'] < 80)&(AllTime['2MONTH'] < 70)&(AllTime['ALLTIME'] < 40)]\n",
    "drop = AllTime.loc[(AllTime['MONTH'] <50)&(AllTime['2MONTH'] > (AllTime['3MONTH']))]\n",
    "\n",
    "sort = drop.sort_values(by=['MONTH'],ascending=True,inplace = True)\n",
    "#drop = drop.loc[(drop['ALLTIME'] < drop['3MONTH'])]\n",
    "display = drop[['Indicator','ALLTIME','MONTH','2MONTH','3MONTH','Current']]\n",
    "\n",
    "print(\"growing 3 month\")\n",
    "print(display.iloc[0:60,0:14])\n",
    "print(display.iloc[60:110,])\n",
    "print(display.iloc[110:160,])"
   ]
  },
  {
   "cell_type": "code",
   "execution_count": 37,
   "id": "4b9fd80f",
   "metadata": {},
   "outputs": [
    {
     "name": "stdout",
     "output_type": "stream",
     "text": [
      "topping up\n",
      "    Indicator     ALLTIME      MONTH      2MONTH      3MONTH  Current\n",
      "79   COMPUSDT  131.576238  52.205882   51.325301   33.800582  127.800\n",
      "63    UNIUSDT  111.101597  52.239557   51.718984   36.446629   10.380\n",
      "76    KSMUSDT  164.756157  52.824675   47.159420   31.342709  162.700\n",
      "91     ARUSDT  352.876438  53.896699   51.339156   38.724199   35.270\n",
      "78   NEARUSDT  111.732852  54.095257  113.693878  111.542697   11.142\n",
      "259  BONDUSDT  101.112235  54.171181   41.666667   16.666667   10.000\n",
      "118  EGLDUSDT  139.354968  54.511869   40.120332   25.484612  138.700\n",
      "210  FARMUSDT  105.629478  54.893617  103.927492   54.981353  103.200\n",
      "9    LINKUSDT  162.816616  55.973528   65.618620   41.947272   16.070\n",
      "41   LINKUSDT  162.816616  55.973528   65.618620   41.947272   16.070\n",
      "144   HNTUSDT  257.099698  56.532329   58.824885   43.074068   25.530\n",
      "61   AAVEUSDT  161.765020  58.481110   51.111860   43.355244  151.700\n",
      "Empty DataFrame\n",
      "Columns: [Indicator, ALLTIME, MONTH, 2MONTH, 3MONTH, Current]\n",
      "Index: []\n",
      "Empty DataFrame\n",
      "Columns: [Indicator, ALLTIME, MONTH, 2MONTH, 3MONTH, Current]\n",
      "Index: []\n"
     ]
    },
    {
     "name": "stderr",
     "output_type": "stream",
     "text": [
      "/Users/hjabbour/opt/anaconda3/envs/ML/lib/python3.7/site-packages/ipykernel_launcher.py:8: SettingWithCopyWarning: \n",
      "A value is trying to be set on a copy of a slice from a DataFrame\n",
      "\n",
      "See the caveats in the documentation: https://pandas.pydata.org/pandas-docs/stable/user_guide/indexing.html#returning-a-view-versus-a-copy\n",
      "  \n"
     ]
    }
   ],
   "source": [
    "## Coins toping up\n",
    "\n",
    "drop = AllTime.loc[(AllTime['ALLTIME'] > 100)& (AllTime['MONTH'] < 60)]\n",
    "#drop = AllTime.loc[(AllTime['MONTH'] < 70)]\n",
    "#drop = AllTime.loc[(AllTime['MONTH'] < 80)&(AllTime['2MONTH'] < 70)&(AllTime['ALLTIME'] < 40)]\n",
    "#drop = AllTime.loc[(AllTime['MONTH'] <70)&(AllTime['2MONTH'] > (AllTime['3MONTH']))]\n",
    "\n",
    "sort = drop.sort_values(by=['MONTH'],ascending=True,inplace = True)\n",
    "#drop = drop.loc[(drop['ALLTIME'] < drop['3MONTH'])]\n",
    "display = drop[['Indicator','ALLTIME','MONTH','2MONTH','3MONTH','Current']]\n",
    "\n",
    "print(\"topping up\")\n",
    "print(display.iloc[0:60,0:14])\n",
    "print(display.iloc[60:110,:])\n",
    "print(display.iloc[110:160,:])"
   ]
  },
  {
   "cell_type": "code",
   "execution_count": null,
   "id": "2729a06c",
   "metadata": {},
   "outputs": [],
   "source": []
  },
  {
   "cell_type": "code",
   "execution_count": null,
   "id": "603bc50b",
   "metadata": {},
   "outputs": [],
   "source": []
  },
  {
   "cell_type": "code",
   "execution_count": null,
   "id": "17acb1e1",
   "metadata": {},
   "outputs": [],
   "source": []
  },
  {
   "cell_type": "code",
   "execution_count": null,
   "id": "78bdc5de",
   "metadata": {},
   "outputs": [],
   "source": []
  }
 ],
 "metadata": {
  "kernelspec": {
   "display_name": "Python 3",
   "language": "python",
   "name": "python3"
  },
  "language_info": {
   "codemirror_mode": {
    "name": "ipython",
    "version": 3
   },
   "file_extension": ".py",
   "mimetype": "text/x-python",
   "name": "python",
   "nbconvert_exporter": "python",
   "pygments_lexer": "ipython3",
   "version": "3.7.10"
  }
 },
 "nbformat": 4,
 "nbformat_minor": 5
}
