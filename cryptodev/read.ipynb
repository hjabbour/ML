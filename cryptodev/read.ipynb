{
 "cells": [
  {
   "cell_type": "code",
   "execution_count": null,
   "metadata": {},
   "outputs": [],
   "source": [
    "#Excel\n",
    "#CSV\n",
    "#HTML "
   ]
  },
  {
   "cell_type": "code",
   "execution_count": 1,
   "metadata": {},
   "outputs": [],
   "source": [
    "import numpy as np\n",
    "import pandas as pd\n",
    "import talib.abstract as ta"
   ]
  },
  {
   "cell_type": "markdown",
   "metadata": {},
   "source": [
    "# Read Excel & CSV File"
   ]
  },
  {
   "cell_type": "code",
   "execution_count": 12,
   "metadata": {},
   "outputs": [],
   "source": [
    "table_A  = pd.read_excel('SamplePandas_A.xlsx',sheet_name='Sheet1')"
   ]
  },
  {
   "cell_type": "code",
   "execution_count": 26,
   "metadata": {},
   "outputs": [
    {
     "data": {
      "text/html": [
       "<div>\n",
       "<style scoped>\n",
       "    .dataframe tbody tr th:only-of-type {\n",
       "        vertical-align: middle;\n",
       "    }\n",
       "\n",
       "    .dataframe tbody tr th {\n",
       "        vertical-align: top;\n",
       "    }\n",
       "\n",
       "    .dataframe thead th {\n",
       "        text-align: right;\n",
       "    }\n",
       "</style>\n",
       "<table border=\"1\" class=\"dataframe\">\n",
       "  <thead>\n",
       "    <tr style=\"text-align: right;\">\n",
       "      <th></th>\n",
       "      <th>Name</th>\n",
       "      <th>City</th>\n",
       "      <th>Age</th>\n",
       "      <th>Job</th>\n",
       "    </tr>\n",
       "  </thead>\n",
       "  <tbody>\n",
       "    <tr>\n",
       "      <th>0</th>\n",
       "      <td>Sajid</td>\n",
       "      <td>Rio</td>\n",
       "      <td>56</td>\n",
       "      <td>Journalist</td>\n",
       "    </tr>\n",
       "    <tr>\n",
       "      <th>1</th>\n",
       "      <td>Sami</td>\n",
       "      <td>Kuala Lumpur</td>\n",
       "      <td>69</td>\n",
       "      <td>Data Scientist</td>\n",
       "    </tr>\n",
       "    <tr>\n",
       "      <th>2</th>\n",
       "      <td>Frank</td>\n",
       "      <td>Dallas</td>\n",
       "      <td>10</td>\n",
       "      <td>Singer</td>\n",
       "    </tr>\n",
       "    <tr>\n",
       "      <th>3</th>\n",
       "      <td>Raj</td>\n",
       "      <td>New York</td>\n",
       "      <td>63</td>\n",
       "      <td>Journalist</td>\n",
       "    </tr>\n",
       "  </tbody>\n",
       "</table>\n",
       "</div>"
      ],
      "text/plain": [
       "    Name          City  Age             Job\n",
       "0  Sajid           Rio   56      Journalist\n",
       "1   Sami  Kuala Lumpur   69  Data Scientist\n",
       "2  Frank        Dallas   10          Singer\n",
       "3    Raj      New York   63      Journalist"
      ]
     },
     "execution_count": 26,
     "metadata": {},
     "output_type": "execute_result"
    }
   ],
   "source": [
    "table_A.loc[:3,:]"
   ]
  },
  {
   "cell_type": "markdown",
   "metadata": {},
   "source": [
    "# Read web & HTML data"
   ]
  },
  {
   "cell_type": "code",
   "execution_count": 29,
   "metadata": {},
   "outputs": [],
   "source": [
    "wiki_data = pd.read_html('https://en.wikipedia.org/wiki/Lebanon')"
   ]
  },
  {
   "cell_type": "code",
   "execution_count": 32,
   "metadata": {},
   "outputs": [
    {
     "data": {
      "text/html": [
       "<div>\n",
       "<style scoped>\n",
       "    .dataframe tbody tr th:only-of-type {\n",
       "        vertical-align: middle;\n",
       "    }\n",
       "\n",
       "    .dataframe tbody tr th {\n",
       "        vertical-align: top;\n",
       "    }\n",
       "\n",
       "    .dataframe thead th {\n",
       "        text-align: right;\n",
       "    }\n",
       "</style>\n",
       "<table border=\"1\" class=\"dataframe\">\n",
       "  <thead>\n",
       "    <tr style=\"text-align: right;\">\n",
       "      <th></th>\n",
       "      <th>Lebanese Republicٱلْجُمْهُورِيَّةُ ٱللُّبْنَانِيَّةُ (Arabic)al-Jumhūrīyah al-LubnānīyahRépublique libanaise (French)</th>\n",
       "      <th>Lebanese Republicٱلْجُمْهُورِيَّةُ ٱللُّبْنَانِيَّةُ (Arabic)al-Jumhūrīyah al-LubnānīyahRépublique libanaise (French).1</th>\n",
       "    </tr>\n",
       "  </thead>\n",
       "  <tbody>\n",
       "    <tr>\n",
       "      <th>0</th>\n",
       "      <td>Flag  Coat of arms</td>\n",
       "      <td>Flag  Coat of arms</td>\n",
       "    </tr>\n",
       "    <tr>\n",
       "      <th>1</th>\n",
       "      <td>Anthem: \"كلّنا للوطن\" (Arabic) \"Kullunā li-l-w...</td>\n",
       "      <td>Anthem: \"كلّنا للوطن\" (Arabic) \"Kullunā li-l-w...</td>\n",
       "    </tr>\n",
       "    <tr>\n",
       "      <th>2</th>\n",
       "      <td>NaN</td>\n",
       "      <td>NaN</td>\n",
       "    </tr>\n",
       "    <tr>\n",
       "      <th>3</th>\n",
       "      <td>Capitaland largest city</td>\n",
       "      <td>Beirut.mw-parser-output .geo-default,.mw-parse...</td>\n",
       "    </tr>\n",
       "    <tr>\n",
       "      <th>4</th>\n",
       "      <td>Official languages</td>\n",
       "      <td>Arabic[nb 1]</td>\n",
       "    </tr>\n",
       "  </tbody>\n",
       "</table>\n",
       "</div>"
      ],
      "text/plain": [
       "  Lebanese Republicٱلْجُمْهُورِيَّةُ ٱللُّبْنَانِيَّةُ (Arabic)al-Jumhūrīyah al-LubnānīyahRépublique libanaise (French)  \\\n",
       "0                                 Flag  Coat of arms                                                                      \n",
       "1  Anthem: \"كلّنا للوطن\" (Arabic) \"Kullunā li-l-w...                                                                      \n",
       "2                                                NaN                                                                      \n",
       "3                            Capitaland largest city                                                                      \n",
       "4                                 Official languages                                                                      \n",
       "\n",
       "  Lebanese Republicٱلْجُمْهُورِيَّةُ ٱللُّبْنَانِيَّةُ (Arabic)al-Jumhūrīyah al-LubnānīyahRépublique libanaise (French).1  \n",
       "0                                 Flag  Coat of arms                                                                       \n",
       "1  Anthem: \"كلّنا للوطن\" (Arabic) \"Kullunā li-l-w...                                                                       \n",
       "2                                                NaN                                                                       \n",
       "3  Beirut.mw-parser-output .geo-default,.mw-parse...                                                                       \n",
       "4                                       Arabic[nb 1]                                                                       "
      ]
     },
     "execution_count": 32,
     "metadata": {},
     "output_type": "execute_result"
    }
   ],
   "source": [
    "wiki_data = pd.read_html('https://en.wikipedia.org/wiki/Lebanon', match='Christian')\n",
    "wiki_data[0].head()"
   ]
  },
  {
   "cell_type": "code",
   "execution_count": null,
   "metadata": {},
   "outputs": [],
   "source": []
  }
 ],
 "metadata": {
  "kernelspec": {
   "display_name": "Python 3 (ipykernel)",
   "language": "python",
   "name": "python3"
  },
  "language_info": {
   "codemirror_mode": {
    "name": "ipython",
    "version": 3
   },
   "file_extension": ".py",
   "mimetype": "text/x-python",
   "name": "python",
   "nbconvert_exporter": "python",
   "pygments_lexer": "ipython3",
   "version": "3.8.12"
  }
 },
 "nbformat": 4,
 "nbformat_minor": 2
}
