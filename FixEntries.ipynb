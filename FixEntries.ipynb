{
 "cells": [
  {
   "cell_type": "code",
   "execution_count": 47,
   "id": "d3661386",
   "metadata": {},
   "outputs": [],
   "source": [
    "import numpy as np \n",
    "import pandas as pd \n",
    "from datetime import date\n",
    "#Data Source (Pandas Data Reader)\n",
    "from pandas_datareader import data\n",
    "import requests \n",
    "import json\n",
    "from dateutil.relativedelta import relativedelta\n",
    "\n",
    "\n",
    "#Data Source(Pandas Data Reader)\n"
   ]
  },
  {
   "cell_type": "code",
   "execution_count": 48,
   "id": "b4798a21",
   "metadata": {},
   "outputs": [
    {
     "data": {
      "text/plain": [
       "7.399239"
      ]
     },
     "execution_count": 48,
     "metadata": {},
     "output_type": "execute_result"
    }
   ],
   "source": [
    "whitelist = 'AVAX/USDT,GALA/USDT, WAXP/USDT, HIVE/USDT, BAT/USDT, VIDT/USDT, MIR/USDT, IRIS/USDT, SHIB/USDT, MATIC/USDT, ZRX/USDT, BTC/USDT, ETH/USDT, AXS/USDT, SOL/USDT, MATIC/USDT, ADA/USDT, BNB/USDT, FIL/USDT, XRP/USDT, CVC/USDT, FTM/USDT, ICP/USDT, DOGE/USDT, XEC/USDT, IOTA/USDT, AVAX/USDT, DOT/USDT, LTC/USDT, EOS/USDT, IOST/USDT, STMX/USDT, FTT/USDT, TWT/USDT, ALICE/USDT, ATA/USDT, ETC/USDT, VET/USDT, SAND/USDT, LINK/USDT, THETA/USDT, SHIB/USDT, CHZ/USDT, LUNA/USDT, IOTX/USDT, TRX/USDT, TLM/USDT, BCH/USDT, REEF/USDT, CAKE/USDT, NEO/USDT, SLP/USDT, RVN/USDT, ATOM/USDT, SUSHI/USDT, ARDR/USDT, OMG/USDT, GRT/USDT, 1INCH/USDT, AAVE/USDT, C98/USDT, UNI/USDT, HBAR/USDT, CRV/USDT, DENT/USDT, MBOX/USDT, BTT/USDT, SRM/USDT, YFI/USDT, HOT/USDT, XLM/USDT, FIS/USDT, REQ/USDT, SXP/USDT, KSM/USDT, QNT/USDT, NEAR/USDT, COMP/USDT, QTUM/USDT, CHR/USDT, SC/USDT, XVS/USDT, ONT/USDT, COTI/USDT, NKN/USDT, RUNE/USDT, ANKR/USDT, MANA/USDT, CTXC/USDT, AR/USDT, RAY/USDT, BAKE/USDT, ARPA/USDT, XTZ/USDT, ZIL/USDT, ONG/USDT, ROSE/USDT, PNT/USDT, ALGO/USDT, MINA/USDT, WIN/USDT, AUDIO/USDT, STORJ/USDT, EPS/USDT, MDX/USDT, ZEC/USDT, ENJ/USDT, HIVE/USDT, TFUEL/USDT, WRX/USDT, SNX/USDT, SKL/USDT, LINA/USDT, DODO/USDT, UNFI/USDT, XEM/USDT, EGLD/USDT, ICX/USDT, WAVES/USDT, ONE/USDT, DASH/USDT, KAVA/USDT, SUPER/USDT, TKO/USDT, OGN/USDT, XMR/USDT, OCEAN/USDT, CELO/USDT, BAT/USDT, FUN/USDT, LRC/USDT, ALPHA/USDT, MASK/USDT, TRU/USDT, DNT/USDT, LIT/USDT, FET/USDT, GTC/USDT, CELR/USDT, DEXE/USDT, ZEN/USDT, WAXP/USDT, CTSI/USDT, HNT/USDT, YFII/USDT, BEL/USDT, ZRX/USDT, DEGO/USDT, RSR/USDT, COS/USDT, FLM/USDT, BAL/USDT, MFT/USDT, RLC/USDT, KNC/USDT, REN/USDT, INJ/USDT, FLOW/USDT, SFP/USDT, BAND/USDT, CTK/USDT, SUN/USDT, AKRO/USDT, XVG/USDT, NANO/USDT, STRAX/USDT, PUNDIX/USDT, TVK/USDT, MKR/USDT, CLV/USDT, TRB/USDT, ETHUP/USDT, KEEP/USDT, TCT/USDT, POND/USDT, LTO/USDT, ANT/USDT, TOMO/USDT, ACM/USDT, FIO/USDT, VITE/USDT, MBL/USDT, JST/USDT, MTL/USDT, UTK/USDT, BLZ/USDT, ORN/USDT, STPT/USDT, CFX/USDT, OM/USDT, PERP/USDT, MIR/USDT, STX/USDT, ERN/USDT, TUSD/USDT, PSG/USDT, NULS/USDT, OXT/USDT, REP/USDT, BNBUP/USDT, DATA/USDT, WAN/USDT, BURGER/USDT, RAMP/USDT, ATM/USDT, DGB/USDT, DIA/USDT, BEAM/USDT, UMA/USDT, ETHDOWN/USDT, CKB/USDT, TRIBE/USDT, FARM/USDT, BTCUP/USDT, BZRX/USDT, ALPACA/USDT, DOTUP/USDT, BTS/USDT, FOR/USDT, ADAUP/USDT, HARD/USDT, LSK/USDT, POLS/USDT, FORTH/USDT, TORN/USDT, VTHO/USDT, BTG/USDT, QUICK/USDT, FILUP/USDT, PAX/USDT, MITH/USDT, SUSHIUP/USDT, BTCDOWN/USDT, XRPDOWN/USDT, BNBDOWN/USDT, DUSK/USDT, XRPUP/USDT, WTC/USDT, DOCK/USDT, AUTO/USDT, BTCST/USDT, KLAY/USDT, WNXM/USDT, KEY/USDT, FILDOWN/USDT, NU/USDT, IRIS/USDT, KMD/USDT, TROY/USDT, WING/USDT, AION/USDT, PHA/USDT, SUSHIDOWN/USDT, EOSUP/USDT, LTCUP/USDT, GHST/USDT, PAXG/USDT, BNT/USDT, AVA/USDT, BADGER/USDT, PERL/USDT, COCOS/USDT, GXS/USDT, MDT/USDT, 1INCHUP/USDT, GTO/USDT, LINKUP/USDT, AAVEUP/USDT, FIRO/USDT, JUV/USDT, MLN/USDT, UNIUP/USDT, LPT/USDT, NMR/USDT, AAVEDOWN/USDT, 1INCHDOWN/USDT, ASR/USDT, OG/USDT, BAR/USDT, DREP/USDT, ADADOWN/USDT, BOND/USDT, DCR/USDT, DOTDOWN/USDT, GNO/USDT, NBS/USDT, SXPUP/USDT, EOSDOWN/USDT, YFIUP/USDT, RIF/USDT, LTCDOWN/USDT, XLMUP/USDT, YFIDOWN/USDT, LINKDOWN/USDT, TRXUP/USDT, BCHUP/USDT, XTZUP/USDT, SXPDOWN/USDT, UNIDOWN/USDT, XTZDOWN/USDT, BCHDOWN/USDT, TRXDOWN/USDT, XLMDOWN/USDT, SUSD/USDT'\n",
    "#entrylist =[['ANKR/USDT',0.07684],['AVAX/USDT',57],['WAXP/USDT',0.3818],['REEF/USDT',0.01346],['LINK/USDT',14.15],['AR/USDT',30],['ATOM/USDT',23],['MIR/USDT',2.343],['ALGO/USDT',0.909],['ZRX/USDT',0.90],['XTZ/USDT',2.856],['KSM/USDT',163],]\n",
    "entrylist =[['ANKRUSDT',0.07684],['AVAXUSDT',57],['WAXPUSDT',0.3818],['REEFUSDT',0.01131],['LINKUSDT',14.15],['ARUSDT',30],['ATOMUSDT',23],['MIRUSDT',2.343],['ALGOUSDT',0.909],['ZRXUSDT',0.60],['XTZUSDT',2.856],['KSMUSDT',163],['NEARUSDT',14],['WINUSDT',0.0003138],['CELRUSDT',0.05063],['DENTUSDT',0.002459],['LRCUSDT',0.7047],['CRVUSDT',3.529],['IMXUSDT',2.709],['SCRTUSDT',5],['RENUSDT',0.2547],['SUSHIUSDT',4.522],['CAKEUSDT',11.24],['XLMUSDT',0.2109],['HNTUSDT',30],['OMGUSDT',4.5],['LINAUSDT',0.024]]\n",
    "startdate = '2020-01-01'\n",
    "enddate = '2022-02-11'\n",
    "interval = '4h'\n",
    "easyband = pd.read_csv('easyband.csv')\n",
    "#Columns=['Indicator','ALLTIME','CLOSERATIO','SMA100','SMA55']\n",
    "easyband = pd.DataFrame(easyband,columns=['Indicator','ALLTIME','CLOSERATIO','SMA100','SMA55'])\n",
    "easyband = easyband.loc[:,['Indicator','SMA100']]\n",
    "EASY=easyband.loc[(easyband.Indicator=='BANDUSDT')].SMA100.values\n",
    "#print(EASY)\n",
    "EASY[0]\n",
    "#easyband"
   ]
  },
  {
   "cell_type": "code",
   "execution_count": 49,
   "id": "2c8efc7e",
   "metadata": {},
   "outputs": [],
   "source": [
    "entries = pd.DataFrame(entrylist, columns =['Indicator', 'lowest_entry'],dtype = float) \n",
    "entries\n",
    "entries.lowest_entry.astype(float)\n",
    "indicator_list = entries['Indicator']\n",
    "#indicator_list\n",
    "#entries"
   ]
  },
  {
   "cell_type": "code",
   "execution_count": 50,
   "id": "5e1e6ea2",
   "metadata": {
    "scrolled": false
   },
   "outputs": [
    {
     "name": "stdout",
     "output_type": "stream",
     "text": [
      "https://api.binance.com/api/v1/klines?symbol=STEEMETH&interval=4h\n"
     ]
    },
    {
     "data": {
      "text/plain": [
       "(27, 17)"
      ]
     },
     "execution_count": 50,
     "metadata": {},
     "output_type": "execute_result"
    }
   ],
   "source": [
    "#whitelist=whitelist.lstrip()\n",
    "#whitelist = indicator_list\n",
    "#array = whitelist.split(\",\")\n",
    "array = indicator_list\n",
    "wl = []\n",
    "bl = []\n",
    "blacklist = \"\"\n",
    "whitelist = \"\"\n",
    "symbols =[]\n",
    "for i in range(0 ,len(array)):\n",
    "    if (array[i].find('DOWN') != -1):\n",
    "        bl.append(str(array[i]).lstrip())\n",
    "        #print (\"Contains given substring \")\n",
    "        blacklist += str(array[i])\n",
    "    elif (array[i].find('UP') != -1):\n",
    "        bl.append(str(array[i]).lstrip())\n",
    "        #print (\"Contains given substring \")\n",
    "        blacklist += str(array[i])\n",
    "\n",
    "    else:\n",
    "        wl.append(str(array[i]).lstrip().replace(\"/\",\"\"))\n",
    "        whitelist +=str(array[i]).lstrip()\n",
    "        #print (\"Doesn't contains given substring\")\n",
    "    \n",
    "\n",
    "    \n",
    "#symbols to be used to get the prices from binance url\n",
    "symbols = np.array(wl)\n",
    "\n",
    "\n",
    "## get the data \n",
    "import os\n",
    "\n",
    "live = pd.to_datetime('today')\n",
    "start = pd.to_datetime(startdate)\n",
    "end = pd.to_datetime(enddate)\n",
    "\n",
    "root_url = 'https://api.binance.com/api/v1/klines'\n",
    "symbol = 'STEEMETH'\n",
    "#interval = '1d'\n",
    "url = root_url + '?symbol=' + symbol + '&interval=' + interval\n",
    "print(url)\n",
    "\n",
    "\n",
    "directory = 'BN-main'\n",
    "table = []\n",
    "   \n",
    "        \n",
    "        \n",
    "\n",
    "for symbol in symbols:\n",
    "        url = root_url + '?symbol=' + symbol + '&interval=' + interval\n",
    "        data = json.loads(requests.get(url).text)\n",
    "        dflive = pd.DataFrame(data ,columns =['open_time',\n",
    "              'o', 'h', 'l', 'c', 'v',\n",
    "              'close_time', 'qav', 'num_trades',\n",
    "              'taker_base_vol', 'taker_quote_vol', 'ignore'])\n",
    "        dflive.open_time = pd.to_datetime(dflive['open_time'],unit='ms')\n",
    "        dflive=dflive.loc[(dflive.open_time>start)]\n",
    "        lastrow = dflive.iloc[-1]\n",
    "        now= float(lastrow.c)\n",
    "        alth = dflive.c.max()\n",
    "        altl = dflive.l.min()\n",
    "        \n",
    "        ## past 1 month \n",
    "        past_month = end - relativedelta(months=1)\n",
    "        \n",
    "        back1Mdata = dflive.loc[(dflive.open_time> past_month)]\n",
    "        omh = back1Mdata.h.max()\n",
    "        oml = back1Mdata.l.min()\n",
    "        ## past 2 month\n",
    "        \n",
    "        past_2month = end - relativedelta(months=2)\n",
    "        back2Mdata = dflive.loc[(dflive.open_time > past_2month)&(dflive.open_time < past_month)]\n",
    "        tmh = back2Mdata.h.max()\n",
    "        tml = back2Mdata.l.min()\n",
    "        ## past 3 month \n",
    "        \n",
    "        past_3month = end - relativedelta(months=3)\n",
    "        back3Mdata = dflive.loc[(dflive.open_time> past_3month)&(dflive.open_time < past_2month)]\n",
    "        thmh = back3Mdata.h.max()\n",
    "        thml = back3Mdata.l.min()\n",
    "        \n",
    "        ## lowest entiry\n",
    "        lowest = entries.loc[(entries.Indicator==symbol)].lowest_entry\n",
    "        easyseries = (easyband.loc[(easyband.Indicator==symbol)].SMA100.values)\n",
    "        #print(easyseries)\n",
    "        if easyseries.size>0:\n",
    "                easy = easyseries[0]\n",
    "        else:\n",
    "                easy = 0\n",
    " \n",
    "        tuple =(symbol,alth,altl,now,omh,oml,tmh,tml,thmh,thml,lowest,easy)\n",
    "        table.append(tuple)\n",
    "        #print(\"name is: \",symbol ,alth,altl)\n",
    "        \n",
    "\n",
    "table[0]\n",
    "AllTime = pd.DataFrame(table,columns=['Indicator','ATH','ATL','Current','OMH','OML','TMH','TML','THMH','THML','LOWEST','EASY'])\n",
    "AllTime.ATH=AllTime.ATH.astype(float)\n",
    "AllTime.ATL=AllTime.ATL.astype(float)\n",
    "AllTime.Current=AllTime.Current.astype(float)\n",
    "AllTime.OMH=AllTime.OMH.astype(float)\n",
    "AllTime.OML=AllTime.OML.astype(float)\n",
    "AllTime.TMH=AllTime.TMH.astype(float)\n",
    "AllTime.TML=AllTime.TML.astype(float)\n",
    "AllTime.THMH=AllTime.THMH.astype(float)\n",
    "AllTime.THML=AllTime.THML.astype(float)\n",
    "AllTime.LOWEST=AllTime.LOWEST.astype(float)\n",
    "AllTime.EASY=AllTime.EASY.astype(float)\n",
    "\n",
    "\n",
    "\n",
    "AllTime.dtypes\n",
    "\n",
    "AllTime['ALLTIME']=(AllTime['Current']/AllTime['ATH'])*100\n",
    "AllTime['MONTH']=(AllTime['Current']/AllTime['OMH'])*100\n",
    "AllTime['2MONTH']=(AllTime['Current']/AllTime['TMH'])*100\n",
    "AllTime['3MONTH']=(AllTime['Current']/AllTime['THMH'])*100\n",
    "AllTime['DROP']=((AllTime['Current']-AllTime['LOWEST'])/AllTime['LOWEST'])*100\n",
    "\n",
    "AllTime.sort_values(by=['ALLTIME'],ascending=True,inplace = True)\n",
    "#AllTime.sort_values(by='ATH',ascending=False)\n",
    "#AllTime.to_csv(\"alltimeHL.csv\", mode=\"w\")\n",
    "#data.sort_values(\"Name\", axis = 0, ascending = True,inplace = True, na_position ='last')\n",
    "\n",
    "## Display the Data \n",
    "AllTime.shape\n",
    "\n"
   ]
  },
  {
   "cell_type": "code",
   "execution_count": 51,
   "id": "d0bf9782",
   "metadata": {
    "scrolled": true
   },
   "outputs": [
    {
     "name": "stdout",
     "output_type": "stream",
     "text": [
      "    Indicator     ALLTIME  EASY       DROP   LOWEST  Current\n",
      "7     MIRUSDT   42.387420   0.0 -49.381135   2.3430   1.1860\n",
      "22   CAKEUSDT   84.295846   0.0 -25.978648  11.2400   8.3200\n",
      "12   NEARUSDT  108.391889   0.0 -22.871429  14.0000  10.7980\n",
      "17    CRVUSDT   46.069302   0.0 -14.480023   3.5290   3.0180\n",
      "18    IMXUSDT   56.399338   0.0 -11.997047   2.7090   2.3840\n",
      "24    HNTUSDT   56.912979   0.0 -10.400000  30.0000  26.8800\n",
      "2    WAXPUSDT   37.361335   0.0  -9.140911   0.3818   0.3469\n",
      "21  SUSHIUSDT   42.254230   0.0  -7.231314   4.5220   4.1950\n",
      "Empty DataFrame\n",
      "Columns: [Indicator, ALLTIME, EASY, DROP, LOWEST, Current]\n",
      "Index: []\n",
      "Empty DataFrame\n",
      "Columns: [Indicator, ALLTIME, EASY, DROP, LOWEST, Current]\n",
      "Index: []\n"
     ]
    },
    {
     "name": "stderr",
     "output_type": "stream",
     "text": [
      "/Users/hjabbour/opt/anaconda3/envs/cryptodev/lib/python3.8/site-packages/pandas/util/_decorators.py:311: SettingWithCopyWarning: \n",
      "A value is trying to be set on a copy of a slice from a DataFrame\n",
      "\n",
      "See the caveats in the documentation: https://pandas.pydata.org/pandas-docs/stable/user_guide/indexing.html#returning-a-view-versus-a-copy\n",
      "  return func(*args, **kwargs)\n"
     ]
    }
   ],
   "source": [
    "## Display the Data coins run last  Month\n",
    "\n",
    "#drop = AllTime.loc[(AllTime['MONTH'] < 35)]\n",
    "#drop = AllTime.loc[(AllTime['MONTH'] < 70)]\n",
    "#drop = AllTime.loc[(AllTime['MONTH'] < 80)&(AllTime['2MONTH'] < 70)&(AllTime['ALLTIME'] < 40)]\n",
    "drop = AllTime.loc[(AllTime['Current'] < AllTime['LOWEST'])]\n",
    "\n",
    "#sort = drop.sort_values(by=['EASY'],ascending=False,inplace = True)\n",
    "sort = drop.sort_values(by=['DROP'],ascending=True,inplace = True)\n",
    "\n",
    "#drop = drop.loc[(drop['ALLTIME'] < drop['3MONTH'])]\n",
    "display = drop[['Indicator','ALLTIME','EASY','DROP','LOWEST','Current']]\n",
    "\n",
    "print(display.iloc[0:60,0:14])\n",
    "print(display.iloc[60:110,])\n",
    "print(display.iloc[110:160,])\n",
    "\n",
    "\n"
   ]
  },
  {
   "cell_type": "code",
   "execution_count": null,
   "id": "2729a06c",
   "metadata": {},
   "outputs": [],
   "source": []
  },
  {
   "cell_type": "code",
   "execution_count": null,
   "id": "603bc50b",
   "metadata": {},
   "outputs": [],
   "source": []
  },
  {
   "cell_type": "code",
   "execution_count": null,
   "id": "17acb1e1",
   "metadata": {},
   "outputs": [],
   "source": []
  },
  {
   "cell_type": "code",
   "execution_count": null,
   "id": "78bdc5de",
   "metadata": {},
   "outputs": [],
   "source": []
  }
 ],
 "metadata": {
  "kernelspec": {
   "display_name": "Python 3 (ipykernel)",
   "language": "python",
   "name": "python3"
  },
  "language_info": {
   "codemirror_mode": {
    "name": "ipython",
    "version": 3
   },
   "file_extension": ".py",
   "mimetype": "text/x-python",
   "name": "python",
   "nbconvert_exporter": "python",
   "pygments_lexer": "ipython3",
   "version": "3.8.12"
  }
 },
 "nbformat": 4,
 "nbformat_minor": 5
}
