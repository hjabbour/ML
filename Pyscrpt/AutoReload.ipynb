{
 "cells": [
  {
   "cell_type": "code",
   "execution_count": 1,
   "id": "9ef5bd44",
   "metadata": {},
   "outputs": [],
   "source": [
    "import os\n",
    "import subprocess\n",
    "import schedule\n",
    "import time\n",
    "import datetime\n",
    "from datetime import date\n",
    "import json"
   ]
  },
  {
   "cell_type": "code",
   "execution_count": 2,
   "id": "75efae15",
   "metadata": {},
   "outputs": [],
   "source": [
    "def updateconf(conf,pairlist):\n",
    "    test = {}\n",
    "    with open(conf, \"r\") as jsonFile:\n",
    "        data = json.load(jsonFile)\n",
    "    test= data['exchange']\n",
    "    with open(pairlist, \"r\") as wlf:\n",
    "        wl = json.load(wlf)\n",
    "        wl= json.loads(wl)\n",
    "    test['pair_whitelist']=wl\n",
    "    with open(conf, \"w\") as jsonFile:\n",
    "        jsonFile.seek(0)\n",
    "        json.dump(data, jsonFile,indent=4)\n",
    "        \n",
    "## Reload \n",
    "def reloadbot() :\n",
    "    subprocess.Popen([\"python3\", \"rest_client.py\",  \"--config\", \"config3.json\",  \"reload_config\"])\n",
    "    \n",
    "def reloadvarbot(config,pairlist) :\n",
    "    updateconf(config,pairlist)\n",
    "    subprocess.Popen([\"python3\", \"rest_client.py\",  \"--config\", config,  \"reload_config\"])"
   ]
  },
  {
   "cell_type": "code",
   "execution_count": 3,
   "id": "200642e8",
   "metadata": {},
   "outputs": [],
   "source": [
    "updateconf(\"config3.json\",\"whitelistfile.json\")"
   ]
  },
  {
   "cell_type": "code",
   "execution_count": 4,
   "id": "acd71729",
   "metadata": {},
   "outputs": [
    {
     "name": "stderr",
     "output_type": "stream",
     "text": [
      "python3: can't open file 'rest_client.py': [Errno 2] No such file or directory\n"
     ]
    }
   ],
   "source": [
    "reloadvarbot(\"config3.json\",\"whitelistfile.json\")"
   ]
  },
  {
   "cell_type": "code",
   "execution_count": 11,
   "id": "53890a11",
   "metadata": {},
   "outputs": [
    {
     "name": "stderr",
     "output_type": "stream",
     "text": [
      "python3: can't open file 'rest_client.py': [Errno 2] No such file or directory\n"
     ]
    }
   ],
   "source": [
    "## Reload \n",
    "#reloadbot()"
   ]
  },
  {
   "cell_type": "code",
   "execution_count": null,
   "id": "791569a7",
   "metadata": {},
   "outputs": [],
   "source": []
  }
 ],
 "metadata": {
  "kernelspec": {
   "display_name": "Python 3 (ipykernel)",
   "language": "python",
   "name": "python3"
  },
  "language_info": {
   "codemirror_mode": {
    "name": "ipython",
    "version": 3
   },
   "file_extension": ".py",
   "mimetype": "text/x-python",
   "name": "python",
   "nbconvert_exporter": "python",
   "pygments_lexer": "ipython3",
   "version": "3.8.12"
  }
 },
 "nbformat": 4,
 "nbformat_minor": 5
}
