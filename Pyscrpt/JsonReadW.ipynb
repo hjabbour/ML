{
 "cells": [
  {
   "cell_type": "code",
   "execution_count": 3,
   "id": "dfefc23d",
   "metadata": {},
   "outputs": [
    {
     "name": "stdout",
     "output_type": "stream",
     "text": [
      "{'max_open_trades': 50, 'stake_currency': 'USDT', 'stake_amount': 20, 'tradable_balance_ratio': 0.9, 'fiat_display_currency': 'USD', 'timeframe': '1h', 'dry_run': True, 'cancel_open_orders_on_exit': False, 'unfilledtimeout': {'buy': 10, 'sell': 30}, 'bid_strategy': {'price_side': 'bid', 'ask_last_balance': 1.0, 'use_order_book': False, 'order_book_top': 1, 'check_depth_of_market': {'enabled': False, 'bids_to_ask_delta': 1}}, 'ask_strategy': {'price_side': 'ask', 'use_order_book': False, 'order_book_min': 1, 'order_book_max': 1, 'use_sell_signal': True, 'sell_profit_only': True, 'ignore_buying_expired_candle_after': 600, 'ignore_roi_if_buy_signal': False}, 'exchange': {'name': 'binance', 'key': 'eqPyL8a89r7IyuyfDvC2CxdNAJiwulV6VP83aYMo1gpLXTrQnBj1lXbrAtQihoTZ', 'secret': 'oBPWyqkIHm5ZFTlbnlEYBymVjxVonVSUIj2muiLd1vU3JWD3onR2gOWfpF8FiVBQ', 'ccxt_config': {'enableRateLimit': True}, 'ccxt_async_config': {'enableRateLimit': True, 'rateLimit': 600}, 'pair_whitelist': ['ATOM/USDT', 'BAT/USDT', 'EOS/USDT', 'IOTA/USDT', 'LINK/USDT', 'LTC/USDT', 'NEO/USDT', 'XRP/USDT', 'XTZ/USDT', 'CHZ/USDT', 'VET/USDT', 'STORJ/USDT', 'ANKR/USDT', 'ONE/USDT', 'THETA/USDT', 'ONT/USDT', 'STMX/USDT', 'REEF/USDT', 'SC/USDT', 'ADA/USDT', 'TRX/USDT', 'COTI/USDT', 'NPXS/USDT', 'BTT/USDT', 'DENT/USDT', 'VTHO/USDT', 'MBL/USDT', 'KEY/USDT', 'FUN/USDT', 'IOTX/USDT', 'RSR/USDT', 'AUDIO/USDT', 'ZIL/USDT', 'HBAR/USDT', 'TFUEL/USDT', 'ALGO/USDT', 'OCEAN/USDT', 'ENJ/USDT', 'SXP/USDT', '1INCH/USDT', 'AVA/USDT', 'CAKE/USDT', 'LUNA/USDT', 'PERL/USDT', 'NBS/USDT', 'CRV/USDT', 'HOT/USDT', 'HIVE/USDT', 'DOGE/USDT', 'MANA/USDT', 'WIN/USDT', 'CHR/USDT', 'RVN/USDT', 'MATIC/USDT', 'BLZ/USDT'], 'pair_blacklist': ['BNB/BTC', 'BNB/BUSD', 'BNB/ETH', 'BNB/EUR', 'BNB/NGN', 'BNB/PAX', 'BNB/RUB', 'BNB/TRY', 'BNB/TUSD', 'BNB/USDC', 'BNB/USDS', 'BNB/USDT', 'AUD/USDT', 'EUR/USDT', 'GBP/USDT', 'USDC/USDT', 'FIL/USDT']}, 'pairlists': [{'method': 'StaticPairList'}], 'edge': {'enabled': False, 'process_throttle_secs': 3600, 'calculate_since_number_of_days': 7, 'allowed_risk': 0.01, 'stoploss_range_min': -0.01, 'stoploss_range_max': -0.1, 'stoploss_range_step': -0.01, 'minimum_winrate': 0.6, 'minimum_expectancy': 0.2, 'min_trade_number': 10, 'max_trade_duration_minute': 1440, 'remove_pumps': False}, 'telegram': {'enabled': False, 'token': 'your_telegram_token', 'chat_id': 'your_telegram_chat_id'}, 'api_server': {'enabled': False, 'listen_ip_address': '127.0.0.1', 'listen_port': 8080, 'verbosity': 'error', 'jwt_secret_key': 'somethingrandom', 'CORS_origins': [], 'username': 'freqtrader', 'password': 'SuperSecurePassword'}, 'bot_name': 'dckcrpt1_bot', 'initial_state': 'running', 'forcebuy_enable': False, 'internals': {'process_throttle_secs': 5}}\n"
     ]
    }
   ],
   "source": [
    "import json\n",
    " \n",
    "with open(\"config_binance.example.json\", \"r\") as jsonFile:\n",
    "#with open(\"config-205.json\", \"r\") as jsonFile:\n",
    "\n",
    "    data = json.load(jsonFile)\n",
    "    print(data)\n",
    "\n",
    "#print(data)\n",
    "#data[\"location\"] = \"NewPath\"\n",
    "\n"
   ]
  },
  {
   "cell_type": "code",
   "execution_count": 9,
   "id": "d153063b",
   "metadata": {},
   "outputs": [
    {
     "name": "stdout",
     "output_type": "stream",
     "text": [
      "{'max_open_trades': 50, 'stake_currency': 'USDT', 'stake_amount': 20, 'tradable_balance_ratio': 0.9, 'fiat_display_currency': 'USD', 'timeframe': '1h', 'dry_run': True, 'cancel_open_orders_on_exit': False, 'unfilledtimeout': {'buy': 10, 'sell': 30}, 'bid_strategy': {'price_side': 'bid', 'ask_last_balance': 1.0, 'use_order_book': False, 'order_book_top': 1, 'check_depth_of_market': {'enabled': False, 'bids_to_ask_delta': 1}}, 'ask_strategy': {'price_side': 'ask', 'use_order_book': False, 'order_book_min': 1, 'order_book_max': 1, 'use_sell_signal': True, 'sell_profit_only': True, 'ignore_buying_expired_candle_after': 600, 'ignore_roi_if_buy_signal': False}, 'exchange': {'name': 'binance', 'key': 'eqPyL8a89r7IyuyfDvC2CxdNAJiwulV6VP83aYMo1gpLXTrQnBj1lXbrAtQihoTZ', 'secret': 'oBPWyqkIHm5ZFTlbnlEYBymVjxVonVSUIj2muiLd1vU3JWD3onR2gOWfpF8FiVBQ', 'ccxt_config': {'enableRateLimit': True}, 'ccxt_async_config': {'enableRateLimit': True, 'rateLimit': 600}, 'pair_whitelist': ['LINK/USDT', 'MATIC/USDT', 'DOT/USDT'], 'pair_blacklist': ['BNB/BTC', 'BNB/BUSD', 'BNB/ETH', 'BNB/EUR', 'BNB/NGN', 'BNB/PAX', 'BNB/RUB', 'BNB/TRY', 'BNB/TUSD', 'BNB/USDC', 'BNB/USDS', 'BNB/USDT', 'AUD/USDT', 'EUR/USDT', 'GBP/USDT', 'USDC/USDT', 'FIL/USDT']}, 'pairlists': [{'method': 'StaticPairList'}], 'edge': {'enabled': False, 'process_throttle_secs': 3600, 'calculate_since_number_of_days': 7, 'allowed_risk': 0.01, 'stoploss_range_min': -0.01, 'stoploss_range_max': -0.1, 'stoploss_range_step': -0.01, 'minimum_winrate': 0.6, 'minimum_expectancy': 0.2, 'min_trade_number': 10, 'max_trade_duration_minute': 1440, 'remove_pumps': False}, 'telegram': {'enabled': False, 'token': 'your_telegram_token', 'chat_id': 'your_telegram_chat_id'}, 'api_server': {'enabled': False, 'listen_ip_address': '127.0.0.1', 'listen_port': 8080, 'verbosity': 'error', 'jwt_secret_key': 'somethingrandom', 'CORS_origins': [], 'username': 'freqtrader', 'password': 'SuperSecurePassword'}, 'bot_name': 'dckcrpt1_bot', 'initial_state': 'running', 'forcebuy_enable': False, 'internals': {'process_throttle_secs': 5}}\n"
     ]
    }
   ],
   "source": [
    "import json\n",
    "\n",
    "whitelist = ['LINK/USDT', 'MATIC/USDT','DOT/USDT']\n",
    "test = {}\n",
    "\n",
    "with open(\"config_binance.example.json\", \"r\") as jsonFile:\n",
    "    data = json.load(jsonFile)\n",
    "    \n",
    "jsonFile.close()\n",
    "#data['pair_whitelist']=whitelist\n",
    "\n",
    "\n",
    "test= data['exchange']\n",
    "test ['pair_whitelist']=whitelist\n",
    "print (data)\n",
    "#print(data['max_open_trade'])\n",
    "\n",
    "with open(\"testconfig.json\", \"w\") as jsonFile:\n",
    "    jsonFile.seek(0)\n",
    "    json.dump(data, jsonFile,indent=4)\n",
    "    \n",
    "jsonFile.close()"
   ]
  },
  {
   "cell_type": "code",
   "execution_count": 5,
   "id": "25b45cd5",
   "metadata": {},
   "outputs": [
    {
     "ename": "KeyError",
     "evalue": "'pair_whitelist'",
     "output_type": "error",
     "traceback": [
      "\u001b[0;31m---------------------------------------------------------------------------\u001b[0m",
      "\u001b[0;31mKeyError\u001b[0m                                  Traceback (most recent call last)",
      "\u001b[0;32m/tmp/ipykernel_36048/1303780145.py\u001b[0m in \u001b[0;36m<module>\u001b[0;34m\u001b[0m\n\u001b[1;32m     16\u001b[0m     }\n\u001b[1;32m     17\u001b[0m \u001b[0;34m\u001b[0m\u001b[0m\n\u001b[0;32m---> 18\u001b[0;31m \u001b[0mwrite_json\u001b[0m\u001b[0;34m(\u001b[0m\u001b[0my\u001b[0m\u001b[0;34m)\u001b[0m\u001b[0;34m\u001b[0m\u001b[0;34m\u001b[0m\u001b[0m\n\u001b[0m",
      "\u001b[0;32m/tmp/ipykernel_36048/1303780145.py\u001b[0m in \u001b[0;36mwrite_json\u001b[0;34m(new_data, filename)\u001b[0m\n\u001b[1;32m      4\u001b[0m         \u001b[0mfile_data\u001b[0m \u001b[0;34m=\u001b[0m \u001b[0mjson\u001b[0m\u001b[0;34m.\u001b[0m\u001b[0mload\u001b[0m\u001b[0;34m(\u001b[0m\u001b[0mfile\u001b[0m\u001b[0;34m)\u001b[0m\u001b[0;34m\u001b[0m\u001b[0;34m\u001b[0m\u001b[0m\n\u001b[1;32m      5\u001b[0m         \u001b[0;31m# Join new_data with file_data inside emp_details\u001b[0m\u001b[0;34m\u001b[0m\u001b[0;34m\u001b[0m\u001b[0;34m\u001b[0m\u001b[0m\n\u001b[0;32m----> 6\u001b[0;31m         \u001b[0mfile_data\u001b[0m\u001b[0;34m[\u001b[0m\u001b[0;34m\"pair_whitelist\"\u001b[0m\u001b[0;34m]\u001b[0m\u001b[0;34m.\u001b[0m\u001b[0mappend\u001b[0m\u001b[0;34m(\u001b[0m\u001b[0mnew_data\u001b[0m\u001b[0;34m)\u001b[0m\u001b[0;34m\u001b[0m\u001b[0;34m\u001b[0m\u001b[0m\n\u001b[0m\u001b[1;32m      7\u001b[0m         \u001b[0;31m# Sets file's current position at offset.\u001b[0m\u001b[0;34m\u001b[0m\u001b[0;34m\u001b[0m\u001b[0;34m\u001b[0m\u001b[0m\n\u001b[1;32m      8\u001b[0m         \u001b[0mfile\u001b[0m\u001b[0;34m.\u001b[0m\u001b[0mseek\u001b[0m\u001b[0;34m(\u001b[0m\u001b[0;36m0\u001b[0m\u001b[0;34m)\u001b[0m\u001b[0;34m\u001b[0m\u001b[0;34m\u001b[0m\u001b[0m\n",
      "\u001b[0;31mKeyError\u001b[0m: 'pair_whitelist'"
     ]
    }
   ],
   "source": [
    "def write_json(new_data, filename='config_binance.example.json'):\n",
    "    with open(filename,'r+') as file:\n",
    "          # First we load existing data into a dict.\n",
    "        file_data = json.load(file)\n",
    "        # Join new_data with file_data inside emp_details\n",
    "        file_data[\"pair_whitelist\"].append(new_data)\n",
    "        # Sets file's current position at offset.\n",
    "        file.seek(0)\n",
    "        # convert back to json.\n",
    "        json.dump(file_data, file, indent = 4)\n",
    " \n",
    "    # python object to be appended\n",
    "y = {\"emp_name\":\"Nikhil\",\n",
    "     \"email\": \"nikhil@geeksforgeeks.org\",\n",
    "     \"job_profile\": \"Full Time\"\n",
    "    }\n",
    "     \n",
    "write_json(y)"
   ]
  },
  {
   "cell_type": "code",
   "execution_count": null,
   "id": "69c53d19",
   "metadata": {},
   "outputs": [],
   "source": []
  }
 ],
 "metadata": {
  "kernelspec": {
   "display_name": "Python 3 (ipykernel)",
   "language": "python",
   "name": "python3"
  },
  "language_info": {
   "codemirror_mode": {
    "name": "ipython",
    "version": 3
   },
   "file_extension": ".py",
   "mimetype": "text/x-python",
   "name": "python",
   "nbconvert_exporter": "python",
   "pygments_lexer": "ipython3",
   "version": "3.7.11"
  }
 },
 "nbformat": 4,
 "nbformat_minor": 5
}
