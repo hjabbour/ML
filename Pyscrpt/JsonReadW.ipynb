{
 "cells": [
  {
   "cell_type": "code",
   "execution_count": null,
   "id": "be9570e9",
   "metadata": {},
   "outputs": [],
   "source": [
    "import os\n",
    "import subprocess\n",
    "import schedule\n",
    "import time\n",
    "import datetime\n",
    "from datetime import date\n",
    "import json\n"
   ]
  },
  {
   "cell_type": "markdown",
   "id": "a9c85574",
   "metadata": {},
   "source": [
    "## Change the white list"
   ]
  },
  {
   "cell_type": "code",
   "execution_count": 4,
   "id": "d153063b",
   "metadata": {
    "scrolled": true
   },
   "outputs": [
    {
     "ename": "FileNotFoundError",
     "evalue": "[Errno 2] No such file or directory: 'freqlive3/freqtrade3/user_data/config.json'",
     "output_type": "error",
     "traceback": [
      "\u001b[0;31m---------------------------------------------------------------------------\u001b[0m",
      "\u001b[0;31mFileNotFoundError\u001b[0m                         Traceback (most recent call last)",
      "\u001b[0;32m/var/folders/t3/7kfp7_l943j4z41f1p54xwdm0000gn/T/ipykernel_65441/1064253805.py\u001b[0m in \u001b[0;36m<module>\u001b[0;34m\u001b[0m\n\u001b[1;32m      2\u001b[0m \u001b[0mtest\u001b[0m \u001b[0;34m=\u001b[0m \u001b[0;34m{\u001b[0m\u001b[0;34m}\u001b[0m\u001b[0;34m\u001b[0m\u001b[0;34m\u001b[0m\u001b[0m\n\u001b[1;32m      3\u001b[0m \u001b[0;34m\u001b[0m\u001b[0m\n\u001b[0;32m----> 4\u001b[0;31m \u001b[0;32mwith\u001b[0m \u001b[0mopen\u001b[0m\u001b[0;34m(\u001b[0m\u001b[0;34m\"freqlive3/freqtrade3/user_data/config.json\"\u001b[0m\u001b[0;34m,\u001b[0m \u001b[0;34m\"r\"\u001b[0m\u001b[0;34m)\u001b[0m \u001b[0;32mas\u001b[0m \u001b[0mjsonFile\u001b[0m\u001b[0;34m:\u001b[0m\u001b[0;34m\u001b[0m\u001b[0;34m\u001b[0m\u001b[0m\n\u001b[0m\u001b[1;32m      5\u001b[0m     \u001b[0mdata\u001b[0m \u001b[0;34m=\u001b[0m \u001b[0mjson\u001b[0m\u001b[0;34m.\u001b[0m\u001b[0mload\u001b[0m\u001b[0;34m(\u001b[0m\u001b[0mjsonFile\u001b[0m\u001b[0;34m)\u001b[0m\u001b[0;34m\u001b[0m\u001b[0;34m\u001b[0m\u001b[0m\n\u001b[1;32m      6\u001b[0m \u001b[0;34m\u001b[0m\u001b[0m\n",
      "\u001b[0;31mFileNotFoundError\u001b[0m: [Errno 2] No such file or directory: 'freqlive3/freqtrade3/user_data/config.json'"
     ]
    }
   ],
   "source": [
    "\n",
    "\n",
    "whitelist = ['LINK/USDT', 'MATIC/USDT','DOT/USDT']\n",
    "test = {}\n",
    "\n",
    "with open(\"freqlive3/freqtrade3/user_data/config.json\", \"r\") as jsonFile:\n",
    "    data = json.load(jsonFile)\n",
    "    \n",
    "jsonFile.close()\n",
    "\n",
    "\n",
    "test= data['exchange']\n",
    "test ['pair_whitelist']=whitelist\n",
    "\n",
    "with open(\"freqlive3/freqtrade3/user_data/config.json\", \"w\") as jsonFile:\n",
    "    jsonFile.seek(0)\n",
    "    json.dump(data, jsonFile,indent=4)\n"
   ]
  },
  {
   "cell_type": "markdown",
   "id": "24bd35ea",
   "metadata": {},
   "source": [
    "# Reload through API"
   ]
  },
  {
   "cell_type": "markdown",
   "id": "2ccca36a",
   "metadata": {},
   "source": [
    "#python3 rest_client.py  --config freqlive3/freqtrade3/user_data/config.json  reload_config"
   ]
  },
  {
   "cell_type": "code",
   "execution_count": null,
   "id": "08f2f121",
   "metadata": {},
   "outputs": [],
   "source": [
    "subprocess.Popen([\"python3\", \"rest_client.py\",  \"--config\", \"freqlive3/freqtrade3/user_data/config.json\",  \"reload_config\"])"
   ]
  }
 ],
 "metadata": {
  "kernelspec": {
   "display_name": "Python 3 (ipykernel)",
   "language": "python",
   "name": "python3"
  },
  "language_info": {
   "codemirror_mode": {
    "name": "ipython",
    "version": 3
   },
   "file_extension": ".py",
   "mimetype": "text/x-python",
   "name": "python",
   "nbconvert_exporter": "python",
   "pygments_lexer": "ipython3",
   "version": "3.8.12"
  }
 },
 "nbformat": 4,
 "nbformat_minor": 5
}
