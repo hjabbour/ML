{
 "cells": [
  {
   "cell_type": "code",
   "execution_count": 49,
   "id": "65ee0fe4",
   "metadata": {},
   "outputs": [],
   "source": [
    "import os\n",
    "import subprocess\n",
    "import schedule\n",
    "import time\n",
    "import datetime\n",
    "from datetime import date\n",
    "import json"
   ]
  },
  {
   "cell_type": "code",
   "execution_count": 58,
   "id": "7ea3e5e0",
   "metadata": {},
   "outputs": [],
   "source": [
    "def updateconf(conf,pairlist):\n",
    "    test = {}\n",
    "    with open(conf, \"r\") as jsonFile:\n",
    "        data = json.load(jsonFile)\n",
    "    test= data['exchange']\n",
    "    with open(pairlist, \"r\") as wlf:\n",
    "        wl = json.load(wlf)\n",
    "        wl= json.loads(wl)\n",
    "    test ['pair_whitelist']=wl\n",
    "    with open(conf, \"w\") as jsonFile:\n",
    "        jsonFile.seek(0)\n",
    "        json.dump(data, jsonFile,indent=4)\n",
    "        \n",
    "## Reload \n",
    "def reloadbot() :\n",
    "    subprocess.Popen([\"python3\", \"rest_client.py\",  \"--config\", \"config3.json\",  \"reload_config\"])\n",
    "    \n",
    "def reloadvarbot(config) :\n",
    "    subprocess.Popen([\"python3\", \"rest_client.py\",  \"--config\", config,  \"reload_config\"])"
   ]
  },
  {
   "cell_type": "code",
   "execution_count": 55,
   "id": "3b518cb6",
   "metadata": {},
   "outputs": [],
   "source": [
    "updateconf(\"config3.json\",\"whitelistfile.json\")"
   ]
  },
  {
   "cell_type": "code",
   "execution_count": 43,
   "id": "f75e8701",
   "metadata": {},
   "outputs": [],
   "source": [
    "## Write Json list data\n",
    "whitelist = ['LINK/USDT', 'MATIC/USDT','DOT/USDT','AVAX/USDT']\n",
    "test = json.dumps(whitelist)\n",
    "\n",
    "## Update whitelist \n",
    "with open(\"whitelistfile.json\", \"w\") as wlf:\n",
    "    json.dump(test, wlf,indent=4)\n",
    "\n",
    "#test = json.dumps(whitelist)\n",
    "#whitelist"
   ]
  },
  {
   "cell_type": "code",
   "execution_count": 56,
   "id": "f6e0efed",
   "metadata": {},
   "outputs": [
    {
     "name": "stdout",
     "output_type": "stream",
     "text": [
      "[\"MIR/USDT\", \"LINK/USDT\", \"REEF/USDT\", \"BAND/USDT\", \"SUSHI/USDT\", \"LRC/USDT\", \"ONT/USDT\", \"WIN/USDT\", \"COTI/USDT\", \"ANKR/USDT\", \"GRT/USDT\", \"XLM/USDT\", \"CTSI/USDT\"]\n"
     ]
    }
   ],
   "source": [
    "## Read Json list data\n",
    "with open(\"whitelistfile.json\", \"r\") as wlf:\n",
    "        wl = json.load(wlf)\n",
    "wl\n",
    "print(wl)\n"
   ]
  },
  {
   "cell_type": "code",
   "execution_count": 40,
   "id": "86a6f1c7",
   "metadata": {},
   "outputs": [],
   "source": [
    "## Update config \n",
    "\n",
    "test = {}\n",
    "\n",
    "with open(\"config3.json\", \"r\") as jsonFile:\n",
    "    data = json.load(jsonFile)\n",
    "    \n",
    "\n",
    "test= data['exchange']\n",
    "test ['pair_whitelist']=whitelist\n",
    "\n",
    "with open(\"config3.json\", \"w\") as jsonFile:\n",
    "    jsonFile.seek(0)\n",
    "    json.dump(data, jsonFile,indent=4)"
   ]
  },
  {
   "cell_type": "code",
   "execution_count": 57,
   "id": "87ed0444",
   "metadata": {},
   "outputs": [
    {
     "name": "stderr",
     "output_type": "stream",
     "text": [
      "python3: can't open file 'rest_client.py': [Errno 2] No such file or directory\n"
     ]
    }
   ],
   "source": [
    "## Reload \n",
    "reloadbot()"
   ]
  },
  {
   "cell_type": "code",
   "execution_count": 59,
   "id": "8ea5da4b",
   "metadata": {},
   "outputs": [
    {
     "name": "stderr",
     "output_type": "stream",
     "text": [
      "python3: can't open file 'rest_client.py': [Errno 2] No such file or directory\n"
     ]
    }
   ],
   "source": [
    "reloadvarbot(\"config3.json\")"
   ]
  },
  {
   "cell_type": "code",
   "execution_count": null,
   "id": "bf91a56c",
   "metadata": {},
   "outputs": [],
   "source": []
  }
 ],
 "metadata": {
  "kernelspec": {
   "display_name": "Python 3 (ipykernel)",
   "language": "python",
   "name": "python3"
  },
  "language_info": {
   "codemirror_mode": {
    "name": "ipython",
    "version": 3
   },
   "file_extension": ".py",
   "mimetype": "text/x-python",
   "name": "python",
   "nbconvert_exporter": "python",
   "pygments_lexer": "ipython3",
   "version": "3.8.12"
  }
 },
 "nbformat": 4,
 "nbformat_minor": 5
}
