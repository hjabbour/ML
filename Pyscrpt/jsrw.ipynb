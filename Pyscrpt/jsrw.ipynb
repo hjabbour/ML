{
 "cells": [
  {
   "cell_type": "code",
   "execution_count": 49,
   "id": "ec0df73a",
   "metadata": {},
   "outputs": [],
   "source": [
    "import os\n",
    "import subprocess\n",
    "import schedule\n",
    "import time\n",
    "import datetime\n",
    "from datetime import date\n",
    "import json"
   ]
  },
  {
   "cell_type": "code",
   "execution_count": 58,
   "id": "4f552c6f",
   "metadata": {},
   "outputs": [],
   "source": [
    "def updateconf(conf,pairlist):\n",
    "    test = {}\n",
    "    with open(conf, \"r\") as jsonFile:\n",
    "        data = json.load(jsonFile)\n",
    "    test= data['exchange']\n",
    "    with open(pairlist, \"r\") as wlf:\n",
    "        wl = json.load(wlf)\n",
    "        wl= json.loads(wl)\n",
    "    test ['pair_whitelist']=wl\n",
    "    with open(conf, \"w\") as jsonFile:\n",
    "        jsonFile.seek(0)\n",
    "        json.dump(data, jsonFile,indent=4)\n",
    "        \n",
    "## Reload \n",
    "def reloadbot() :\n",
    "    subprocess.Popen([\"python3\", \"rest_client.py\",  \"--config\", \"config3.json\",  \"reload_config\"])\n",
    "    \n",
    "def reloadvarbot(config) :\n",
    "    subprocess.Popen([\"python3\", \"rest_client.py\",  \"--config\", config,  \"reload_config\"])"
   ]
  },
  {
   "cell_type": "code",
   "execution_count": 55,
   "id": "bb6b45cc",
   "metadata": {},
   "outputs": [],
   "source": [
    "updateconf(\"config3.json\",\"whitelistfile.json\")"
   ]
  },
  {
   "cell_type": "code",
   "execution_count": 43,
   "id": "78e2799e",
   "metadata": {},
   "outputs": [],
   "source": [
    "## Write Json list data\n",
    "whitelist = ['LINK/USDT', 'MATIC/USDT','DOT/USDT','AVAX/USDT']\n",
    "test = json.dumps(whitelist)\n",
    "\n",
    "## Update whitelist \n",
    "with open(\"whitelistfile.json\", \"w\") as wlf:\n",
    "    json.dump(test, wlf,indent=4)\n",
    "\n",
    "#test = json.dumps(whitelist)\n",
    "#whitelist"
   ]
  },
  {
   "cell_type": "code",
   "execution_count": 56,
   "id": "efa6fed4",
   "metadata": {},
   "outputs": [
    {
     "name": "stdout",
     "output_type": "stream",
     "text": [
      "[\"MIR/USDT\", \"LINK/USDT\", \"REEF/USDT\", \"BAND/USDT\", \"SUSHI/USDT\", \"LRC/USDT\", \"ONT/USDT\", \"WIN/USDT\", \"COTI/USDT\", \"ANKR/USDT\", \"GRT/USDT\", \"XLM/USDT\", \"CTSI/USDT\"]\n"
     ]
    }
   ],
   "source": [
    "## Read Json list data\n",
    "with open(\"whitelistfile.json\", \"r\") as wlf:\n",
    "        wl = json.load(wlf)\n",
    "wl\n",
    "print(wl)\n"
   ]
  },
  {
   "cell_type": "code",
   "execution_count": 40,
   "id": "f710506b",
   "metadata": {},
   "outputs": [],
   "source": [
    "## Update config \n",
    "\n",
    "test = {}\n",
    "\n",
    "with open(\"config3.json\", \"r\") as jsonFile:\n",
    "    data = json.load(jsonFile)\n",
    "    \n",
    "\n",
    "test= data['exchange']\n",
    "test ['pair_whitelist']=whitelist\n",
    "\n",
    "with open(\"config3.json\", \"w\") as jsonFile:\n",
    "    jsonFile.seek(0)\n",
    "    json.dump(data, jsonFile,indent=4)"
   ]
  },
  {
   "cell_type": "code",
   "execution_count": 57,
   "id": "9c55a7a2",
   "metadata": {},
   "outputs": [
    {
     "name": "stderr",
     "output_type": "stream",
     "text": [
      "python3: can't open file 'rest_client.py': [Errno 2] No such file or directory\n"
     ]
    }
   ],
   "source": [
    "## Reload \n",
    "reloadbot()"
   ]
  },
  {
   "cell_type": "code",
   "execution_count": 59,
   "id": "61958e4b",
   "metadata": {},
   "outputs": [
    {
     "name": "stderr",
     "output_type": "stream",
     "text": [
      "python3: can't open file 'rest_client.py': [Errno 2] No such file or directory\n"
     ]
    }
   ],
   "source": [
    "reloadvarbot(\"config3.json\")"
   ]
  },
  {
   "cell_type": "code",
   "execution_count": null,
   "id": "0e316737",
   "metadata": {},
   "outputs": [],
   "source": []
  }
 ],
 "metadata": {
  "kernelspec": {
   "display_name": "Python 3 (ipykernel)",
   "language": "python",
   "name": "python3"
  },
  "language_info": {
   "codemirror_mode": {
    "name": "ipython",
    "version": 3
   },
   "file_extension": ".py",
   "mimetype": "text/x-python",
   "name": "python",
   "nbconvert_exporter": "python",
   "pygments_lexer": "ipython3",
   "version": "3.8.12"
  }
 },
 "nbformat": 4,
 "nbformat_minor": 5
}
