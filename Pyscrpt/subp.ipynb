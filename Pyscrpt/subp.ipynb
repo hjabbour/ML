{
 "cells": [
  {
   "cell_type": "code",
   "execution_count": 1,
   "id": "703640b5",
   "metadata": {},
   "outputs": [],
   "source": [
    "import os\n",
    "import subprocess\n",
    "import schedule\n",
    "import time\n",
    "import datetime\n",
    "from datetime import date\n",
    "\n",
    "\n",
    "#cwd = os.getcwd()\n",
    "#print(cwd)"
   ]
  },
  {
   "cell_type": "code",
   "execution_count": 2,
   "id": "3bb19bef",
   "metadata": {},
   "outputs": [
    {
     "name": "stdout",
     "output_type": "stream",
     "text": [
      "/Users/hjabbour/Documents/GitHub/ML/Pyscrpt\n"
     ]
    },
    {
     "data": {
      "text/plain": [
       "0"
      ]
     },
     "execution_count": 2,
     "metadata": {},
     "output_type": "execute_result"
    }
   ],
   "source": [
    "subprocess.call(\"pwd\")\n",
    "#os.chdir(cwd)"
   ]
  },
  {
   "cell_type": "code",
   "execution_count": 3,
   "id": "095b03a0",
   "metadata": {},
   "outputs": [],
   "source": [
    "#subprocess.call(\"./Easyband-Entries.py\")"
   ]
  },
  {
   "cell_type": "code",
   "execution_count": 4,
   "id": "c8f37706",
   "metadata": {},
   "outputs": [],
   "source": [
    "#subprocess.call(\"./EASYCAP.py\")"
   ]
  },
  {
   "cell_type": "code",
   "execution_count": 5,
   "id": "9f2b0242",
   "metadata": {},
   "outputs": [
    {
     "name": "stdout",
     "output_type": "stream",
     "text": [
      "MLDATA\n",
      "2022-05-18 17:03:44.333467\n",
      "2022-05-18\n"
     ]
    },
    {
     "ename": "KeyboardInterrupt",
     "evalue": "",
     "output_type": "error",
     "traceback": [
      "\u001b[0;31m---------------------------------------------------------------------------\u001b[0m",
      "\u001b[0;31mKeyboardInterrupt\u001b[0m                         Traceback (most recent call last)",
      "\u001b[0;32m/var/folders/t3/7kfp7_l943j4z41f1p54xwdm0000gn/T/ipykernel_54082/1691424033.py\u001b[0m in \u001b[0;36m<module>\u001b[0;34m\u001b[0m\n\u001b[1;32m     43\u001b[0m \u001b[0;32mwhile\u001b[0m \u001b[0;32mTrue\u001b[0m\u001b[0;34m:\u001b[0m\u001b[0;34m\u001b[0m\u001b[0;34m\u001b[0m\u001b[0m\n\u001b[1;32m     44\u001b[0m     \u001b[0mschedule\u001b[0m\u001b[0;34m.\u001b[0m\u001b[0mrun_pending\u001b[0m\u001b[0;34m(\u001b[0m\u001b[0;34m)\u001b[0m\u001b[0;34m\u001b[0m\u001b[0;34m\u001b[0m\u001b[0m\n\u001b[0;32m---> 45\u001b[0;31m     \u001b[0mtime\u001b[0m\u001b[0;34m.\u001b[0m\u001b[0msleep\u001b[0m\u001b[0;34m(\u001b[0m\u001b[0;36m1\u001b[0m\u001b[0;34m)\u001b[0m\u001b[0;34m\u001b[0m\u001b[0;34m\u001b[0m\u001b[0m\n\u001b[0m",
      "\u001b[0;31mKeyboardInterrupt\u001b[0m: "
     ]
    }
   ],
   "source": [
    "thistime = datetime.datetime.now() \n",
    "thisdate = date.today()\n",
    "\n",
    "def easycap():\n",
    "    print(\"EasyCap\")\n",
    "    print(str(thistime))\n",
    "    print(str(thisdate))\n",
    "    subprocess.call(\"./EASYCAP.py\")\n",
    "    \n",
    "def easyband():\n",
    "    print(\"EasyBand\")\n",
    "    print(str(thistime))\n",
    "    print(str(thisdate))\n",
    "    subprocess.call(\"./Easyband-Entries.py\")\n",
    "    \n",
    "def strsi3d1h():\n",
    "    print(\"STRSI3D1H\")\n",
    "    print(str(thistime))\n",
    "    print(str(thisdate))\n",
    "    subprocess.call(\"./STRSI3D1H.py\")\n",
    "    \n",
    "def mldata():\n",
    "    print(\"MLDATA\")\n",
    "    print(str(thistime))\n",
    "    print(str(thisdate))\n",
    "    subprocess.call(\"./datacollector.py\")\n",
    "    \n",
    "def fixentry():\n",
    "    print(\"fixentry\")\n",
    "    print(str(thistime))\n",
    "    print(str(thisdate))\n",
    "    subprocess.call(\"./FixEntries.py\")\n",
    "    \n",
    "schedule.every(7).days.do(easycap)\n",
    "schedule.every(24).hours.do(easyband)\n",
    "#schedule.every(1).hour.do(strsi3d1h)\n",
    "schedule.every(1).hour.do(fixentry)\n",
    "schedule.every(15).minutes.do(mldata)\n",
    "\n",
    "\n",
    "\n",
    "  \n",
    "while True:\n",
    "    schedule.run_pending()\n",
    "    time.sleep(1)"
   ]
  },
  {
   "cell_type": "code",
   "execution_count": null,
   "id": "19638c50",
   "metadata": {},
   "outputs": [],
   "source": []
  },
  {
   "cell_type": "code",
   "execution_count": null,
   "id": "49977869",
   "metadata": {},
   "outputs": [],
   "source": []
  }
 ],
 "metadata": {
  "kernelspec": {
   "display_name": "Python 3 (ipykernel)",
   "language": "python",
   "name": "python3"
  },
  "language_info": {
   "codemirror_mode": {
    "name": "ipython",
    "version": 3
   },
   "file_extension": ".py",
   "mimetype": "text/x-python",
   "name": "python",
   "nbconvert_exporter": "python",
   "pygments_lexer": "ipython3",
   "version": "3.8.12"
  }
 },
 "nbformat": 4,
 "nbformat_minor": 5
}
