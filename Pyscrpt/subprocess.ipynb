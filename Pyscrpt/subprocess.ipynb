{
 "cells": [
  {
   "cell_type": "code",
   "execution_count": 32,
   "id": "703640b5",
   "metadata": {},
   "outputs": [
    {
     "name": "stdout",
     "output_type": "stream",
     "text": [
      "/home/haytham/ML/Pyscrpt\n"
     ]
    }
   ],
   "source": [
    "import os\n",
    "import subprocess\n",
    "\n",
    "cwd = os.getcwd()\n",
    "print(cwd)"
   ]
  },
  {
   "cell_type": "code",
   "execution_count": 33,
   "id": "3bb19bef",
   "metadata": {},
   "outputs": [
    {
     "name": "stdout",
     "output_type": "stream",
     "text": [
      "/home/haytham/ML/Pyscrpt\n"
     ]
    }
   ],
   "source": [
    "subprocess.call(\"pwd\")\n",
    "os.chdir(cwd)"
   ]
  },
  {
   "cell_type": "code",
   "execution_count": 34,
   "id": "095b03a0",
   "metadata": {},
   "outputs": [
    {
     "name": "stdout",
     "output_type": "stream",
     "text": [
      "https://api.binance.com/api/v1/klines?symbol=STEEMETH&interval=1w\n",
      "    Indicator   ATH  CLOSERATIO       RED    ORANGE     GREEN  Current\n",
      "161  NANOUSDT  17.7    0.013914  9.021524  4.510762  2.255381    2.224\n",
      "Low EASY Band\n",
      "    Indicator   ATH  CLOSERATIO       RED    ORANGE     GREEN  Current\n",
      "161  NANOUSDT  17.7    0.013914  9.021524  4.510762  2.255381    2.224\n",
      "Empty DataFrame\n",
      "Columns: [Indicator, ATH, CLOSERATIO, RED, ORANGE, GREEN, Current]\n",
      "Index: []\n",
      "Empty DataFrame\n",
      "Columns: [Indicator, ATH, CLOSERATIO, RED, ORANGE, GREEN, Current]\n",
      "Index: []\n",
      "<built-in method today of type object at 0x7f5ecf1c3620>\n"
     ]
    },
    {
     "name": "stderr",
     "output_type": "stream",
     "text": [
      "/home/haytham/anaconda3/envs/ML20/lib/python3.7/site-packages/pandas/util/_decorators.py:311: SettingWithCopyWarning: \n",
      "A value is trying to be set on a copy of a slice from a DataFrame\n",
      "\n",
      "See the caveats in the documentation: https://pandas.pydata.org/pandas-docs/stable/user_guide/indexing.html#returning-a-view-versus-a-copy\n",
      "  return func(*args, **kwargs)\n",
      "sys:1: FutureWarning: Could not cast to float64, falling back to object. This behavior is deprecated. In a future version, when a dtype is passed to 'DataFrame', either all columns will be cast to that dtype, or a TypeError will be raised\n"
     ]
    },
    {
     "data": {
      "text/plain": [
       "0"
      ]
     },
     "execution_count": 34,
     "metadata": {},
     "output_type": "execute_result"
    }
   ],
   "source": [
    "subprocess.call(\"./Easyband-Entries.py\")"
   ]
  },
  {
   "cell_type": "code",
   "execution_count": 37,
   "id": "c8f37706",
   "metadata": {},
   "outputs": [
    {
     "name": "stdout",
     "output_type": "stream",
     "text": [
      "    Indicator  lowest_entry  supply_ratio  cap_ratio\n",
      "0    ANKRUSDT      0.054150      0.816290   0.816290\n",
      "1    WAXPUSDT      0.317400      0.519301   0.519301\n",
      "2      ARUSDT     30.000000      0.759220   0.759220\n",
      "3    ALGOUSDT      0.704600      0.663831   0.663831\n",
      "4     ZRXUSDT      0.500000      0.847496   0.847496\n",
      "5     KSMUSDT    150.000000      0.898010   0.898010\n",
      "6    NEARUSDT     10.320000      0.661044   0.661044\n",
      "7     LRCUSDT      0.677000      0.906496   0.906496\n",
      "8     RENUSDT      0.304700      1.000000   1.000000\n",
      "9   SUSHIUSDT      3.500000      0.771157   0.771157\n",
      "10    OMGUSDT      4.500000      1.000000   1.000000\n",
      "11   COTIUSDT      0.227700      0.524071   0.524071\n",
      "12    ONEUSDT      0.131710      0.906918   0.906918\n",
      "13   RUNEUSDT      3.709000      0.601510   0.601510\n",
      "14   CELRUSDT      0.034063      0.564545   0.564545\n",
      "15    GRTUSDT      0.316400      0.669727   0.669727\n",
      "16  MATICUSDT      1.400000      0.687289   0.687289\n",
      "17    FTMUSDT      1.150000      0.800363   0.800363\n",
      "18  AUDIOUSDT      1.000000      0.571528   0.571528\n",
      "19   IOTXUSDT      0.071090      0.999427   0.999427\n"
     ]
    },
    {
     "name": "stderr",
     "output_type": "stream",
     "text": [
      "sys:1: FutureWarning: Could not cast to float64, falling back to object. This behavior is deprecated. In a future version, when a dtype is passed to 'DataFrame', either all columns will be cast to that dtype, or a TypeError will be raised\n"
     ]
    },
    {
     "data": {
      "text/plain": [
       "0"
      ]
     },
     "execution_count": 37,
     "metadata": {},
     "output_type": "execute_result"
    }
   ],
   "source": [
    "subprocess.call(\"./EASYCAP.py\")"
   ]
  },
  {
   "cell_type": "code",
   "execution_count": null,
   "id": "9f2b0242",
   "metadata": {},
   "outputs": [],
   "source": []
  }
 ],
 "metadata": {
  "kernelspec": {
   "display_name": "Python 3 (ipykernel)",
   "language": "python",
   "name": "python3"
  },
  "language_info": {
   "codemirror_mode": {
    "name": "ipython",
    "version": 3
   },
   "file_extension": ".py",
   "mimetype": "text/x-python",
   "name": "python",
   "nbconvert_exporter": "python",
   "pygments_lexer": "ipython3",
   "version": "3.7.11"
  }
 },
 "nbformat": 4,
 "nbformat_minor": 5
}
