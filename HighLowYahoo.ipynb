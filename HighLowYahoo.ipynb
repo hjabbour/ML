{
 "cells": [
  {
   "cell_type": "code",
   "execution_count": 2,
   "id": "d3661386",
   "metadata": {},
   "outputs": [],
   "source": [
    "import numpy as np \n",
    "import pandas as pd \n",
    "from datetime import date\n",
    "#Data Source (Pandas Data Reader)\n",
    "from pandas_datareader import data\n",
    "import requests \n",
    "import json\n",
    "\n",
    "#Data Source(Pandas Data Reader)\n",
    "#import yfinance as yf"
   ]
  },
  {
   "cell_type": "code",
   "execution_count": 3,
   "id": "32c2e4f9",
   "metadata": {},
   "outputs": [
    {
     "name": "stdout",
     "output_type": "stream",
     "text": [
      "https://api.binance.com/api/v1/klines?symbol=STEEMETH&interval=1h\n"
     ]
    }
   ],
   "source": [
    "## draft \n",
    "import os\n",
    "live = pd.to_datetime('today')\n",
    "start = pd.to_datetime('2021-01-01')\n",
    "end = pd.to_datetime('2021-06-30')\n",
    "\n",
    "root_url = 'https://api.binance.com/api/v1/klines'\n",
    "symbol = 'STEEMETH'\n",
    "interval = '1h'\n",
    "url = root_url + '?symbol=' + symbol + '&interval=' + interval\n",
    "print(url)\n"
   ]
  },
  {
   "cell_type": "code",
   "execution_count": 18,
   "id": "e40e9fa5",
   "metadata": {
    "scrolled": true
   },
   "outputs": [
    {
     "name": "stdout",
     "output_type": "stream",
     "text": [
      "https://api.binance.com/api/v1/klines?symbol=STEEMETH&interval=1h\n",
      "['GNOUSDT']\n",
      "['GNOUSDT', 'NXSUSDT']\n",
      "['GNOUSDT', 'NXSUSDT', 'BRDUSDT']\n"
     ]
    },
    {
     "data": {
      "text/plain": [
       "2         XRP\n",
       "14       MBOX\n",
       "27        BCH\n",
       "29     ALPACA\n",
       "60        GNO\n",
       "64        RAY\n",
       "82        NXS\n",
       "85        XMR\n",
       "90        BRD\n",
       "104       NEO\n",
       "108      IOTA\n",
       "122       TVK\n",
       "132      GHST\n",
       "138      ALGO\n",
       "142      FLOW\n",
       "166       LTC\n",
       "174       EOS\n",
       "186       ETH\n",
       "196      MINA\n",
       "207       BAT\n",
       "212      ATOM\n",
       "249     TRIBE\n",
       "253      FARM\n",
       "257      LINK\n",
       "267       REQ\n",
       "269       FOR\n",
       "271       XTZ\n",
       "282      WAXP\n",
       "283     QUICK\n",
       "Name: Indicator, dtype: object"
      ]
     },
     "execution_count": 18,
     "metadata": {},
     "output_type": "execute_result"
    }
   ],
   "source": [
    "import os\n",
    "live = pd.to_datetime('today')\n",
    "start = pd.to_datetime('2021-01-01')\n",
    "end = pd.to_datetime('2021-07-30')\n",
    "badtickers =[]\n",
    "\n",
    "root_url = 'https://api.binance.com/api/v1/klines'\n",
    "symbol = 'STEEMETH'\n",
    "interval = '1h'\n",
    "url = root_url + '?symbol=' + symbol + '&interval=' + interval\n",
    "print(url)\n",
    "\n",
    "\n",
    "\n",
    "## adjust the timeperiods fro 15 x 4 or it will be 15min 1 hour and 2 hours \n",
    "## from 5 minutes charts the multiplier should be x12 from 5 to 60 \n",
    "\n",
    "#ada2021 = ada15.loc[(ada15['date']> start)& (ada15['date']< end)].copy()\n",
    "directory = '/home/haytham/crypt/freqtrade/user_data/data/binance'\n",
    "table = []\n",
    "for filename in os.listdir(directory):\n",
    "    if filename.endswith('1h.json'):\n",
    "        df = pd.read_json(directory+'/'+filename)\n",
    "        df.columns=['date','open','high','low','close','volume']\n",
    "        df.date = pd.to_datetime(df['date'],unit='ms')\n",
    "        #df = df.loc[(df['date']> start)& (df['date']< end)].copy()\n",
    "        df = df.loc[(df['date']> start)& (df['date']< end)]\n",
    "        alth = df.close.max()\n",
    "        altl = df.close.min()\n",
    "        \n",
    "        \n",
    "        #now = df.close[df.close.idxmax()]\n",
    "#get the live price \n",
    "        array = filename.split(\"_\")\n",
    "        symbol =array[0]+'USDT'\n",
    "        url = root_url + '?symbol=' + symbol + '&interval=' + interval\n",
    "        data = json.loads(requests.get(url).text)\n",
    "        #print(f\"data length for:{symbol}=\",len(data))\n",
    "        if len(data) > 112 :\n",
    "            dflive = pd.DataFrame(data ,columns =['open_time',\n",
    "              'o', 'h', 'l', 'c', 'v',\n",
    "              'close_time', 'qav', 'num_trades',\n",
    "              'taker_base_vol', 'taker_quote_vol', 'ignore'])\n",
    "            dflive.open_time = pd.to_datetime(dflive['open_time'],unit='ms')\n",
    "            lastrow = dflive.iloc[-1]\n",
    "            now= float(lastrow.c)\n",
    "        else:\n",
    "            now = 0\n",
    "            badtickers.append(symbol)\n",
    "            print(badtickers)\n",
    "        #dflive.index = [dt.datetime.fromtimestamp(x/1000.0) for x in df.close_time]\n",
    "        \n",
    "        \n",
    "        #indicator =  data.DataReader(array[0]+'-USD', 'stooq',end,live)\n",
    "        #price = indicator.loc[indicator.Close.idxmax()]\n",
    "        #now = price.Close\n",
    "        tuple =(array[0] ,alth,altl,now)\n",
    "        table.append(tuple)\n",
    "        #print(\"name is: \",array[0] ,alth,altl)\n",
    "        \n",
    "    else:\n",
    "        continue\n",
    "table[0]\n",
    "AllTime = pd.DataFrame(table,columns=['Indicator','ATH','ATL','Current'])\n",
    "AllTime['percent']=(AllTime['Current']/AllTime['ATH'])*100\n",
    "AllTime.sort_values('percent')\n",
    "#AllTime.to_csv(\"alltimeHL.csv\", mode=\"w\")\n",
    "BAD =AllTime.loc[(AllTime.ATH.isna())]\n",
    "badlist= BAD.Indicator\n",
    "badlist"
   ]
  },
  {
   "cell_type": "code",
   "execution_count": null,
   "id": "3e3dd083",
   "metadata": {},
   "outputs": [],
   "source": []
  }
 ],
 "metadata": {
  "kernelspec": {
   "display_name": "Python 3",
   "language": "python",
   "name": "python3"
  },
  "language_info": {
   "codemirror_mode": {
    "name": "ipython",
    "version": 3
   },
   "file_extension": ".py",
   "mimetype": "text/x-python",
   "name": "python",
   "nbconvert_exporter": "python",
   "pygments_lexer": "ipython3",
   "version": "3.8.10"
  }
 },
 "nbformat": 4,
 "nbformat_minor": 5
}
